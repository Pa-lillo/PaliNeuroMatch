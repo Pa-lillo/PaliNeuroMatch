{
  "nbformat": 4,
  "nbformat_minor": 0,
  "metadata": {
    "colab": {
      "name": "W3D1_Tutorial1",
      "provenance": [],
      "collapsed_sections": [
        "jWmfLbhzBpfz"
      ],
      "toc_visible": true,
      "include_colab_link": true
    },
    "interpreter": {
      "hash": "3e19903e646247cead5404f55ff575624523d45cf244c3f93aaf5fa10367032a"
    },
    "kernel": {
      "display_name": "Python 3",
      "language": "python",
      "name": "python3"
    },
    "kernelspec": {
      "display_name": "Python 3.7.10 64-bit ('nma': conda)",
      "name": "python3"
    },
    "language_info": {
      "codemirror_mode": {
        "name": "ipython",
        "version": 3
      },
      "file_extension": ".py",
      "mimetype": "text/x-python",
      "name": "python",
      "nbconvert_exporter": "python",
      "pygments_lexer": "ipython3",
      "version": "3.7.11"
    },
    "widgets": {
      "application/vnd.jupyter.widget-state+json": {
        "d8d905548ab3425bbe83bf8ffdf66cc1": {
          "model_module": "@jupyter-widgets/controls",
          "model_name": "TabModel",
          "state": {
            "_view_name": "TabView",
            "_dom_classes": [],
            "_titles": {
              "0": "Youtube",
              "1": "Bilibili"
            },
            "_model_name": "TabModel",
            "_view_module": "@jupyter-widgets/controls",
            "selected_index": 0,
            "_model_module_version": "1.5.0",
            "_view_count": null,
            "_view_module_version": "1.5.0",
            "box_style": "",
            "layout": "IPY_MODEL_366713481732422e83d35b4fe879533b",
            "_model_module": "@jupyter-widgets/controls",
            "children": [
              "IPY_MODEL_a5f2e06347be4d2f87c668be64c6b77f",
              "IPY_MODEL_582c70d32ba64f16aaac232ae337a7bd"
            ]
          }
        },
        "366713481732422e83d35b4fe879533b": {
          "model_module": "@jupyter-widgets/base",
          "model_name": "LayoutModel",
          "state": {
            "_view_name": "LayoutView",
            "grid_template_rows": null,
            "right": null,
            "justify_content": null,
            "_view_module": "@jupyter-widgets/base",
            "overflow": null,
            "_model_module_version": "1.2.0",
            "_view_count": null,
            "flex_flow": null,
            "width": null,
            "min_width": null,
            "border": null,
            "align_items": null,
            "bottom": null,
            "_model_module": "@jupyter-widgets/base",
            "top": null,
            "grid_column": null,
            "overflow_y": null,
            "overflow_x": null,
            "grid_auto_flow": null,
            "grid_area": null,
            "grid_template_columns": null,
            "flex": null,
            "_model_name": "LayoutModel",
            "justify_items": null,
            "grid_row": null,
            "max_height": null,
            "align_content": null,
            "visibility": null,
            "align_self": null,
            "height": null,
            "min_height": null,
            "padding": null,
            "grid_auto_rows": null,
            "grid_gap": null,
            "max_width": null,
            "order": null,
            "_view_module_version": "1.2.0",
            "grid_template_areas": null,
            "object_position": null,
            "object_fit": null,
            "grid_auto_columns": null,
            "margin": null,
            "display": null,
            "left": null
          }
        },
        "a5f2e06347be4d2f87c668be64c6b77f": {
          "model_module": "@jupyter-widgets/output",
          "model_name": "OutputModel",
          "state": {
            "_view_name": "OutputView",
            "msg_id": "",
            "_dom_classes": [],
            "_model_name": "OutputModel",
            "outputs": [
              {
                "output_type": "stream",
                "metadata": {
                  "tags": []
                },
                "text": "Video available at https://youtube.com/watch?v=Hcx2_JTpf2M\n",
                "stream": "stdout"
              },
              {
                "output_type": "display_data",
                "metadata": {
                  "tags": []
                },
                "text/html": "\n        <iframe\n            width=\"854\"\n            height=\"480\"\n            src=\"https://www.youtube.com/embed/Hcx2_JTpf2M?fs=1&rel=0\"\n            frameborder=\"0\"\n            allowfullscreen\n        ></iframe>\n        ",
                "text/plain": "<IPython.lib.display.YouTubeVideo at 0x7f34ee700050>",
                "image/jpeg": "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\n"
              }
            ],
            "_view_module": "@jupyter-widgets/output",
            "_model_module_version": "1.0.0",
            "_view_count": null,
            "_view_module_version": "1.0.0",
            "layout": "IPY_MODEL_65e5b5ee552b4014891f01e10f305939",
            "_model_module": "@jupyter-widgets/output"
          }
        },
        "582c70d32ba64f16aaac232ae337a7bd": {
          "model_module": "@jupyter-widgets/output",
          "model_name": "OutputModel",
          "state": {
            "_view_name": "OutputView",
            "msg_id": "",
            "_dom_classes": [],
            "_model_name": "OutputModel",
            "outputs": [
              {
                "output_type": "stream",
                "metadata": {
                  "tags": []
                },
                "text": "Video available at https://www.bilibili.com/video/BV1Ch41167jN\n",
                "stream": "stdout"
              },
              {
                "output_type": "display_data",
                "metadata": {
                  "tags": []
                },
                "text/html": "\n        <iframe\n            width=\"854\"\n            height=\"480\"\n            src=\"https://player.bilibili.com/player.html?bvid=BV1Ch41167jN&page=1?fs=1\"\n            frameborder=\"0\"\n            allowfullscreen\n        ></iframe>\n        ",
                "text/plain": "<__main__.BiliVideo at 0x7f34f1581190>"
              }
            ],
            "_view_module": "@jupyter-widgets/output",
            "_model_module_version": "1.0.0",
            "_view_count": null,
            "_view_module_version": "1.0.0",
            "layout": "IPY_MODEL_def606eac846430480b540dac800d33a",
            "_model_module": "@jupyter-widgets/output"
          }
        },
        "65e5b5ee552b4014891f01e10f305939": {
          "model_module": "@jupyter-widgets/base",
          "model_name": "LayoutModel",
          "state": {
            "_view_name": "LayoutView",
            "grid_template_rows": null,
            "right": null,
            "justify_content": null,
            "_view_module": "@jupyter-widgets/base",
            "overflow": null,
            "_model_module_version": "1.2.0",
            "_view_count": null,
            "flex_flow": null,
            "width": null,
            "min_width": null,
            "border": null,
            "align_items": null,
            "bottom": null,
            "_model_module": "@jupyter-widgets/base",
            "top": null,
            "grid_column": null,
            "overflow_y": null,
            "overflow_x": null,
            "grid_auto_flow": null,
            "grid_area": null,
            "grid_template_columns": null,
            "flex": null,
            "_model_name": "LayoutModel",
            "justify_items": null,
            "grid_row": null,
            "max_height": null,
            "align_content": null,
            "visibility": null,
            "align_self": null,
            "height": null,
            "min_height": null,
            "padding": null,
            "grid_auto_rows": null,
            "grid_gap": null,
            "max_width": null,
            "order": null,
            "_view_module_version": "1.2.0",
            "grid_template_areas": null,
            "object_position": null,
            "object_fit": null,
            "grid_auto_columns": null,
            "margin": null,
            "display": null,
            "left": null
          }
        },
        "def606eac846430480b540dac800d33a": {
          "model_module": "@jupyter-widgets/base",
          "model_name": "LayoutModel",
          "state": {
            "_view_name": "LayoutView",
            "grid_template_rows": null,
            "right": null,
            "justify_content": null,
            "_view_module": "@jupyter-widgets/base",
            "overflow": null,
            "_model_module_version": "1.2.0",
            "_view_count": null,
            "flex_flow": null,
            "width": null,
            "min_width": null,
            "border": null,
            "align_items": null,
            "bottom": null,
            "_model_module": "@jupyter-widgets/base",
            "top": null,
            "grid_column": null,
            "overflow_y": null,
            "overflow_x": null,
            "grid_auto_flow": null,
            "grid_area": null,
            "grid_template_columns": null,
            "flex": null,
            "_model_name": "LayoutModel",
            "justify_items": null,
            "grid_row": null,
            "max_height": null,
            "align_content": null,
            "visibility": null,
            "align_self": null,
            "height": null,
            "min_height": null,
            "padding": null,
            "grid_auto_rows": null,
            "grid_gap": null,
            "max_width": null,
            "order": null,
            "_view_module_version": "1.2.0",
            "grid_template_areas": null,
            "object_position": null,
            "object_fit": null,
            "grid_auto_columns": null,
            "margin": null,
            "display": null,
            "left": null
          }
        },
        "6da9883809ad466e8af470daab0e210f": {
          "model_module": "@jupyter-widgets/controls",
          "model_name": "TabModel",
          "state": {
            "_view_name": "TabView",
            "_dom_classes": [],
            "_titles": {
              "0": "Youtube",
              "1": "Bilibili"
            },
            "_model_name": "TabModel",
            "_view_module": "@jupyter-widgets/controls",
            "selected_index": 0,
            "_model_module_version": "1.5.0",
            "_view_count": null,
            "_view_module_version": "1.5.0",
            "box_style": "",
            "layout": "IPY_MODEL_000a88f3e983418888fc3e7fcbdaa34f",
            "_model_module": "@jupyter-widgets/controls",
            "children": [
              "IPY_MODEL_8e11285168af44d1892f7e35208c03d9",
              "IPY_MODEL_72043f26d5014a9b89493b9875991eef"
            ]
          }
        },
        "000a88f3e983418888fc3e7fcbdaa34f": {
          "model_module": "@jupyter-widgets/base",
          "model_name": "LayoutModel",
          "state": {
            "_view_name": "LayoutView",
            "grid_template_rows": null,
            "right": null,
            "justify_content": null,
            "_view_module": "@jupyter-widgets/base",
            "overflow": null,
            "_model_module_version": "1.2.0",
            "_view_count": null,
            "flex_flow": null,
            "width": null,
            "min_width": null,
            "border": null,
            "align_items": null,
            "bottom": null,
            "_model_module": "@jupyter-widgets/base",
            "top": null,
            "grid_column": null,
            "overflow_y": null,
            "overflow_x": null,
            "grid_auto_flow": null,
            "grid_area": null,
            "grid_template_columns": null,
            "flex": null,
            "_model_name": "LayoutModel",
            "justify_items": null,
            "grid_row": null,
            "max_height": null,
            "align_content": null,
            "visibility": null,
            "align_self": null,
            "height": null,
            "min_height": null,
            "padding": null,
            "grid_auto_rows": null,
            "grid_gap": null,
            "max_width": null,
            "order": null,
            "_view_module_version": "1.2.0",
            "grid_template_areas": null,
            "object_position": null,
            "object_fit": null,
            "grid_auto_columns": null,
            "margin": null,
            "display": null,
            "left": null
          }
        },
        "8e11285168af44d1892f7e35208c03d9": {
          "model_module": "@jupyter-widgets/output",
          "model_name": "OutputModel",
          "state": {
            "_view_name": "OutputView",
            "msg_id": "",
            "_dom_classes": [],
            "_model_name": "OutputModel",
            "outputs": [
              {
                "output_type": "stream",
                "metadata": {
                  "tags": []
                },
                "text": "Video available at https://youtube.com/watch?v=kAdBjWOI_yE\n",
                "stream": "stdout"
              },
              {
                "output_type": "display_data",
                "metadata": {
                  "tags": []
                },
                "text/html": "\n        <iframe\n            width=\"854\"\n            height=\"480\"\n            src=\"https://www.youtube.com/embed/kAdBjWOI_yE?fs=1&rel=0\"\n            frameborder=\"0\"\n            allowfullscreen\n        ></iframe>\n        ",
                "text/plain": "<IPython.lib.display.YouTubeVideo at 0x7f34f27f1810>",
                "image/jpeg": "/9j/4AAQSkZJRgABAQAAAQABAAD/2wCEAAUDBAkICAgICAgICAgICAgICAgICQgICAgICAgICAgICAgIChALCAgOCQgIDRUNDhERExMTCAsWGBYSGBASExIBBQUFCAcIDQgIDhINDQ8SEhISEhISEhISEhISEhISEhISEhISEhISEhISEhISEhISEhISEhISEhISEhISEhISEv/AABEIAWgB4AMBIgACEQEDEQH/xAAdAAEAAgIDAQEAAAAAAAAAAAAABgcDBQIECAEJ/8QAWRAAAQMDAQMGBwkMCAMFCQAAAQACAwQFERIGEyEHFBYxQZIIIlFSYdHSFTJTVHGBkZPiGCMzNkJVcpShsbK0JDRic3R1s8E3dvAlNYK14QkXVmODlcLT8f/EABoBAQEAAwEBAAAAAAAAAAAAAAABAwQFAgb/xAAlEQEAAgICAgEFAQEBAAAAAAAAARECAwQSITFBEyJRYXGBkRT/2gAMAwEAAhEDEQA/APGSIiAiIgIiICIiAiIgIiICIiAiIgIiICIiAiIgIiICIiAiIgIiICIiAiIgIiICIiAiIgIiICIiAiIgIiICIiAiIgIiICIiAiIgIiICIiAiIgIiICIiAiIgIiICIiAiIgIiICIiAiIgIiICIiAiIgIiICIiAiIgIiICIiAiIgIiICIiAiIgIiICIiAiIgIiICIiAiIgIiICLf8ARSfz4e8/2E6KT+fD3n+wg0CLf9FJ/Ph7z/YTopP58Pef7CDQIt/0Un8+HvP9hOik/nw95/sINAi3/RSfz4e8/wBhOik/nw95/sINAi3/AEUn8+HvP9hOik/nw95/sINAi3/RSfz4e8/2E6KT+fD3n+wg0CLf9FJ/Ph7z/YTopP58Pef7CDQIt/0Un8+HvP8AYTopP58Pef7CDQIt/wBFJ/Ph7z/YTopP58Pef7CDQIt/0Un8+HvP9hOik/nw95/sINAi3/RSfz4e8/2E6KT+fD3n+wg0CLf9FJ/Ph7z/AGE6KT+fD3n+wg0CLf8ARSfz4e8/2E6KT+fD3n+wg0CLf9FJ/Ph7z/YTopP58Pef7CDQIt/0Un8+HvP9hOik/nw95/sINAi3/RSfz4e8/wBhOik/nw95/sINAi3/AEUn8+HvP9hOik/nw95/sINAi3/RSfz4e8/2E6KT+fD3n+wg0CLf9FJ/Ph7z/YTopP58Pef7CDQIt/0Un8+HvP8AYTopP58Pef7CDQIt/wBFJ/Ph7z/YTopP58Pef7CDQIt/0Un8+HvP9hOik/nw95/sINAi3/RSfz4e8/2E6KT+fD3n+wg0CLf9FJ/Ph7z/AGE6KT+fD3n+wg0CLf8ARSfz4e8/2E6KT+fD3n+wg0CLf9FJ/Ph7z/YTopP58Pef7CDQIt/0Un8+HvP9hOik/nw95/sINAi3/RSfz4e8/wBhOik/nw95/sINAi3/AEUn8+HvP9hOik/nw95/sINAi3/RSfz4e8/2E6KT+fD3n+wgmaIi9PIiIgIiICIiAiIgIiICIiAiIgIiICIiAiIgIiICIiAiIgIiICIiAiIgIiICIiAiIgIiICIiAiIgIiICIiAiIgIiICIiAiIgIiICIiAiKNS7VhrnN3BOkkZ3nkOPMUVJUUX6XD4ufrfsJ0uHxc/W/YQpKEUX6XD4ufrfsJ0uHxc/W/YQpKEUX6XD4ufrfsJ0uHxc/W/YQpKEUX6XD4ufrfsJ0uHxc/W/YQpKEUX6XD4ufrfsJ0uHxc/W/YQpKEUX6XD4ufrfsJ0uHxc/W/YQpKEUX6XD4ufrfsJ0uHxc/W/YQpKEUX6XD4ufrfsJ0uHxc/W/YQpKEUX6XD4ufrfsJ0uHxc/W/YQpKEUX6XD4ufrfsJ0uHxc/W/YQpKEUX6XD4ufrfsJ0uHxc/W/YQpKEUX6XD4ufrfsJ0uHxc/W/YQpKEUX6XD4ufrfsJ0uHxc/W/YQpKEUX6XD4ufrfsJ0uHxc/W/YQpKEUX6XD4ufrfsJ0uHxc/W/YQpKEUco9qBJJHHuCNb2MzvM41ODc40cetSNAREVQREQEREBERAREQEREBERAREQEREBERAREQEREBERACrKr/CP/AE3fxFWaFWVX+Ef+m7+IqSsMSIiiiIiAiIgKScmOy3u3eLdaRPzbn9Syn3+7326158fda268Y6tQ+VRtWR4MH447O/5nB/ugteo8Fq2ivktDNubb7rsIYLfNRiCd0jo2ysjDTXFznFjmuw1rjg5wqF5TdiK3Z251FpuLGNqacsOuJxfBNHIwPjmgkc1pfE5p6yAQQ5pAc0gewtqeQyS6coFZfn3W3ClpKuhuD7fRzOqL0XUNNRuZA+kDWinMjoR4xeSA9hAOeHnbl927Ze9sn190ttZS0NPU0dNNbJ2mnuAt9K9pmimbqbuquRjpnYDvE3rQHHTqIVCi9V8j22my1+u9JYG7A2+noKwvpm1e/kqa6D71IYpJakxCXLiwNJEgc3XnU4t46zkl2NslDyhXXZa6UUNfQTy1dJb3VOoyU8rBzqkG9a4eMafeREj3zzGRjqQeZ0Vm2zklqJNtBsk8vDhdH0skw0h/MYtU76xgIIyaFpmaD5zQVbMXJnZ9p+UOttNupY7fYLFAW1vMw9hqnUUjY6hu8dnTK+rndFqByY6Yubx6g8sovYmw9NYNpbi/ZyXk/mslBUx1MVuvUcVRFXQOghkkgmqp5YR472RE4e+Qay1jhIHFyq/wcuSmiuG2tVYby4Sw2t1ybLC17oRWz2+oFNuQ5rg9rCS+QhpzpiIz1lBRam3J1sZR3SivlVV3yjtUtqojVUlJU7ne3aYQ1UgpKXeVEbt5qp42eI2Q5qGcOoGyOWfbm3RR3Gy1HJ5RWGt0llLUh25rKXTL4k500wbVscGOAc1+h2okOcOvD4M+yVvuNh29qa6jhqZ7bYnVNBLKCXUs4o7rJvYsHg7XDEePwYQUOinfJHtLZbW+rqLzY/d2bRCLfTyVD6aljk1P38lSWZ3o0FmGOY8Eg+94FXrHb7FtjsftFcodmqTZ642GHnUE1AC2KeMRPnwcRsbKHNgmYQ4O05Y4EZwg8novRfgd7C2i9UG1/uzHA1lJboHQ3CZuo2sSw3PfVsY1AZjETJOPwIU05GK/YjaK5v2Tpdk2x0clNUc1vVRUF90qH07N46aQ7veUznjePGmUgaWjQA7SwPICLa7X2nmFxr6HXvOZVtVSbwjBfzad8OvHZnRnHpWqQEREBERAREQduz/1mn/v4v8AUarHVcWf+s0/9/F/qNVjqwkiIiqCIiAiIgIiICIiAiIgIiICIiAiIgIiICIiAiIgIiIAVZVf4R/6bv4irNCrKr/CP/Td/EVJWGJERRRERAREQFZHgwfjjs7/AJnB/uq3XZtlfNSzR1FNNLTzwuD4p4JHxTRPHU+OSMhzHDygoPVnLXyQbWV23lbdbHRTwsdWUUlJdDNBTwwmOjpInzlzn6zGxzH5Aa4uDXANdnBlXLbbLJeOVPZy3VQgnAo3MurA9rY5aiKKuqrfSVGHcZS5sILHcXMmhbxBAHk2TlO2gcC120N8c0jBa66V5BHkIM3EKLtqHiQSh7xKH7wSBzhIJA7UHh+ch+rjnryg952Ko24G2baaSmbatkaG4SRRxwR0FJbTbQ58VDol/CVE02af72w5D5caIxlrfOfhSw19n27r7luZqZ/ujBcLdUSRPbFMYG00sc0D3DTM1sjWg6ScOBBwRhVxtDt/ebiyKOvvF0rI4XNfEypramZjJGZLJQ2SQjejJ8f33pXU2n2quV2fE653GtuD4m7uF1bUzVBiadIIY6d50A6WknhkjJyeKD3vtTcrZRUVbyo02htXXbMUlNSQua1+m4VD9DHS6T98ma80cDse9ZSS8cZXnjwEtt4LftJU09fUCEXqkdSx1MrhqNfvmSwh0shwHSffgC7Op7ox2rp+EfthbYrBs1sjYq2Kvo7bAay4VUGvcz3GQyA6DJhzfvstdLpOQBUxAHxVQKD1ntXdeVqhuMlvZJc60CV7IKykttBLRzxBxEc3OGUpjpw5oDtMrmubnBAKpXZzZvae47SXM0LJ3bS0FRXXCuNPNTwVLKqKtENc+J0b2xPfzioILIiQ4OdpBHBail5VdoooBTR7Q3pkAAa2NlxrGhrQMBjCJcsjxw0jA9C0Fr2hrqWpdW0tdWU1Y8vc+rgqJoal5kdrkLp43iRxc7iSTxPFB7T2brrttBsptHFyh2nm0Fro5JaG61tHzCt502GY7yCJzW6pmuEAbJC1rZN5uyJNRCqzwRPxb5S/+W3/AMhelSG1O3t4usbYbld7lXQsLS2Gqq6iaIOaCA/dPeW7zBPjYzx61rLTfqykjqYaSsq6WKsj3NXFTzzQx1UJa9hiqWRuDZ49Mkg0vBGJHDtKD0v4IOzw6N7R3q00FJc9q6KZkNuhqmxyupIXRRO5xTxye9ne19ZpP5ZpQwHBcDZmwdPthXbJ7Yx7Tc5mr621VHuTQSMpm1rmilqmzbuhpGB7Ncr4WNaW5c5uAOrPiHZfaWvtc3OLbXVdBOW6XS0k8tO9zNQdoeYnDXHkA6XZBx1LvUm315irX3KO8XNtwkiMElbz2pNVJAS07l85k1viy1h0kkZY09YCC9PBPppIdnuU+GaN8UsWz8scsUjXMkjkZQ3xr45GOAcx7XAgg8QQVHPAS/Ha3/4a4/ycqqGm2ouMRrTHca6M3IPFxLKqoZz8SbzeCt0v/pQdvpc7zVnevz74rrWO8VVDM2poaqpo6hgc1s9LNLTzND2lrw2WFwcAWkggHiCg3XK7+MN+/wA5un89OoustXUPlkfLK98ssr3SSSSOc+SSR7i573vcSXvLiSSeJJKxICIiAiIgIiIO3Z/6zT/38X+o1WOq4s/9Zp/7+L/UarHVhJERFUEREBERAREQEREBERAREQEREBERAREQEREBERAREQAqyq/wj/03fxFWaFWVX+Ef+m7+IqSsMSIiiiIiAiIgKef+5raf/wCG73/9vqv/ANaga9g+HbyiXqz7SUUFru1fQwPslNO+GmnkjidM6vuTHSOjadJeWRxgnHUxvkQeV9pNlLlbNAuVtr7eZM7sVtJUUmvHE6N+xur5lpl6+8F/lan2smqdj9rTHdqW5Us5pJp2RtqGSwR710OuNg1OETJZmTfhI3w8CcjRRFv5ILjW7U1uy9va2WppKysgdPMTHBHTUspZz2ocxrjHCW7s8ASTKxoBJAQVwi9CO8HGkrY66LZ7a23X670EL5prVDTup3StiIbIKWp5w9tQdRDQ4N0ansBc3UCqm5KuT+4bS3KO12yNjp3sdLJJK4sgpoGFrX1FQ9rXFkQc9jeDSSXtABJAQRRbey7M19bBV1VHQ1VTT0EYlrZ4IZJYqWMtkfrqHsBETNMUhy7HBjvIrvu/IFs/STS0U/KFaI7hBrZNTOo8Qxzx5D4H1fPdDJGvBaWkBwIIIBGFpOQWyXaq2c20nt14FuoqS3MkudGaWKoNzh5tcXCETSeNTeIyZupnw2fyQgpRFZvIdyRTbSi4VUldT2m1WqJstwuVU1z2RB7ZHNZHEHNEr9MTifHaGjHHLmg/OVbk+s9rooau07V0d/dJUinkpoqV1HUQtMUkm/MUlQ9zosxhucAZkbxQQtuy9wNAboKGrNtbJujX7mTmgl1Bm7M+nRr1EDGesrTq8aaxXc8m81eLyBZRdBG6y80hJdPziJu/57+EHjlrtPV4q0nI7yKz32iqrvWXCksdionbua6V3FjpSWjd08Wtm9IdJG3Jc0F0rWt1Oy0BVKK89pPB/jfa6u7bM7Q0W00FubvLhBBA6jrKeIBzt6KZ8she3SyR3EtJET9OsghRzkH5Hp9rG3fm9WKeW10rKhkO4M76t8gn0QR4kbu3F0IGTn344cEFXovSll8FZlSZLf0ss7do44HyvskYE5ikaM7meqZPrY5uW6i2F2nJOHDBNObBcnFwvF9Zs9BG2Gv39RBPvid1Smk3nOnTvjDsNZunjhnLtIGS4IIcivHbbkZsNvp7judurdV3G3RTufbuZOgM09OHaqWCpdVuZJKXNLQGgnPYqOQEREBERAREQduz/wBZp/7+L/UarHVcWf8ArNP/AH8X+o1WOrCSIiKoIiICIiAiIgIi6NwrxGOAznqPl+Tt+dSZWIt3XEDrOFjNSwHGsZHWo3K+WY5wePAAuA+jK6coe08XY9GSD+0cV47SvVMo5Gu96QfkK5qGRVzmAgO7fL2jtC21uvreDZsg9j8fxY/evUZJTeosNPUsk4seHfJ1/R1rMvQIiIgiIgIiICIiAiIgBVlV/hH/AKbv4irNCrKr/CP/AE3fxFSVhiREUUREQEREBemf/aO/jVQf8v0v/mN1XmZemNqfCjorrM2ouWw9kr52RiFk1ZI2okbC173tiD5aUkMD5JDjqy93lQazwCdlpqramO6aSyjs1NVT1E7hiISVNLNRxQueeAeWzSyfJA5Wp4LG0NLdtpuUOtjbzh9a2SahjicYqiooBUVbCIXEh0bntNCCeGHPZ1cFRfKJ4Q9zuVvks1vo7ds/Z5dTZKK0Q83M0bwN5FNKCAY3kHUI2x6gS12oEg17ycba1+z9xgulsm3NTASMOGuKeJ3CWnqI84kheOBHAghrmlrmtcAvzk/5ZNh9n69twtey94pqyNkkQea98o0St0yMdFPUuYfnHAgeRSXwIbmyrr9vKihZuauriFTbYnFu9jjlmuT2s8Xh4sktGDjhnT6FALh4QFjqZXVtTyfWSa5SEyTVLp/6PNO8l0k0tEaUtkc55LiXucSSckniqr2N5Rq+zXt19tm6pKh088rqaNhFE6GokL5KJ8AcNVJggBuQW6GOaWua1wCIztcHuEgcHhzg8PBDw8E6g4HiHZznK9K+Cj+J3KV/k8f8ld11Lr4R1oqJnV79gLHJdHkyPrJ5GzRvnPEzvpjSDW/V42S8uz+Vniq55LuVSSxWjaK0so46hu0NI2kkmdK6N1KGw1cOtjAwiU4qicEj3g8qDceDpywx7N+6FBcqBt0sd3jbHX0vi71paHs3kQkOiQGORzXMcW5xGQ5unxpPyzclFgm2edthsfVz+5sdTHT11tqy50lHJK6KIRxvfmVr2STQZjkdJqE4e2TSADBeSPlNo7PSVVBc9nLbf6SpnbUNFUdzU08gj3TtxU7uQxtLQ33rQevic4G05VuXB11tUVgtVoo9n7IyUTyUdK908lRM12tpnqCxmtofpdjTkuY0lxwAAn9F/wAGKj/PG/zkCy8pn/B/ZfmWvce6x55o143m8vG83/8AY51jGrhndY/JVSw8rEjdj5NkuZRmKStFZz3fO3gImZLu9xoxjLMZ1dq7fI7y01Fho6q01VBSXux1rt5UWquH3sSjSd7BLpdunF0cTuLXAGJrm6XeMgsj/wBnQJekN0J1czFjm5zqzuNRrKLc7zPia9AqMZ/J3uO1dzwG6ncxbczUr3x7q0iSmfnEjNDbg6F+ex4w0/KFCNpvCBaLXVWjZvZ+g2Zprg0sr5aaV1VWVMZBaY+cuijLWlj5G8Q4gSO0luTmL8ivKxJszDeoY6KOrF5ouZPc+Z0RgAZOzeNDWO3h+/ngce9Qb/wK5HP29sj3uLnuddHOc4lznOdZ7iXOcTxJJOcldWr2+qdmdv7xd6SNkzqe/wB6ZLTyEtZUU8tdUxzQlzeLHFpy12Dpc1pw4AtMQ5GtuH7N3uivUdO2rfRc5xTvkMTZOcUlRSHMjWuLcCcu6uOnHatps1ynCk2iuN9ntNDcIrnNcJKm2Vo31MY7hUGofG1zmkamO0gOc08AeGTwC8ajYzZPlFiuNbs4KiybSxQS11RbZsGlqnkt1y6AXNEbpXNZvYSzSZg58R1DPkpX/V+EVT0dFW02zOy1v2dqbjGYaqviqH1c4icHAtp8wR7lw1Eji5rTxDc4IoBAREQEREBERB27P/Waf+/i/wBRqsdVxZ/6zT/38X+o1WOrCSIiKoIiICIiAiLBWS6WnHvjwA9P/X71JmldO8XDd4a0t1Hjx4/sH71qpbs4jSAC7gA4jq/QYOB+XrXaiss87ySMautzsYA8uM5d5OCzyW5lOMaXSydhLTjt6hniFgyyiWaMZpoZJHE+OM9vHgc+jyLtRhz2ktIByGkZHH5ncDwXaNM5595oGOAPFvEdrD1dS6dRTOByGOYR2tLgPocTw+fCnYjB06uIg4e0A44EcCR6R2n5l09GD6VuYXl+GOYHHqHDGflHUf3hcpbS53FjSAezrAPbgr12pOl+mpp5HMcCHEOB4EHipXY7pvvEfgSN+YOA/wB1F6iiLcntGOv1pE8tkY9pwcgj5RjOV7iWOYr2nqLFSzCRjXjqcM/Ie0fSsqyIIiIgiIgIiICIiAFWVX+Ef+m7+IqzQqyq/wAI/wDTd/EVJWGJERRRERAREQEREBbhmy1xcARbq8ggEEUtQQQeIIIZxGFp1f3Izy87UVF92ft015mfRzXa00UsBgogH0slZTwPiLmwB4BiJbkHPHrQU10TuX5tuH6pUewtMvUHhK8ue01q2rvFvt94lpqOmmhbBA2Cje2NrqSnkcA6WBzj473HiT1qn7tyZyU+ydBtUatjoq65vtraMROEkbmNrHb0zatLm/0M+Lge/HHggr9FYEHJnI/ZOXarnbBFFcxbTR7p28Li2N2932rAH3z3uns61dt05Dtmeh9mrPd63UVTU1komv8AIyukhrdJrP6FHTOm0QvjwGlzQ3JpSe1B5SRWdyT8kE18gr7lPcKS0WK2ybqru9ZqMW9OnRDTwjBnmO8h8TU38NGBlzmtOw215FWw2eS/2C9Uu0drppBHXvp4JqKrodWA2SaincX7nJbk5DhqDtJaHOaFQrs0FBNUOc2CGWdzGGRzYY3yObG0gOe4MBIYC5vE8OIVv8mXIBUXyxMvrLpRUVM2ulpqs1g3UNHTU7N5PWzVBfjQBhoYG8XPbktGXCRciux1TSbS3mh2X2mo5hDs5UTy3VtCyaCppnS0BqKNkEkj91IJXR/fMk/ejwGUHnVFNuSzYmku3O5LhfrdYqWjbCXyVmuWondOZdLaOjjw6pLRC4uwQW6mcDq4SPlW5HGWmz0W0FsvNNfbPWVBpOcw08tJLDUaZXBktNK5zmNxDICXFpBDQR4wyEDuGyFwp7ZSXiakey210skNJVl0ZZNLC+WORjWh2sEOhlHED3hWiXonlK/4UbF/5rdf527rzsgIiICIiAiIgIiIO3Z/6zT/AN/F/qNVjquLP/Waf+/i/wBRqsdWEkREVQREQEREBc4ixpaXjJJIaMZ4kYB/afoXBSzYHZfndZESMxsZvpCfKG8APRqc36Fh3ZdcWfj4ds4hgobMyVhedbnE569PUOGDj95HyLoXigGPwL2F3DOvPjA9ZaOBBXoOm2VYGtiijaMtDSXk8B5T5PkXKn5OmH76QHOGS3LWkA+VgB6/+slc763nw7UcSKedLPYKlzmsLC9h62OGoY48c4Bae3JwtvV7FvOC8OweGRxDMeceGPJgK/6HYYQlz3B0j3cWtbjtzpBBcB1+X0rDW7LvA0OOB+U1uHEcfe9Xk458quWyXrDjY+nn6TYgtxKx3AYPUewnzhk9X7V8FCGHBAHDGeo/Qr1umzrWxkNGGt6h1nJ/JB8irbaegbGH4GMHtHEeTH7VPq37ev8AzRjFwrPaGzhwc5uM4PDHX1eRQgQEZGMjJ7OpWjU4LSep2riB1f2seQHj9CiG0VDu3nTghxcQfQTn5uJ6vStvVk5PJ1+bZtn35iwfyXEfTxWxXQsjMRn9LAXfW3HpoyIiKoIiICIiAiIgBVlV/hH/AKbv4irNCrKr/CP/AE3fxFSVhiREUUREQEREBERAUz5Cfxq2a/5gs3/mNMoYu5Y7pNQ1VNW0sm6qaOohqqeXSx+7np5GywyaJAWO0vY04cCDjiCgs7wwfx3v/wDiKf8AkaVTbaOkln5ILHuIpJtztPK6URMdJu2ubdo2uk0A6Gl80TcntlYOtwVCbXbRVd2rZ7jcJjUVlS5rp5iyOMyOaxsbToha1jcMY0cAOpSXk15Xr/s5FNT2a5vpIJ5N9LCYaWpiMugM3rWVcMjY5C1rAXNwXCNgOdIwF137ZWttPJG6K4076Wapv8NYyCUFszIJWxsjM0bgDE926LtJ46XNzjOBqNvIXP5Itlnsa5zYr5Xb1zQSI9dReA0vI96CS0ZPa4eUKo9oeVG+XCjqqCuuU1VS1lb7oVMczIXulqwxkbZN8Y961rWRRsbG1wY1rGgNAGF3OTrlj2h2ep5KS0XR9LTSSb50DoKSqjEpABextZDJuiQG50YzpGc4QWvBE+v5IN3btT32raB093ijaS/m5EzxI9oGXRNFTRvL+oCB/HxHY4+C7TvpNkeUK41QMNuqbKaGGWTxIqitfBXwxRxOcMOkbLVQM4Zw6pYOsqlOTzlAu2z076mz181FLK0Ml0COSKVrclomgna6KUtLnYLmkjU7GMlbHlF5Xb/tDFHBd7nLU08TtbKdkdPS0+vse+CkijZK9oJAc8Et1OwRk5C14pHN5HXhrnND9pQ14BID2jQ8NcB75uprXYPa0HsC6/gF/wDfd8/5Uuf83bVTPTe5e5HuDzo+5POeec03UGOc9W832733/h1Y9C+bC7aXGxzT1FqqjSTVNLLRTPEcEuulmfHJJFieNwbl0MZ1AB3i8DxKC0eRLk+tb9mr1tdeKOqu8FrqWUcNopZpKUSyFtM6Soq6mEGWOnaKqPizGkRyE6uAFgcob45eSlk1NZTY6aS/RSxUYkrZ2uicHBtUJq5xkkZITgOB08Bhef8Ak15Ub3s2Z/cW4yUYqdO/Zu6eoieWZ0vMNVE+MSDJGoAHHDOFt6rl22nmhucE15mnhu8b4q6KeKkmY+OSIwPZC2SEijaYnEYg3fYesAgLA5Sv+FGxf+a3X+du687KQ3LbS41Nqo7JNVF9rt8ss9HS7uBohlmfLJK8StjEr8vnlOHOIGvhjAxHkBERAREQEREBERB27P8A1mn/AL+L/UarHVcWb+s0/wDfxf6jVY6sJIiIqgiIgIiICvHkpDGtOAA58MPV2jdNxn58nh5FSNPC6R7I2DU97msa0dZc4gAfSVaGwdRNDcKehkaRJFDplwQR97LyMH8pul0f0rV5XnCm9wYnvdeF+WKMascOOMnHXjCmFLTtIHicG8cY6+HDGVE7AcsaeHA4P0lTK2yn5vJhczU7+2ftc+aNaC9zfGIIDeGG54cfK70rSXChZnPAdZ4dvDiVIqt3i8eHBai5MLve9Q4nPkxjt6lnzYNVoXfo2tYSB1j9o6yqZ24ja7LR154enr/erc2pe4NcMcANI7Or5FVl7i4+MM+MCAPp4rXvy28oqFa1o3fiuwNIaPlJJyOHoC0tfBvyGgcG++8hJ4A+XqAHzLcX+PeTyNbn32APLwPHrWoonuY5wcDndu+UgdZ+UEZXQ1x4cHlZeadWjg3bNPaOJ+Ql2P2grMuF2rCJMNaHE8OsAaWuIznHDhj6FzyDxa4OHY5uSD8mQtvGY9NDLGY8/AiIvbGIiICIiAiIgLhuW+Y3uj1LmiKx7lnmN7o9Sm3IlsHDtDd47ZLK6mY+Com3sUcb3gwtaQ3S/hg5UNVxeBz+NdP/AIKu/gYoLO+5EoPzvV/q1Kn3IlB+d6v9WpV6WRRXmn7kSg/O9X+rUqfciUH53q/1alXpZEHmn7kSg/O9X+rUqfciUH53q/1alXpZEHmn7kSg/O9X+rUqfciUH53q/wBWpV6WRB5p+5EoPzvV/q1Kn3IlB+d6v9WpV6WRB5p+5EoPzvV/q1Kn3IlB+d6v9WpV6WRB5p+5EoPzvV/q1Kn3IlB+d6v9WpV6WRB5p+5EoPzvV/q1Kn3IlB+d6v8AVqVelkQeafuRKD871f6tSp9yJQfner/VqVelkQeafuRKD871f6tSp9yJQfner/VqVelkQeafuRKD871f6tSp9yJQfner/VqVelkQeafuRKD871f6tSp9yJQfner/AFalXpZEHmn7kSg/O9X+rUqfciUH53q/1alXpZEHkLlU8GyistnrrpHcaid9HE2RsUlPTtY8uljjw5zeIGHk8PIvOW5Z5je6PUv0D8Jr8U71/h4/5mBeAFUlwETR+S36AuaIqgiIgIiICIiDZbLTMjrqN8pxG2phMh8jN40OPyAZPzK6dorPza+WqqaDmoirad5yMAwRtewDA4niRx81UIvQuz1Xz+02GqJ1y09RVQyuPZJzaWIOcfOIDe8tTkx6l0+BncZa/wBxP/PCytk5oy0HWM54jIwMdeexS+huUAOHSxtd1aS5vzdZyqauGzdRqjEcm5p3uBmk1antYTgiPIwDntcOGc9i0m0HJzUuuIlglPueXSPdK6p1yOZu6cMj0vIcyRj2TnIzqMzfehuFq6tcTEzDo79uUTEVPn8PQ1dUMLdWoEZxkHhx4D9669bVsZF1jJb2/wC6rfYyxTQljXVskrM4cHceAxjVn8rB6x5FF/CIu9bSiCnpHuj3rnNcWniWgHHHsyvPaZlkn7Y/iQ7Z3qnaHh80TXDBLdY/d5cqu7ndaaSJz2yNc3iCQRwUa5NdjWXIy1F3lke0wyiMl7g3fYxG127OtrQTnynTjI4ZjV32QmoWzb2pi0apC2NjnzDBe5zGtDuOA0tblxBwMnisuOmPcy19nI2TMVjcMNRIx8j3xuyWnUB5R+VgejC1d7cWzR4/KZ1+jHEf9eRZKGzTmPf6dBbp4DAB9OOwH6FsLhbHPigqPgxKHj0hpc0j5ws2FNHbjM+/lGbvKx7zHHnIwDnhk57PKNXastvYWxgHhxcceTJ6l0WvDqlo6msIBcO3Ser0nq/Ytu48Twxkk48meKy6o+WPk1jj1fERFnaIiIgIiICIiAiIgK4vA5/Gun/wVd/AxU6ri8Dn8a6f/BV38DFFe5ERFFEREBeevDKjdNNsbSb2oihrtpaWjqebzSwPkgqHRRSs3kTg4Za48exehV5x8Ne2Q1s2xdFUs3lNV7T0tLUR6nM1wVDoopWa2EOblj3DLSCM8EE/2c5DLNQVdPW07rqZqaVs0QmulfPFrYcjXFLKWSN9BCw7W8vVmtlyuVonZXyXC3CkApaanbPNcJa2COohp7dEyXXPLu5AXagxrdJy7qz3uTzkP2d2frPdC0251LV7qSDemrrpxupC0vboqJ3s4ljeOM8FX/JvQxP5VdtJ3xsdNBbrOIZHAF0Qmt1uEu7J96XBoBI44yOolBv+UPaG2Vs2xFZcG7QW6etusbrbRxthpniqL4MU97gkLnNhBDMtYc8XKYcrHKna9mo6c3B88lTWP3dFb6KI1NdWSZa3RBACB757W5c5oJc0ZyQFXnhQ/wDfvJ5/zNH/ABUq1O0m5j5XrY+4YDZdnXR2l8g8TnQkq8sjcfFEml1YADxzK0dbm5C1OTTlMbe55qY2PaKzyQwicG927mEczC8RkQP3rt48EtJGBwPaqv8ACwo+ebR7A26Sapjpa+tusFUymqJqZ0sf/ZXAvhcHcMnB7MlejV588JP8ceTX/Mrr+61IO1th4Pe5ppJ9mb3fbVdYGmWl1XSqno6iVnjNgqo5nk7t+NGc4GvJa8AtO+8HHlX93dmDdrm+OmqLa6opbvK8CCFklHGyaSpcDhsTXU8kcjgMNa4vAwBhWHtptNSWegqblcJ2U9LSxOkke8gZwPFijBP3yZ7sNawcXOc0DJK8dWexXCLki2hrXRSRy3q5e6+6ja9rxb31tuikfp98IXMpppNXUYnA8WnJC96XwjrO58Ek1DfqO1VUzYKbaCttr6eyTPeSI3CqfJrZE8g4e9jR4rydIa4jVbe1sto5SdnKkzObRbQ2ystMsRe7dirpXCZkoYTpMj3voIuoHgeJzhaN3Jpftp9l6WgG1FpdZa6ht7oGU9k3TmQQGnnp42PbVZjcwwsYRgEaXNIHELaeF9Z56XZa1XSN4mrdlrjaLhvtJBlMLo6WQ4ySxrp5IJD14EfzoIL4Vu2lbSbX2qsppZG2zZd1nmuwie8aXXSsle9k0bTiRj6WlibjGfvvDryLU8Ierkrbtsfs7TySR+6N4NyrXROIDrbZojUTwSFrgQybeYHZmL5jWcFpbtRsnyi35sbz7tVs9Rb3aXb2ag2biidbSGY1Ne4wTM0Yzlzh2raeCpfH7UX2S/y7xzLLszZ7DG54IZLXzsFTc52Ajg9s0cjM9rZWdeRgLI2QrLZ012nZBNeJLrFRW91fTzuhdaYojSUjoPc6Nv30TOj3Rdq4FxfjsUK5MvCIqq+93qiqrJe30sNXQU9vjpbRNzqgbUGdspvmZiKU5EZBP5MUpxwXd5Mf+KO3H+XWT+Qt65eDp+OfKSO3n9nOPRu7nx+TiPpQYL94QNRSbXz2g2e8z26moJy6CmtM01ynrIax8HPKdol++2h0bPFmAAJcFftrqxUQQziOWITxRzCKdhjmjEjA/dzRnjHK3OC3sIIVHzOA5WowSBnYsgek+6bzgeU4BPzFXygIiICIiCuPCa/FO9f4eP8AmYF4AXv/AMJr8U71/h4/5mBeAFYSRERVBERAREQEREBWxyHXMGlr6R54wvgrIBnqc97YJcDyYLe8qnW42Mq3Q19MWuLQ6Vkb8HGpj3AFp9HV9AWPbj2xmGxxdnTZE/Hqf5L1zbXiSIMwDkDgeo9h+VdhtjY4eMOHXxwcY6uDQM/OtTYbg1gaHYzgD6O35Vsp79I94hpog44BdI/xY4xniSe0+gcSuXFRD63LrMRMOxTsa1zA1ojja4ANbgAfR6Qqq5f6ln3p+MyNlbjq6jn5+pWOHyyy7rOXasOI4A48gPABVDy8072zMBGlsnVIT4vDPi8Oo8Exxl6nXEYzPzTo7BESvMT26XEZBHDGRx4j0KU1+xMDyJZw+QN8Zoe9zmg9fvS4tGMKrbHtLHSXFrIHteHMa1+slw1N7Qc+KT2q35dot7T+M0NOkHHDTxHWCPQrnFMOGWEzU/CtNuK4R5iZG0NY0tZpAAAOBgehRWef/s/Vk5HOAfq3YOO1dvbe6NlqSPyePAYyQOJ/cVrK54FHIzIIlm4AE50lpzjHZgBbOnFyedsjtUfCK22NpHV73iCesl3Xk+gAfSu8vjWgDAGAvq3McesU5O3Z3ysREXpiEREBERAREQEREBXF4HP410/+Crv4GKnVcHgePDdqqcuIA5lXcSQB7xnaVFe5kWHnUfwkffb6051H8JH32+tRWZFh51H8JH32+tOdR/CR99vrQZlDOVPk0t20jKSO5c5xQzmppnUs76aSObSGh4kj8YOGAQRjB4qW86j+Ej77fWnOo/hI++31oKytPIXbKaogqWV20Dn080U7Gy3mulic+GRsjWyRPfpkjJaAWngQSFK7PsJQ0l5uN+hbKLhdYqeGrc6Quicyliihh0RYwwhkLOI6+KkXOo/hI++31pzqP4SPvt9aCPbZ7C0N3qbVV1jZTNZqwV1EY5DG1tQDGQZGj8I3723gfSupyp8mdq2lghhutO57qWQy0lVDI+CrpJHABzoJ4zkA6WEsdlpMbCQSxpEs51H8JH32+tOdR/CR99vrQQfk65KaKyVLq2Osu9wrDTPoxU3a4T1z2U0kkMr4o2OxGwF9PCchufE6+tZeVLkstu0clBNcDVtlthqHUclHUyUkkbqncb12uLxtX9Hjwc8OPlUz51H8JH32+tOdR/CR99vrQVVS+Dts5v4qirp626vgOqJt2uFbXwsJxnME0m7kacDLXtcDjiFas9JE+J0D4o3wPjMT4XMa6J0Tm6HROjI0ujLSWlpGMHCc6j+Ej77fWnOo/hI++31oKkh8Hazwue2jrdoLfRSOe99robvV09uc55y/7yCXgHiMB4HH5MWLfdlaSttc1mnjcaGaj5i6MPdrEG7ETdMhy7W0AEOOTkArbc6j+Ej77fWnOo/hI++31oNHsJsXQ2W1w2ahic2hgbOxscr3SucKiWWabW93F2p80nzHHUF0eSfk3tuzFHLQ2mOWOCaodVSGaR00jpnRxRE63cQ3RCzDeocT2lSrnUfwkffb6051H8JH32+tBHbPsHQ0l5uN+hbKLhdIqeGrc6Quicymiiii0REYYQyFnEdfFR++cjVsqb2L/FPc7fcHuhNWbbWyUkNwFPo3bK2IAiWPEcYLWlocG8ckkmwudR/CR99vrTnUfwkffb60EE5TuSK23+qpLhUSV9DcqFhip7la6p1FWshcXkw75rTmP75L2ZG9kwRqOZ1bqUQQxQtdI8QxRxB8rzJK8RtDA6SR3F8hAyXHiSSV951H8JH32+tOdR/CR99vrQZkWHnUfwkffb6051H8JH32+tBmRYedR/CR99vrTnUfwkffb60FfeE1+Kd6/wAPH/MwLwAvffhL1DHbKXoB7Cebx8A5pP8AWYOwFeBFYSRERVBERAREQEREBc6eQsex462Oa4dnFpBH7lwRRXpLZm9R1lPDINQEjQRgjOrqc0eUggfSs9ZcpGPjYwSgOzgRte8gNzxkLc6flKpfk+v5izSvdpaX72F+SNEjQSW8OsHGR6QPKrt2PvW/3b3DG9Ba/wB778BpAGT2nr8i4+7VOGX6fQcbkRnjDG65zse6ppquB0oaQ6LeRhpAaG8BqyDnt6+PUqh5TZrvcWNFQx1O2PW4aQA1/EnVnrwAcfSr5utvpo9UssDXDi5wMbXA46gTjrVe7RPoZi8CjaHYIAcSfT4rTnDetZMesesnRzxxyxrtP4eeqGkfSP3kr2tLTkNcfGPZ1dqsPZO5V9VTv3cLt2CAHSAjV1jxR2jiPoXGt2fjllBip9LS/L3aMDGerOMgetb653b3OpssLQGNcCB6Q4DgOo5TPKMvXmXNjD6czN+EC29kayrETSNTGu1uByMjqAPZjP7Fwnc4U8bT1B/X/wCE8M9v/oo9FM6aZ8vv5JHZwRkeM709Zzxx/ZUmuLdMLW+SVwJ8pDeJ+nK29WNU5m7PvctaiItppCIiAiIgIiICIiAiIgLi9gcMEAjyEZH0FckQYubR/Bs7rfUnNo/g2d1vqWVEGLm0fwbO631JzaP4Nndb6llRBi5tH8Gzut9Sc2j+DZ3W+pZUQYubR/Bs7rfUnNo/g2d1vqWVEGLm0fwbO631JzaP4Nndb6llRBi5tH8Gzut9Sc2j+DZ3W+pZUQYubR/Bs7rfUnNo/g2d1vqWVEGLm0fwbO631JzaP4Nndb6llRBi5tH8Gzut9Sc2j+DZ3W+pZUQYubR/Bs7rfUnNo/g2d1vqWVEGLm0fwbO631JzaP4Nndb6llRBi5tH8Gzut9Sc2j+DZ3W+pZUQYubR/Bs7rfUnNo/g2d1vqWVEGNsDAchjAR2hoB+nCyIiAiIgIiICIiAiIgIiIPrOsfKOpXJsvNLbKlsM2t9PUNYYKnSHZkzwjkHU13ADs1asqorbSunmihYCXSSNYAPSQM/IBx+ZekXWyOan3MzA9hAaQR2dWQew9WD2LS5UxcRP7dLga5yjKY+KSdt91RtDmxnIy4nHHhjgAOI4HitDfJKcFx3bA8Z1ENGeJI4ZGDk44eRR250Nwo26qYCsjDSGMLmxzMjAxujqOmTqHjcCodftoq1uSKCdjng5Dy04e4EOw5riNPqC0+n4dOORGMfc7O0e07YnvhIYSQSCwBudAJ8Uflf/ANVTbX3l1TJpc52katPp4uwCBwIyP2elcrnFWPe58jDqHvXOdnQOIPAA/wDrhaJ9O5jsu4u7T5Pkx2LZ164xhzuTyMts16hsbNGIwHdTz1Y/efSpDWtLqUP68Tfscw//AJAqKU7yHgkn1Ka2uRj6Z8bupzMfIesEeQ5AWeMvNy1+t4zCPotGy6GnmkhqJC9owY5A0atJzwe1g6x6AtpSVsUv4ORr/QDxHytPELYibakxXh2ERFUEREBERAREQEREBERAREQEREBERAREQEREBERAREQEREBERAREQEREBERAREQEREBERAREQEREBERAWOombG0ucQAPpPoHlK1d3vjIssjxJJ1Hj4jD/aI6z6B+xR9tQ6R5fI4uc7tP5PoaPyR6EHojwdtld+wXaZ+t0r5Y4Ix+Dp443uY4HHvpnaeLj1DgOsq530+kE+TP7yqF8FXbuOlqXWaseGQ1smuikdwayrIw6Bzjwa2UNaW/2gfOXpe6UYwRjtP/AF8q5PIxyjZPb/P47/Dzw+nj1/3+tI+AuYSOIP0jA6jhaO52tj85APpGPmUlonY8X/ZYK6Icc9ZHyf8AovMT4Z9mFqk2nszQx2mM5+TH7ScKrLpZywuBGOzyntPYvQl7gB1cPk7eztKgN1s+p5JHzjj+zyrJjnTXz0Kfrafd6c4Havvui5oAaeI/2Wz24iDJQ0DGB29efkUQulQYmHz3jDfn6z9C2MPLS3fZNNLc5zJM93Xxx9HD6F1mkjBGQQcgg4I+QjqWQRr6GraiKc+Zvy2VBtBPHgOxM3+3wd3x/vlb2i2ggk4OJid5H+9744fThRAtXzSvSLFY8OGWkEHtBBH0hclXcEr4zljnMP8AZJbn5cda2lJtBOzg/TIP7Qw7vN9SCYItLSbRQu4PDoj5T4zfpHH9i28UjXAOa4OaeotIIPzhBzREQEW/2H2dZc5auE1kdJJT26ur4GvhkndWPoYXTvpImxkFsjoo53avGIELsNd1DrWHZi43Bm8obbcK2Pj99pKSpqYgW8CN7DGWagezOeCDUouxcaGamlMNTBPTTtAc6Gpikp5mgkgF0UzQ8AkHiR2FddAREQEREBERAREQEREBETKAiLsUtBPMyaSKCeWOnYJKiSKKSSOnjcdLZJ3saWwsLuAc4gZQddERAREQEREBERAREQEREBERAREQEREBFiqahkTS6RwY0drjj5h5T6FHLntMTltOMf8AzHDj8rW9nz/QgkFdWxwjVI8N8g63O/RaOJUWu1+km8SPMcZ8h8d3yke9HoH0rVSyue4ue4ucesuJJ/b+5cmDtPWgNGCB5FlYOK4M8q5s/wB0SZZ2PI7SCCCHNOC0g5DgR1HI61608HPlebdY47Vc3tFxjZpgncQ0VkbQAP8A64HWOGeteRys1NO6N7XxvdG9jg9j2Etcx4OQ5rhxBB7Vj2a4zhl07p1z49fL9Dqy3lrgQ3IXRuFIdJI+cFUxyQeEUzRHRX8aXNAay4sBLXjqHOWNBLHYx448Xgc6V6BjnpqynE1LNFNE9upskbg9j+GQWubkOC5+eqcPbuauRGfqbV7Xwg5H7McB1dS6MllLmOcB2Z/YpcyiDnaSOHb2/Lg+hZto6ylt1vqKurlbDTQRkySP6w3hpa1o4vkcSA1o4knCx44zMs2WVeZeW+USjZE6aom8SOPAB6tTuOlrQffEnyKnqud08hkcMDqa3sa0dQCk3KRta+8VbptJgpWOcKanOMsaT7+Ujg6Zw4k9QzgcOJjLupdPVr6xc+3B5O7vlNemIoFzcuJWRrPmF8wuS+Kpb5hfHhcwvhCPTEVnoqySF2qNxb5R+S70Ob1FY3DtXEBBYyIiC++SDb3mVNQ3W9y2+tpaAMsVooqejopr9SvwwGobIGsliom0hka7L3GQlg06nAv6XL7tWx9ZdqWYX+23Siq4aa300dwDrKaOKT+ttpWMjdTGal0yNDdeTJF4wAcFDNhaaOtsl/oY6SmluUAo7tSTbkOr3UtLLouUNPN74BkLo5RG3i4On4HhiI7ypuFUzVJPW1lXLDCx80r5p6iaQsggYZpnEvcSY2DUerSOACKm2xW1r7i+Cx36eWtt9XI2npquocZ66z1c7t3T1lJVSZlMG9dG2SF7iwszgDBDoLeqCSjqKmlnAE9JPPTTNGcCWnkfFIGkgEt1sOD2jCtDZzkuuJoqxrLLXs2jtd2t0jHVBZHQSUUrZODDL/RqoR1FPqe5riNEzCCQHNMR5Y6hk95r547jSXY1BZLJW0NO6kpJZnQsD2wROkkyxpaBrD36+LskkoJdfeSm3Wo0TrxtJFRxV9FTVUDYrdU1VRrlaTNvIoZCIaWMmPEzjmQl4DW6CTrqzkfrWbQOsLaineG0wuDri7MdMy2acvrpGai5gDvvegE+OQNWk6xm8Juuhqa20up5op2t2WtUZdC9krWyCSvcYyWEgP0vYdPXh7fKrSuW21BS7VDe1tLHS3LY2ktgr/vNTTUlS9880LqkO1RGHTjU14LfvkerDSSiKfrdhLfUUVfV2O+e6z7VAKmuppbfPbpDSai2StpHTSOE0TDxcw4c1uCTkta7U8oWxxtEFnmNQKj3WtFPdNIi3XNzO0O3Gdbt6Ggt8fxc8fFCsnaKK+0VBcH1t52UpKeegqqbTb4rOaq6xzR4fR0Yo6JsxZKOGslmnxXEDGW8dstn27SWjZuqobnaIGWyyQ2y5ivrWUr6GamZG1z5I3NLnRnEhHUSAwt1B+QVpaXkZdJfaCyC4jVW2SO8c4FKSIzI2cc2ERnGv75B+E1N4P8Ae8OPVtvJZBWVcVuoL7S1dbE2aa8ObS1MdutVNTtbv5m3CQhleGyuEY3YbqLgToAcRblNe6Bu3dnmir6V9GzZCGFlUZomRkt5/I1r3F2I5TCWv0HiA4cFTPg83ukp33K3XCoZRU98slTa+eyeLHSTyx6Y3zOPBkRDpAXEgAhmcDJBHYk5NqCspa2awX5t3qLbTuqqqikt9Tb5paaM4lqKIzPdv2t8wDPFvHLmh3KHkyoobVabzdL8ygo7nHM7dsoKisqmyxyYjigigeTMwxhz3ykNDCGNw8vGJNye2Loe64Xe7V9qe91qqqK30VBWMrJq+oqXQlrmNY0FtK0xNy9w4CTJDdPGM8qVZC/ZnYiGKaKSSno7uyZjHse+ImoomtErGnMZJjfjVjOh3kQd6/cklvtc0XuttNTU1FWtjktdRBQ1NTLVwSMY41M8Eb9NDTsMjBrc9wdxI04ONezkcrPd+ssclTBFHQU5raq6SNcKWO37tkgqjHqyHHeBu7LhhzJPG0tL198IqtinptmRBNFMY9k7fHIIntkMcgY8GN4YTokyD4pweCtTa/aW3TbTbQ26W4UsFPf9nKa2w3HeMkpYKrcSmJs8rHaWRubUEkkgeKwflhBXOz/JRbrsax1n2kZVx0NFUVM7ZrbU0lSHxtzDu4p5AJaWRweDIDmMhgLXawRvaTZaxP2Kje+9xRMdfWvfdvcSskmjqHUADrZuGu3742tJdvQ7dnHVldrka2RGz9XdZbrdLOyolsNwgpqamr4qh0jHGKWaokdhoijG4jDA7Dn65DpG7KjvJ/SsvGx89ip6uigukF8ZcmU9bUR0nOKU0ccBdA+Tg9zXl+R2aBnGpuStNbOTqjht9Nc75em2qmuDpvcyGOhnr6ysgiIBq3QRPBp6fBa7jnhJHxBc0Gb8k+zMEdLtrQU13oKulmstue26t1w0sUMpuDpH1cbsvp5Imte58eXEAN7TgdK/WZu1FosDLfXW2K4WKhNpuFBWVcVO/FPuoo6umfksnp37gu1tJaRI3jlpC6+x1DT2m3bbULrpbqyR9joQJKOcPgfUufWtlpKeR+nnT43PiaXMGMytGAcgERy7cnlE+0Vl2st7F2ZbHwNuMElvqLdLEyodojqIW1Dy6SLJPAgcI5OOWFqrpWfyT10MWzu20ck0Uck1FaWwse9jHzOFRWAiJjjmQgvZkNzjW3yqsEBERAREQEREBERAREQEREBERAWpvl5bB4jcPlIzj8lueou9S7lzqxDGXflHxWDyu9Q61BJWuL3ayS4klx8pPHKEy+1c8kztUjy53ZnqA8jR1NHyL5FH5VyYxZQjzb5p9CBqyL4ULfAF8K5AoUQC5YXFq5hBxK22y21dwtT9dvrZ6Yk+NGx33mTy7yB+Y3nh1kZWpeuLipMX7escpifHheOx/hDVUTg250rZ28A6elIil7PfQyO0P4Z6nN+RQvli5TqraKoG8Bp6CB2aWiactacY385HCSpI7epoJDe0ugIGFw6z6F4x14xNxDNlytmWPWZc3FfB1JlfXrIwOLl8X1/YiI+EIAvq+FAC+oetAg49nzrivresj0ri7rA9KLaxUREenbs1znoqiGrpJn09VTyCWCeMgPjeARkZBBBaXNLXAtc1zmkEEgzKXamyVrt/cLHPS1hcJJKiw1zaKGeXOS/mFVBLFSuJwSYXAEknAKgSIL/5KeVx4qTaKBtNaKOqguL2196uNVcZoriaOR9JVTVVW9sEcRmiiDoGxaSZHEEuJ1U/tbtG2vjo2C22qhlpWzsmntlLHRiudK9jmyTxwgR5YGYbpAH3x+MAho0CIr4AgC+oiPgaB1ABC0deBlfUQfMDyL6iIPgaB1AD5EwvqIN1atk7hVU5qqejllgG+Ie3dh0u4bqnMETnCSq0N98Ymu04OcYWNuzFcaM3AUkvMxG6YzeIPvDZN06oEWreuphIdJmDdAIILuBU75O9prXRNtMk0scMlKKxlaJLa6vrHSVMlU2OajrJHFlDRthngLmQBkuqGfxZDLqWjuVfbpqenmdXVrJ6axUtmNDSxOhfO+kp20Rc6rfmL3MniaZXxOGsmR7NPHUg0l02OuFJC2aegmijc+KPqY57JZ2l8Ec0EbjLTyvAOlkjWudjgCthdOT+vpqPnFTTyxzOuVJbIaQRtmknmqoK2Uta6GR2mpY+kZGact15qWZ08A6dDbi1UslVPTyQytN2s1zpaWO1up53wWy4mpdTV1ymc+esuBhkH3yV7otUL3B+ZNI1ezW09rs7onQ1dTcsX+C5SA0j4C2j9zbxQPdid+JLgx1wje4cGOLGBrzxLQhtRsTcmzw0rqCZ09QyeSnjj3c++FMxz6kRPhc5kkkbWkuYDqbkAgFwBy1+wl1giknloJWwwwuqHSh8D2GCNuuWeExyHnETG8Xui1Bgzq0qUja6jpo46WGanfG2nvzy+3Wz3LpW1Nwsc1rpA2J2Z5J3PLN5IdLGtEQGvSXLWWbaalidaC9zw2i2fvlumxGTpqrh0g3DWD8ph90aXLhwGXZ96gi9VYKuKSqjkppGSUMTJqtrtP8AR4pHQMje85xpc6ppwME53rcZWuVj7bXHd2K2skjmhuV0pqOOvbMxzHSW+wyVVNa5y2TD9NQ2SA6yPG9ymkEgjNcICIiAiIgIiICIiAiIgIiICIurdandQySdobw/SPBv7SEGgvtVvJSBxbHljflHvj9PD/wrWy8flH7li3q4GVHmWZfcLrslX3eoOwuLjwWAyrg6XsQdhrsYXPK628TeIjs5X3UusHr46RCnYLlxcVgEia0Vn1LiSsWtC5CIZgV9JWDUmtFplcepMrE53ampEplymVhL0D0IhmBXEO4rEHIXItObzh2fLhcZPfD5Vwe7qXxzuIRVlooZ0rn8yHuv9tOlc/mQ91/tqLSZooZ0rn8yHuv9tOlc/mQ91/toUmaKGdK5/Mh7r/bTpXP5kPdf7aFJmihnSufzIe6/206Vz+ZD3X+2hSZooZ0rn8yHuv8AbTpXP5kPdf7aFJmihnSufzIe6/206Vz+ZD3X+2hSZooZ0rn8yHuv9tOlc/mQ91/toUmaKGdK5/Mh7r/bTpXP5kPdf7aFJmihnSufzIe6/wBtOlc/mQ91/toUmaKGdK5/Mh7r/bTpXP5kPdf7aFJo4knJJJwBknJwAGgZPYAAPkAXxQzpXP5kPdf7adK5/Mh7r/bQpM0UM6Vz+ZD3X+2nSufzIe6/20KTNFDOlc/mQ91/tp0rn8yHuv8AbQpM0UM6Vz+ZD3X+2nSufzIe6/20KTNFDOlc/mQ91/tp0rn8yHuv9tCkzRQzpXP5kPdf7adK5/Mh7r/bQpM0UM6Vz+ZD3X+2nSufzIe6/wBtCkzUd23qMRxR+e4uPyMHD9p/Ytd0rn8yHuv9ta67XN9S5rpAwFo0jQHAYznjknillOvqXzUseUyhTJqTUseUyhTmXICuGUyhTJqTUseUyhTJqTUseUyhTJqTUseUyhTJqTUseUyhTJqTUseUyhTJqX3WsWUyhTJqTUseUyhTJqXwuXDKZQpzz2L5lccplCnxERRRERAREQEREBERAREQEREBERAREQEREBERAREQEREBERAREQEREBERAREQEREBERAREQEREBERAREQEREBERAREQEREBERAREQEREBERAREQEREBERAREQEREBERAREQEREBERAREQEREBERAREQEREBERAREQEREBERAREQEREBERAREQEREBERAREQEREBERAREQEREBERAREQEREBERAREQEREBERAREQEREBERAREQEREBERAREQEREBERAREQEREBERAREQEREBERAREQEREBERAREQEREBERAREQf//Z\n"
              }
            ],
            "_view_module": "@jupyter-widgets/output",
            "_model_module_version": "1.0.0",
            "_view_count": null,
            "_view_module_version": "1.0.0",
            "layout": "IPY_MODEL_bfaa81e2f90042a58d04f99d505b9569",
            "_model_module": "@jupyter-widgets/output"
          }
        },
        "72043f26d5014a9b89493b9875991eef": {
          "model_module": "@jupyter-widgets/output",
          "model_name": "OutputModel",
          "state": {
            "_view_name": "OutputView",
            "msg_id": "",
            "_dom_classes": [],
            "_model_name": "OutputModel",
            "outputs": [
              {
                "output_type": "stream",
                "metadata": {
                  "tags": []
                },
                "text": "Video available at https://www.bilibili.com/video/BV1TP4y147pJ\n",
                "stream": "stdout"
              },
              {
                "output_type": "display_data",
                "metadata": {
                  "tags": []
                },
                "text/html": "\n        <iframe\n            width=\"854\"\n            height=\"480\"\n            src=\"https://player.bilibili.com/player.html?bvid=BV1TP4y147pJ&page=1?fs=1\"\n            frameborder=\"0\"\n            allowfullscreen\n        ></iframe>\n        ",
                "text/plain": "<__main__.BiliVideo at 0x7f34e2f96850>"
              }
            ],
            "_view_module": "@jupyter-widgets/output",
            "_model_module_version": "1.0.0",
            "_view_count": null,
            "_view_module_version": "1.0.0",
            "layout": "IPY_MODEL_b8cbdc542c2f434b99c7e62fd0d50bb6",
            "_model_module": "@jupyter-widgets/output"
          }
        },
        "bfaa81e2f90042a58d04f99d505b9569": {
          "model_module": "@jupyter-widgets/base",
          "model_name": "LayoutModel",
          "state": {
            "_view_name": "LayoutView",
            "grid_template_rows": null,
            "right": null,
            "justify_content": null,
            "_view_module": "@jupyter-widgets/base",
            "overflow": null,
            "_model_module_version": "1.2.0",
            "_view_count": null,
            "flex_flow": null,
            "width": null,
            "min_width": null,
            "border": null,
            "align_items": null,
            "bottom": null,
            "_model_module": "@jupyter-widgets/base",
            "top": null,
            "grid_column": null,
            "overflow_y": null,
            "overflow_x": null,
            "grid_auto_flow": null,
            "grid_area": null,
            "grid_template_columns": null,
            "flex": null,
            "_model_name": "LayoutModel",
            "justify_items": null,
            "grid_row": null,
            "max_height": null,
            "align_content": null,
            "visibility": null,
            "align_self": null,
            "height": null,
            "min_height": null,
            "padding": null,
            "grid_auto_rows": null,
            "grid_gap": null,
            "max_width": null,
            "order": null,
            "_view_module_version": "1.2.0",
            "grid_template_areas": null,
            "object_position": null,
            "object_fit": null,
            "grid_auto_columns": null,
            "margin": null,
            "display": null,
            "left": null
          }
        },
        "b8cbdc542c2f434b99c7e62fd0d50bb6": {
          "model_module": "@jupyter-widgets/base",
          "model_name": "LayoutModel",
          "state": {
            "_view_name": "LayoutView",
            "grid_template_rows": null,
            "right": null,
            "justify_content": null,
            "_view_module": "@jupyter-widgets/base",
            "overflow": null,
            "_model_module_version": "1.2.0",
            "_view_count": null,
            "flex_flow": null,
            "width": null,
            "min_width": null,
            "border": null,
            "align_items": null,
            "bottom": null,
            "_model_module": "@jupyter-widgets/base",
            "top": null,
            "grid_column": null,
            "overflow_y": null,
            "overflow_x": null,
            "grid_auto_flow": null,
            "grid_area": null,
            "grid_template_columns": null,
            "flex": null,
            "_model_name": "LayoutModel",
            "justify_items": null,
            "grid_row": null,
            "max_height": null,
            "align_content": null,
            "visibility": null,
            "align_self": null,
            "height": null,
            "min_height": null,
            "padding": null,
            "grid_auto_rows": null,
            "grid_gap": null,
            "max_width": null,
            "order": null,
            "_view_module_version": "1.2.0",
            "grid_template_areas": null,
            "object_position": null,
            "object_fit": null,
            "grid_auto_columns": null,
            "margin": null,
            "display": null,
            "left": null
          }
        },
        "c95574bef6f34196b80d8cf0fdcccfc6": {
          "model_module": "@jupyter-widgets/controls",
          "model_name": "TabModel",
          "state": {
            "_view_name": "TabView",
            "_dom_classes": [],
            "_titles": {
              "0": "Youtube",
              "1": "Bilibili"
            },
            "_model_name": "TabModel",
            "_view_module": "@jupyter-widgets/controls",
            "selected_index": 0,
            "_model_module_version": "1.5.0",
            "_view_count": null,
            "_view_module_version": "1.5.0",
            "box_style": "",
            "layout": "IPY_MODEL_edd3e47a090d48f9b807c1dd8dbabfdf",
            "_model_module": "@jupyter-widgets/controls",
            "children": [
              "IPY_MODEL_b20931deaa174e7b8698f8e8217e4037",
              "IPY_MODEL_aa48c66e960a4ff9b8bc612c8199935b"
            ]
          }
        },
        "edd3e47a090d48f9b807c1dd8dbabfdf": {
          "model_module": "@jupyter-widgets/base",
          "model_name": "LayoutModel",
          "state": {
            "_view_name": "LayoutView",
            "grid_template_rows": null,
            "right": null,
            "justify_content": null,
            "_view_module": "@jupyter-widgets/base",
            "overflow": null,
            "_model_module_version": "1.2.0",
            "_view_count": null,
            "flex_flow": null,
            "width": null,
            "min_width": null,
            "border": null,
            "align_items": null,
            "bottom": null,
            "_model_module": "@jupyter-widgets/base",
            "top": null,
            "grid_column": null,
            "overflow_y": null,
            "overflow_x": null,
            "grid_auto_flow": null,
            "grid_area": null,
            "grid_template_columns": null,
            "flex": null,
            "_model_name": "LayoutModel",
            "justify_items": null,
            "grid_row": null,
            "max_height": null,
            "align_content": null,
            "visibility": null,
            "align_self": null,
            "height": null,
            "min_height": null,
            "padding": null,
            "grid_auto_rows": null,
            "grid_gap": null,
            "max_width": null,
            "order": null,
            "_view_module_version": "1.2.0",
            "grid_template_areas": null,
            "object_position": null,
            "object_fit": null,
            "grid_auto_columns": null,
            "margin": null,
            "display": null,
            "left": null
          }
        },
        "b20931deaa174e7b8698f8e8217e4037": {
          "model_module": "@jupyter-widgets/output",
          "model_name": "OutputModel",
          "state": {
            "_view_name": "OutputView",
            "msg_id": "",
            "_dom_classes": [],
            "_model_name": "OutputModel",
            "outputs": [
              {
                "output_type": "stream",
                "metadata": {
                  "tags": []
                },
                "text": "Video available at https://youtube.com/watch?v=8-5RM0k3IKE\n",
                "stream": "stdout"
              },
              {
                "output_type": "display_data",
                "metadata": {
                  "tags": []
                },
                "text/html": "\n        <iframe\n            width=\"854\"\n            height=\"480\"\n            src=\"https://www.youtube.com/embed/8-5RM0k3IKE?fs=1&rel=0\"\n            frameborder=\"0\"\n            allowfullscreen\n        ></iframe>\n        ",
                "text/plain": "<IPython.lib.display.YouTubeVideo at 0x7f34ebdb8ad0>",
                "image/jpeg": "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\n"
              }
            ],
            "_view_module": "@jupyter-widgets/output",
            "_model_module_version": "1.0.0",
            "_view_count": null,
            "_view_module_version": "1.0.0",
            "layout": "IPY_MODEL_aff0e3d3cf134c17b43dc54d89105d1c",
            "_model_module": "@jupyter-widgets/output"
          }
        },
        "aa48c66e960a4ff9b8bc612c8199935b": {
          "model_module": "@jupyter-widgets/output",
          "model_name": "OutputModel",
          "state": {
            "_view_name": "OutputView",
            "msg_id": "",
            "_dom_classes": [],
            "_model_name": "OutputModel",
            "outputs": [
              {
                "output_type": "stream",
                "metadata": {
                  "tags": []
                },
                "text": "Video available at https://www.bilibili.com/video/BV1uL411H7ZE\n",
                "stream": "stdout"
              },
              {
                "output_type": "display_data",
                "metadata": {
                  "tags": []
                },
                "text/html": "\n        <iframe\n            width=\"854\"\n            height=\"480\"\n            src=\"https://player.bilibili.com/player.html?bvid=BV1uL411H7ZE&page=1?fs=1\"\n            frameborder=\"0\"\n            allowfullscreen\n        ></iframe>\n        ",
                "text/plain": "<__main__.BiliVideo at 0x7f34ec4b2d10>"
              }
            ],
            "_view_module": "@jupyter-widgets/output",
            "_model_module_version": "1.0.0",
            "_view_count": null,
            "_view_module_version": "1.0.0",
            "layout": "IPY_MODEL_2c4db5ec66b4424789bae49148a7bedd",
            "_model_module": "@jupyter-widgets/output"
          }
        },
        "aff0e3d3cf134c17b43dc54d89105d1c": {
          "model_module": "@jupyter-widgets/base",
          "model_name": "LayoutModel",
          "state": {
            "_view_name": "LayoutView",
            "grid_template_rows": null,
            "right": null,
            "justify_content": null,
            "_view_module": "@jupyter-widgets/base",
            "overflow": null,
            "_model_module_version": "1.2.0",
            "_view_count": null,
            "flex_flow": null,
            "width": null,
            "min_width": null,
            "border": null,
            "align_items": null,
            "bottom": null,
            "_model_module": "@jupyter-widgets/base",
            "top": null,
            "grid_column": null,
            "overflow_y": null,
            "overflow_x": null,
            "grid_auto_flow": null,
            "grid_area": null,
            "grid_template_columns": null,
            "flex": null,
            "_model_name": "LayoutModel",
            "justify_items": null,
            "grid_row": null,
            "max_height": null,
            "align_content": null,
            "visibility": null,
            "align_self": null,
            "height": null,
            "min_height": null,
            "padding": null,
            "grid_auto_rows": null,
            "grid_gap": null,
            "max_width": null,
            "order": null,
            "_view_module_version": "1.2.0",
            "grid_template_areas": null,
            "object_position": null,
            "object_fit": null,
            "grid_auto_columns": null,
            "margin": null,
            "display": null,
            "left": null
          }
        },
        "2c4db5ec66b4424789bae49148a7bedd": {
          "model_module": "@jupyter-widgets/base",
          "model_name": "LayoutModel",
          "state": {
            "_view_name": "LayoutView",
            "grid_template_rows": null,
            "right": null,
            "justify_content": null,
            "_view_module": "@jupyter-widgets/base",
            "overflow": null,
            "_model_module_version": "1.2.0",
            "_view_count": null,
            "flex_flow": null,
            "width": null,
            "min_width": null,
            "border": null,
            "align_items": null,
            "bottom": null,
            "_model_module": "@jupyter-widgets/base",
            "top": null,
            "grid_column": null,
            "overflow_y": null,
            "overflow_x": null,
            "grid_auto_flow": null,
            "grid_area": null,
            "grid_template_columns": null,
            "flex": null,
            "_model_name": "LayoutModel",
            "justify_items": null,
            "grid_row": null,
            "max_height": null,
            "align_content": null,
            "visibility": null,
            "align_self": null,
            "height": null,
            "min_height": null,
            "padding": null,
            "grid_auto_rows": null,
            "grid_gap": null,
            "max_width": null,
            "order": null,
            "_view_module_version": "1.2.0",
            "grid_template_areas": null,
            "object_position": null,
            "object_fit": null,
            "grid_auto_columns": null,
            "margin": null,
            "display": null,
            "left": null
          }
        },
        "a5070ed7fc4842dd814cefa94b547908": {
          "model_module": "@jupyter-widgets/controls",
          "model_name": "VBoxModel",
          "state": {
            "_view_name": "VBoxView",
            "_dom_classes": [
              "widget-interact"
            ],
            "_model_name": "VBoxModel",
            "_view_module": "@jupyter-widgets/controls",
            "_model_module_version": "1.5.0",
            "_view_count": null,
            "_view_module_version": "1.5.0",
            "box_style": "",
            "layout": "IPY_MODEL_513b374bf6f048e289a8642135be5a85",
            "_model_module": "@jupyter-widgets/controls",
            "children": [
              "IPY_MODEL_e3d6ddd3bddb4be48e425d9702c2c14b",
              "IPY_MODEL_0680a56fe1a7435e99ab1e55ee3507c6"
            ]
          }
        },
        "513b374bf6f048e289a8642135be5a85": {
          "model_module": "@jupyter-widgets/base",
          "model_name": "LayoutModel",
          "state": {
            "_view_name": "LayoutView",
            "grid_template_rows": null,
            "right": null,
            "justify_content": null,
            "_view_module": "@jupyter-widgets/base",
            "overflow": null,
            "_model_module_version": "1.2.0",
            "_view_count": null,
            "flex_flow": null,
            "width": null,
            "min_width": null,
            "border": null,
            "align_items": null,
            "bottom": null,
            "_model_module": "@jupyter-widgets/base",
            "top": null,
            "grid_column": null,
            "overflow_y": null,
            "overflow_x": null,
            "grid_auto_flow": null,
            "grid_area": null,
            "grid_template_columns": null,
            "flex": null,
            "_model_name": "LayoutModel",
            "justify_items": null,
            "grid_row": null,
            "max_height": null,
            "align_content": null,
            "visibility": null,
            "align_self": null,
            "height": null,
            "min_height": null,
            "padding": null,
            "grid_auto_rows": null,
            "grid_gap": null,
            "max_width": null,
            "order": null,
            "_view_module_version": "1.2.0",
            "grid_template_areas": null,
            "object_position": null,
            "object_fit": null,
            "grid_auto_columns": null,
            "margin": null,
            "display": null,
            "left": null
          }
        },
        "e3d6ddd3bddb4be48e425d9702c2c14b": {
          "model_module": "@jupyter-widgets/controls",
          "model_name": "FloatSliderModel",
          "state": {
            "_view_name": "FloatSliderView",
            "style": "IPY_MODEL_fc4262e7c6264cb5bfde7656a0ec730f",
            "_dom_classes": [],
            "description": "p(s = left)",
            "step": 0.01,
            "_model_name": "FloatSliderModel",
            "orientation": "horizontal",
            "max": 1,
            "_view_module": "@jupyter-widgets/controls",
            "_model_module_version": "1.5.0",
            "value": 0.4,
            "_view_count": null,
            "disabled": false,
            "_view_module_version": "1.5.0",
            "min": 0,
            "continuous_update": true,
            "readout_format": ".2f",
            "description_tooltip": null,
            "readout": true,
            "_model_module": "@jupyter-widgets/controls",
            "layout": "IPY_MODEL_56a296f065044d30a04ef7b4fe508b4a"
          }
        },
        "0680a56fe1a7435e99ab1e55ee3507c6": {
          "model_module": "@jupyter-widgets/output",
          "model_name": "OutputModel",
          "state": {
            "_view_name": "OutputView",
            "msg_id": "",
            "_dom_classes": [],
            "_model_name": "OutputModel",
            "outputs": [
              {
                "output_type": "display_data",
                "metadata": {
                  "tags": [],
                  "image/png": {
                    "width": 674,
                    "height": 277
                  },
                  "needs_background": "light"
                },
                "image/png": "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\n",
                "text/plain": "<Figure size 1224x216 with 3 Axes>"
              }
            ],
            "_view_module": "@jupyter-widgets/output",
            "_model_module_version": "1.0.0",
            "_view_count": null,
            "_view_module_version": "1.0.0",
            "layout": "IPY_MODEL_7fd7933b91ea4b06a03c3d026d94e07b",
            "_model_module": "@jupyter-widgets/output"
          }
        },
        "fc4262e7c6264cb5bfde7656a0ec730f": {
          "model_module": "@jupyter-widgets/controls",
          "model_name": "SliderStyleModel",
          "state": {
            "_view_name": "StyleView",
            "handle_color": null,
            "_model_name": "SliderStyleModel",
            "description_width": "",
            "_view_module": "@jupyter-widgets/base",
            "_model_module_version": "1.5.0",
            "_view_count": null,
            "_view_module_version": "1.2.0",
            "_model_module": "@jupyter-widgets/controls"
          }
        },
        "56a296f065044d30a04ef7b4fe508b4a": {
          "model_module": "@jupyter-widgets/base",
          "model_name": "LayoutModel",
          "state": {
            "_view_name": "LayoutView",
            "grid_template_rows": null,
            "right": null,
            "justify_content": null,
            "_view_module": "@jupyter-widgets/base",
            "overflow": null,
            "_model_module_version": "1.2.0",
            "_view_count": null,
            "flex_flow": null,
            "width": null,
            "min_width": null,
            "border": null,
            "align_items": null,
            "bottom": null,
            "_model_module": "@jupyter-widgets/base",
            "top": null,
            "grid_column": null,
            "overflow_y": null,
            "overflow_x": null,
            "grid_auto_flow": null,
            "grid_area": null,
            "grid_template_columns": null,
            "flex": null,
            "_model_name": "LayoutModel",
            "justify_items": null,
            "grid_row": null,
            "max_height": null,
            "align_content": null,
            "visibility": null,
            "align_self": null,
            "height": null,
            "min_height": null,
            "padding": null,
            "grid_auto_rows": null,
            "grid_gap": null,
            "max_width": null,
            "order": null,
            "_view_module_version": "1.2.0",
            "grid_template_areas": null,
            "object_position": null,
            "object_fit": null,
            "grid_auto_columns": null,
            "margin": null,
            "display": null,
            "left": null
          }
        },
        "7fd7933b91ea4b06a03c3d026d94e07b": {
          "model_module": "@jupyter-widgets/base",
          "model_name": "LayoutModel",
          "state": {
            "_view_name": "LayoutView",
            "grid_template_rows": null,
            "right": null,
            "justify_content": null,
            "_view_module": "@jupyter-widgets/base",
            "overflow": null,
            "_model_module_version": "1.2.0",
            "_view_count": null,
            "flex_flow": null,
            "width": null,
            "min_width": null,
            "border": null,
            "align_items": null,
            "bottom": null,
            "_model_module": "@jupyter-widgets/base",
            "top": null,
            "grid_column": null,
            "overflow_y": null,
            "overflow_x": null,
            "grid_auto_flow": null,
            "grid_area": null,
            "grid_template_columns": null,
            "flex": null,
            "_model_name": "LayoutModel",
            "justify_items": null,
            "grid_row": null,
            "max_height": null,
            "align_content": null,
            "visibility": null,
            "align_self": null,
            "height": null,
            "min_height": null,
            "padding": null,
            "grid_auto_rows": null,
            "grid_gap": null,
            "max_width": null,
            "order": null,
            "_view_module_version": "1.2.0",
            "grid_template_areas": null,
            "object_position": null,
            "object_fit": null,
            "grid_auto_columns": null,
            "margin": null,
            "display": null,
            "left": null
          }
        },
        "8929179576494c25b6611493faa0578c": {
          "model_module": "@jupyter-widgets/controls",
          "model_name": "TabModel",
          "state": {
            "_view_name": "TabView",
            "_dom_classes": [],
            "_titles": {
              "0": "Youtube",
              "1": "Bilibili"
            },
            "_model_name": "TabModel",
            "_view_module": "@jupyter-widgets/controls",
            "selected_index": 0,
            "_model_module_version": "1.5.0",
            "_view_count": null,
            "_view_module_version": "1.5.0",
            "box_style": "",
            "layout": "IPY_MODEL_ad2a31add99d45a183986254f645634d",
            "_model_module": "@jupyter-widgets/controls",
            "children": [
              "IPY_MODEL_8cf24bcdb61f441297b6a632b1b03a97",
              "IPY_MODEL_d523dd531ef34c5f8d41dede478fd27d"
            ]
          }
        },
        "ad2a31add99d45a183986254f645634d": {
          "model_module": "@jupyter-widgets/base",
          "model_name": "LayoutModel",
          "state": {
            "_view_name": "LayoutView",
            "grid_template_rows": null,
            "right": null,
            "justify_content": null,
            "_view_module": "@jupyter-widgets/base",
            "overflow": null,
            "_model_module_version": "1.2.0",
            "_view_count": null,
            "flex_flow": null,
            "width": null,
            "min_width": null,
            "border": null,
            "align_items": null,
            "bottom": null,
            "_model_module": "@jupyter-widgets/base",
            "top": null,
            "grid_column": null,
            "overflow_y": null,
            "overflow_x": null,
            "grid_auto_flow": null,
            "grid_area": null,
            "grid_template_columns": null,
            "flex": null,
            "_model_name": "LayoutModel",
            "justify_items": null,
            "grid_row": null,
            "max_height": null,
            "align_content": null,
            "visibility": null,
            "align_self": null,
            "height": null,
            "min_height": null,
            "padding": null,
            "grid_auto_rows": null,
            "grid_gap": null,
            "max_width": null,
            "order": null,
            "_view_module_version": "1.2.0",
            "grid_template_areas": null,
            "object_position": null,
            "object_fit": null,
            "grid_auto_columns": null,
            "margin": null,
            "display": null,
            "left": null
          }
        },
        "8cf24bcdb61f441297b6a632b1b03a97": {
          "model_module": "@jupyter-widgets/output",
          "model_name": "OutputModel",
          "state": {
            "_view_name": "OutputView",
            "msg_id": "",
            "_dom_classes": [],
            "_model_name": "OutputModel",
            "outputs": [
              {
                "output_type": "stream",
                "metadata": {
                  "tags": []
                },
                "text": "Video available at https://youtube.com/watch?v=GHQbmsEyQjE\n",
                "stream": "stdout"
              },
              {
                "output_type": "display_data",
                "metadata": {
                  "tags": []
                },
                "text/html": "\n        <iframe\n            width=\"854\"\n            height=\"480\"\n            src=\"https://www.youtube.com/embed/GHQbmsEyQjE?fs=1&rel=0\"\n            frameborder=\"0\"\n            allowfullscreen\n        ></iframe>\n        ",
                "text/plain": "<IPython.lib.display.YouTubeVideo at 0x7f34e0b69c90>",
                "image/jpeg": "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\n"
              }
            ],
            "_view_module": "@jupyter-widgets/output",
            "_model_module_version": "1.0.0",
            "_view_count": null,
            "_view_module_version": "1.0.0",
            "layout": "IPY_MODEL_b203fd109590480daed0e8c7f1eb1532",
            "_model_module": "@jupyter-widgets/output"
          }
        },
        "d523dd531ef34c5f8d41dede478fd27d": {
          "model_module": "@jupyter-widgets/output",
          "model_name": "OutputModel",
          "state": {
            "_view_name": "OutputView",
            "msg_id": "",
            "_dom_classes": [],
            "_model_name": "OutputModel",
            "outputs": [
              {
                "output_type": "stream",
                "metadata": {
                  "tags": []
                },
                "text": "Video available at https://www.bilibili.com/video/BV1po4y1D7Fu\n",
                "stream": "stdout"
              },
              {
                "output_type": "display_data",
                "metadata": {
                  "tags": []
                },
                "text/html": "\n        <iframe\n            width=\"854\"\n            height=\"480\"\n            src=\"https://player.bilibili.com/player.html?bvid=BV1po4y1D7Fu&page=1?fs=1\"\n            frameborder=\"0\"\n            allowfullscreen\n        ></iframe>\n        ",
                "text/plain": "<__main__.BiliVideo at 0x7f34e061d690>"
              }
            ],
            "_view_module": "@jupyter-widgets/output",
            "_model_module_version": "1.0.0",
            "_view_count": null,
            "_view_module_version": "1.0.0",
            "layout": "IPY_MODEL_fa8296369302446891b7141221290483",
            "_model_module": "@jupyter-widgets/output"
          }
        },
        "b203fd109590480daed0e8c7f1eb1532": {
          "model_module": "@jupyter-widgets/base",
          "model_name": "LayoutModel",
          "state": {
            "_view_name": "LayoutView",
            "grid_template_rows": null,
            "right": null,
            "justify_content": null,
            "_view_module": "@jupyter-widgets/base",
            "overflow": null,
            "_model_module_version": "1.2.0",
            "_view_count": null,
            "flex_flow": null,
            "width": null,
            "min_width": null,
            "border": null,
            "align_items": null,
            "bottom": null,
            "_model_module": "@jupyter-widgets/base",
            "top": null,
            "grid_column": null,
            "overflow_y": null,
            "overflow_x": null,
            "grid_auto_flow": null,
            "grid_area": null,
            "grid_template_columns": null,
            "flex": null,
            "_model_name": "LayoutModel",
            "justify_items": null,
            "grid_row": null,
            "max_height": null,
            "align_content": null,
            "visibility": null,
            "align_self": null,
            "height": null,
            "min_height": null,
            "padding": null,
            "grid_auto_rows": null,
            "grid_gap": null,
            "max_width": null,
            "order": null,
            "_view_module_version": "1.2.0",
            "grid_template_areas": null,
            "object_position": null,
            "object_fit": null,
            "grid_auto_columns": null,
            "margin": null,
            "display": null,
            "left": null
          }
        },
        "fa8296369302446891b7141221290483": {
          "model_module": "@jupyter-widgets/base",
          "model_name": "LayoutModel",
          "state": {
            "_view_name": "LayoutView",
            "grid_template_rows": null,
            "right": null,
            "justify_content": null,
            "_view_module": "@jupyter-widgets/base",
            "overflow": null,
            "_model_module_version": "1.2.0",
            "_view_count": null,
            "flex_flow": null,
            "width": null,
            "min_width": null,
            "border": null,
            "align_items": null,
            "bottom": null,
            "_model_module": "@jupyter-widgets/base",
            "top": null,
            "grid_column": null,
            "overflow_y": null,
            "overflow_x": null,
            "grid_auto_flow": null,
            "grid_area": null,
            "grid_template_columns": null,
            "flex": null,
            "_model_name": "LayoutModel",
            "justify_items": null,
            "grid_row": null,
            "max_height": null,
            "align_content": null,
            "visibility": null,
            "align_self": null,
            "height": null,
            "min_height": null,
            "padding": null,
            "grid_auto_rows": null,
            "grid_gap": null,
            "max_width": null,
            "order": null,
            "_view_module_version": "1.2.0",
            "grid_template_areas": null,
            "object_position": null,
            "object_fit": null,
            "grid_auto_columns": null,
            "margin": null,
            "display": null,
            "left": null
          }
        },
        "e55ef79cf2bc468cbdaaa3bc6c6f747d": {
          "model_module": "@jupyter-widgets/controls",
          "model_name": "TabModel",
          "state": {
            "_view_name": "TabView",
            "_dom_classes": [],
            "_titles": {
              "0": "Youtube",
              "1": "Bilibili"
            },
            "_model_name": "TabModel",
            "_view_module": "@jupyter-widgets/controls",
            "selected_index": 0,
            "_model_module_version": "1.5.0",
            "_view_count": null,
            "_view_module_version": "1.5.0",
            "box_style": "",
            "layout": "IPY_MODEL_b83acf90b4cc4f25ace47d6742d726fd",
            "_model_module": "@jupyter-widgets/controls",
            "children": [
              "IPY_MODEL_1569504179f645228b33298bed430057",
              "IPY_MODEL_8d5b0a4868864e1ab76cf6621e358c82"
            ]
          }
        },
        "b83acf90b4cc4f25ace47d6742d726fd": {
          "model_module": "@jupyter-widgets/base",
          "model_name": "LayoutModel",
          "state": {
            "_view_name": "LayoutView",
            "grid_template_rows": null,
            "right": null,
            "justify_content": null,
            "_view_module": "@jupyter-widgets/base",
            "overflow": null,
            "_model_module_version": "1.2.0",
            "_view_count": null,
            "flex_flow": null,
            "width": null,
            "min_width": null,
            "border": null,
            "align_items": null,
            "bottom": null,
            "_model_module": "@jupyter-widgets/base",
            "top": null,
            "grid_column": null,
            "overflow_y": null,
            "overflow_x": null,
            "grid_auto_flow": null,
            "grid_area": null,
            "grid_template_columns": null,
            "flex": null,
            "_model_name": "LayoutModel",
            "justify_items": null,
            "grid_row": null,
            "max_height": null,
            "align_content": null,
            "visibility": null,
            "align_self": null,
            "height": null,
            "min_height": null,
            "padding": null,
            "grid_auto_rows": null,
            "grid_gap": null,
            "max_width": null,
            "order": null,
            "_view_module_version": "1.2.0",
            "grid_template_areas": null,
            "object_position": null,
            "object_fit": null,
            "grid_auto_columns": null,
            "margin": null,
            "display": null,
            "left": null
          }
        },
        "1569504179f645228b33298bed430057": {
          "model_module": "@jupyter-widgets/output",
          "model_name": "OutputModel",
          "state": {
            "_view_name": "OutputView",
            "msg_id": "",
            "_dom_classes": [],
            "_model_name": "OutputModel",
            "outputs": [
              {
                "output_type": "stream",
                "metadata": {
                  "tags": []
                },
                "text": "Video available at https://youtube.com/watch?v=Yv8MDjdm1l4\n",
                "stream": "stdout"
              },
              {
                "output_type": "display_data",
                "metadata": {
                  "tags": []
                },
                "text/html": "\n        <iframe\n            width=\"854\"\n            height=\"480\"\n            src=\"https://www.youtube.com/embed/Yv8MDjdm1l4?fs=1&rel=0\"\n            frameborder=\"0\"\n            allowfullscreen\n        ></iframe>\n        ",
                "text/plain": "<IPython.lib.display.YouTubeVideo at 0x7f34dff2ad50>",
                "image/jpeg": "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\n"
              }
            ],
            "_view_module": "@jupyter-widgets/output",
            "_model_module_version": "1.0.0",
            "_view_count": null,
            "_view_module_version": "1.0.0",
            "layout": "IPY_MODEL_dda24b3eb0cd4170bffd8b78551661d6",
            "_model_module": "@jupyter-widgets/output"
          }
        },
        "8d5b0a4868864e1ab76cf6621e358c82": {
          "model_module": "@jupyter-widgets/output",
          "model_name": "OutputModel",
          "state": {
            "_view_name": "OutputView",
            "msg_id": "",
            "_dom_classes": [],
            "_model_name": "OutputModel",
            "outputs": [
              {
                "output_type": "stream",
                "metadata": {
                  "tags": []
                },
                "text": "Video available at https://www.bilibili.com/video/BV1EK4y1u7AV\n",
                "stream": "stdout"
              },
              {
                "output_type": "display_data",
                "metadata": {
                  "tags": []
                },
                "text/html": "\n        <iframe\n            width=\"854\"\n            height=\"480\"\n            src=\"https://player.bilibili.com/player.html?bvid=BV1EK4y1u7AV&page=1?fs=1\"\n            frameborder=\"0\"\n            allowfullscreen\n        ></iframe>\n        ",
                "text/plain": "<__main__.BiliVideo at 0x7f34e063be10>"
              }
            ],
            "_view_module": "@jupyter-widgets/output",
            "_model_module_version": "1.0.0",
            "_view_count": null,
            "_view_module_version": "1.0.0",
            "layout": "IPY_MODEL_6c533d3f3ff842509d9e8a0658821b80",
            "_model_module": "@jupyter-widgets/output"
          }
        },
        "dda24b3eb0cd4170bffd8b78551661d6": {
          "model_module": "@jupyter-widgets/base",
          "model_name": "LayoutModel",
          "state": {
            "_view_name": "LayoutView",
            "grid_template_rows": null,
            "right": null,
            "justify_content": null,
            "_view_module": "@jupyter-widgets/base",
            "overflow": null,
            "_model_module_version": "1.2.0",
            "_view_count": null,
            "flex_flow": null,
            "width": null,
            "min_width": null,
            "border": null,
            "align_items": null,
            "bottom": null,
            "_model_module": "@jupyter-widgets/base",
            "top": null,
            "grid_column": null,
            "overflow_y": null,
            "overflow_x": null,
            "grid_auto_flow": null,
            "grid_area": null,
            "grid_template_columns": null,
            "flex": null,
            "_model_name": "LayoutModel",
            "justify_items": null,
            "grid_row": null,
            "max_height": null,
            "align_content": null,
            "visibility": null,
            "align_self": null,
            "height": null,
            "min_height": null,
            "padding": null,
            "grid_auto_rows": null,
            "grid_gap": null,
            "max_width": null,
            "order": null,
            "_view_module_version": "1.2.0",
            "grid_template_areas": null,
            "object_position": null,
            "object_fit": null,
            "grid_auto_columns": null,
            "margin": null,
            "display": null,
            "left": null
          }
        },
        "6c533d3f3ff842509d9e8a0658821b80": {
          "model_module": "@jupyter-widgets/base",
          "model_name": "LayoutModel",
          "state": {
            "_view_name": "LayoutView",
            "grid_template_rows": null,
            "right": null,
            "justify_content": null,
            "_view_module": "@jupyter-widgets/base",
            "overflow": null,
            "_model_module_version": "1.2.0",
            "_view_count": null,
            "flex_flow": null,
            "width": null,
            "min_width": null,
            "border": null,
            "align_items": null,
            "bottom": null,
            "_model_module": "@jupyter-widgets/base",
            "top": null,
            "grid_column": null,
            "overflow_y": null,
            "overflow_x": null,
            "grid_auto_flow": null,
            "grid_area": null,
            "grid_template_columns": null,
            "flex": null,
            "_model_name": "LayoutModel",
            "justify_items": null,
            "grid_row": null,
            "max_height": null,
            "align_content": null,
            "visibility": null,
            "align_self": null,
            "height": null,
            "min_height": null,
            "padding": null,
            "grid_auto_rows": null,
            "grid_gap": null,
            "max_width": null,
            "order": null,
            "_view_module_version": "1.2.0",
            "grid_template_areas": null,
            "object_position": null,
            "object_fit": null,
            "grid_auto_columns": null,
            "margin": null,
            "display": null,
            "left": null
          }
        },
        "44b8febaf27940a18f4d56e7999ddeba": {
          "model_module": "@jupyter-widgets/controls",
          "model_name": "TabModel",
          "state": {
            "_view_name": "TabView",
            "_dom_classes": [],
            "_titles": {
              "0": "Youtube",
              "1": "Bilibili"
            },
            "_model_name": "TabModel",
            "_view_module": "@jupyter-widgets/controls",
            "selected_index": 0,
            "_model_module_version": "1.5.0",
            "_view_count": null,
            "_view_module_version": "1.5.0",
            "box_style": "",
            "layout": "IPY_MODEL_3e7898c1195b4ad1982062eb0ebbe577",
            "_model_module": "@jupyter-widgets/controls",
            "children": [
              "IPY_MODEL_efe08e3747d94353a745a3775876e6a0",
              "IPY_MODEL_c9360bb3d73046b787f964e0ea14782a"
            ]
          }
        },
        "3e7898c1195b4ad1982062eb0ebbe577": {
          "model_module": "@jupyter-widgets/base",
          "model_name": "LayoutModel",
          "state": {
            "_view_name": "LayoutView",
            "grid_template_rows": null,
            "right": null,
            "justify_content": null,
            "_view_module": "@jupyter-widgets/base",
            "overflow": null,
            "_model_module_version": "1.2.0",
            "_view_count": null,
            "flex_flow": null,
            "width": null,
            "min_width": null,
            "border": null,
            "align_items": null,
            "bottom": null,
            "_model_module": "@jupyter-widgets/base",
            "top": null,
            "grid_column": null,
            "overflow_y": null,
            "overflow_x": null,
            "grid_auto_flow": null,
            "grid_area": null,
            "grid_template_columns": null,
            "flex": null,
            "_model_name": "LayoutModel",
            "justify_items": null,
            "grid_row": null,
            "max_height": null,
            "align_content": null,
            "visibility": null,
            "align_self": null,
            "height": null,
            "min_height": null,
            "padding": null,
            "grid_auto_rows": null,
            "grid_gap": null,
            "max_width": null,
            "order": null,
            "_view_module_version": "1.2.0",
            "grid_template_areas": null,
            "object_position": null,
            "object_fit": null,
            "grid_auto_columns": null,
            "margin": null,
            "display": null,
            "left": null
          }
        },
        "efe08e3747d94353a745a3775876e6a0": {
          "model_module": "@jupyter-widgets/output",
          "model_name": "OutputModel",
          "state": {
            "_view_name": "OutputView",
            "msg_id": "",
            "_dom_classes": [],
            "_model_name": "OutputModel",
            "outputs": [
              {
                "output_type": "stream",
                "metadata": {
                  "tags": []
                },
                "text": "Video available at https://youtube.com/watch?v=iprFMHch2_g\n",
                "stream": "stdout"
              },
              {
                "output_type": "display_data",
                "metadata": {
                  "tags": []
                },
                "text/html": "\n        <iframe\n            width=\"854\"\n            height=\"480\"\n            src=\"https://www.youtube.com/embed/iprFMHch2_g?fs=1&rel=0\"\n            frameborder=\"0\"\n            allowfullscreen\n        ></iframe>\n        ",
                "text/plain": "<IPython.lib.display.YouTubeVideo at 0x7f34dfe74650>",
                "image/jpeg": "/9j/4AAQSkZJRgABAQAAAQABAAD/2wCEAAUDBAkICAgICAgICAgICAgICAgICQgICAgICAgICAgICAgIChALCAgOCQgIDRUNDhERExMTCAsWGBYSGBASExIBBQUFCAcIDQgIDhINDQ8SEhISEhISEhISEhISEhISEhISEhISEhISEhISEhISEhISEhISEhISEhISEhISEhISEv/AABEIAWgB4AMBIgACEQEDEQH/xAAdAAEAAgIDAQEAAAAAAAAAAAAABgcDBQIECAEJ/8QAWRAAAQMDAQMGBwkMCAMFCQAAAQACAwQFERIGEyEHFBYxQZIIIlFSYdHSFTJTVHGBkZPiGCMzNkJVcpShsbK0JDRic3R1s8E3dvAlNYK14QkXVmODlcLT8f/EABoBAQEAAwEBAAAAAAAAAAAAAAABAwQFAgb/xAAlEQEAAgICAgEFAQEBAAAAAAAAARECAwQSITFBEyJRYXGBkRT/2gAMAwEAAhEDEQA/APGSIiAiIgIiICIiAiIgIiICIiAiIgIiICIiAiIgIiICIiAiIgIiICIiAiIgIiICIiAiIgIiICIiAiIgIiICIiAiIgIiICIiAiIgIiICIiAiIgIiICIiAiIgIiICIiAiIgIiICIiAiIgIiICIiAiIgIiICIiAiIgIiICIiAiIgIiICIiAiIgIiICIiAiIgIiICIiAiIgIiICLf8ARSfz4e8/2E6KT+fD3n+wg0CLf9FJ/Ph7z/YTopP58Pef7CDQIt/0Un8+HvP9hOik/nw95/sINAi3/RSfz4e8/wBhOik/nw95/sINAi3/AEUn8+HvP9hOik/nw95/sINAi3/RSfz4e8/2E6KT+fD3n+wg0CLf9FJ/Ph7z/YTopP58Pef7CDQIt/0Un8+HvP8AYTopP58Pef7CDQIt/wBFJ/Ph7z/YTopP58Pef7CDQIt/0Un8+HvP9hOik/nw95/sINAi3/RSfz4e8/2E6KT+fD3n+wg0CLf9FJ/Ph7z/AGE6KT+fD3n+wg0CLf8ARSfz4e8/2E6KT+fD3n+wg0CLf9FJ/Ph7z/YTopP58Pef7CDQIt/0Un8+HvP9hOik/nw95/sINAi3/RSfz4e8/wBhOik/nw95/sINAi3/AEUn8+HvP9hOik/nw95/sINAi3/RSfz4e8/2E6KT+fD3n+wg0CLf9FJ/Ph7z/YTopP58Pef7CDQIt/0Un8+HvP8AYTopP58Pef7CDQIt/wBFJ/Ph7z/YTopP58Pef7CDQIt/0Un8+HvP9hOik/nw95/sINAi3/RSfz4e8/2E6KT+fD3n+wg0CLf9FJ/Ph7z/AGE6KT+fD3n+wg0CLf8ARSfz4e8/2E6KT+fD3n+wg0CLf9FJ/Ph7z/YTopP58Pef7CDQIt/0Un8+HvP9hOik/nw95/sINAi3/RSfz4e8/wBhOik/nw95/sINAi3/AEUn8+HvP9hOik/nw95/sINAi3/RSfz4e8/2E6KT+fD3n+wgmaIi9PIiIgIiICIiAiIgIiICIiAiIgIiICIiAiIgIiICIiAiIgIiICIiAiIgIiICIiAiIgIiICIiAiIgIiICIiAiIgIiICIiAiIgIiICIiAiKNS7VhrnN3BOkkZ3nkOPMUVJUUX6XD4ufrfsJ0uHxc/W/YQpKEUX6XD4ufrfsJ0uHxc/W/YQpKEUX6XD4ufrfsJ0uHxc/W/YQpKEUX6XD4ufrfsJ0uHxc/W/YQpKEUX6XD4ufrfsJ0uHxc/W/YQpKEUX6XD4ufrfsJ0uHxc/W/YQpKEUX6XD4ufrfsJ0uHxc/W/YQpKEUX6XD4ufrfsJ0uHxc/W/YQpKEUX6XD4ufrfsJ0uHxc/W/YQpKEUX6XD4ufrfsJ0uHxc/W/YQpKEUX6XD4ufrfsJ0uHxc/W/YQpKEUX6XD4ufrfsJ0uHxc/W/YQpKEUX6XD4ufrfsJ0uHxc/W/YQpKEUX6XD4ufrfsJ0uHxc/W/YQpKEUX6XD4ufrfsJ0uHxc/W/YQpKEUco9qBJJHHuCNb2MzvM41ODc40cetSNAREVQREQEREBERAREQEREBERAREQEREBERAREQEREBERACrKr/CP/AE3fxFWaFWVX+Ef+m7+IqSsMSIiiiIiAiIgKScmOy3u3eLdaRPzbn9Syn3+7326158fda268Y6tQ+VRtWR4MH447O/5nB/ugteo8Fq2ivktDNubb7rsIYLfNRiCd0jo2ysjDTXFznFjmuw1rjg5wqF5TdiK3Z251FpuLGNqacsOuJxfBNHIwPjmgkc1pfE5p6yAQQ5pAc0gewtqeQyS6coFZfn3W3ClpKuhuD7fRzOqL0XUNNRuZA+kDWinMjoR4xeSA9hAOeHnbl927Ze9sn190ttZS0NPU0dNNbJ2mnuAt9K9pmimbqbuquRjpnYDvE3rQHHTqIVCi9V8j22my1+u9JYG7A2+noKwvpm1e/kqa6D71IYpJakxCXLiwNJEgc3XnU4t46zkl2NslDyhXXZa6UUNfQTy1dJb3VOoyU8rBzqkG9a4eMafeREj3zzGRjqQeZ0Vm2zklqJNtBsk8vDhdH0skw0h/MYtU76xgIIyaFpmaD5zQVbMXJnZ9p+UOttNupY7fYLFAW1vMw9hqnUUjY6hu8dnTK+rndFqByY6Yubx6g8sovYmw9NYNpbi/ZyXk/mslBUx1MVuvUcVRFXQOghkkgmqp5YR472RE4e+Qay1jhIHFyq/wcuSmiuG2tVYby4Sw2t1ybLC17oRWz2+oFNuQ5rg9rCS+QhpzpiIz1lBRam3J1sZR3SivlVV3yjtUtqojVUlJU7ne3aYQ1UgpKXeVEbt5qp42eI2Q5qGcOoGyOWfbm3RR3Gy1HJ5RWGt0llLUh25rKXTL4k500wbVscGOAc1+h2okOcOvD4M+yVvuNh29qa6jhqZ7bYnVNBLKCXUs4o7rJvYsHg7XDEePwYQUOinfJHtLZbW+rqLzY/d2bRCLfTyVD6aljk1P38lSWZ3o0FmGOY8Eg+94FXrHb7FtjsftFcodmqTZ642GHnUE1AC2KeMRPnwcRsbKHNgmYQ4O05Y4EZwg8novRfgd7C2i9UG1/uzHA1lJboHQ3CZuo2sSw3PfVsY1AZjETJOPwIU05GK/YjaK5v2Tpdk2x0clNUc1vVRUF90qH07N46aQ7veUznjePGmUgaWjQA7SwPICLa7X2nmFxr6HXvOZVtVSbwjBfzad8OvHZnRnHpWqQEREBERAREQduz/1mn/v4v8AUarHVcWf+s0/9/F/qNVjqwkiIiqCIiAiIgIiICIiAiIgIiICIiAiIgIiICIiAiIgIiIAVZVf4R/6bv4irNCrKr/CP/Td/EVJWGJERRRERAREQFZHgwfjjs7/AJnB/uq3XZtlfNSzR1FNNLTzwuD4p4JHxTRPHU+OSMhzHDygoPVnLXyQbWV23lbdbHRTwsdWUUlJdDNBTwwmOjpInzlzn6zGxzH5Aa4uDXANdnBlXLbbLJeOVPZy3VQgnAo3MurA9rY5aiKKuqrfSVGHcZS5sILHcXMmhbxBAHk2TlO2gcC120N8c0jBa66V5BHkIM3EKLtqHiQSh7xKH7wSBzhIJA7UHh+ch+rjnryg952Ko24G2baaSmbatkaG4SRRxwR0FJbTbQ58VDol/CVE02af72w5D5caIxlrfOfhSw19n27r7luZqZ/ujBcLdUSRPbFMYG00sc0D3DTM1sjWg6ScOBBwRhVxtDt/ebiyKOvvF0rI4XNfEypramZjJGZLJQ2SQjejJ8f33pXU2n2quV2fE653GtuD4m7uF1bUzVBiadIIY6d50A6WknhkjJyeKD3vtTcrZRUVbyo02htXXbMUlNSQua1+m4VD9DHS6T98ma80cDse9ZSS8cZXnjwEtt4LftJU09fUCEXqkdSx1MrhqNfvmSwh0shwHSffgC7Op7ox2rp+EfthbYrBs1sjYq2Kvo7bAay4VUGvcz3GQyA6DJhzfvstdLpOQBUxAHxVQKD1ntXdeVqhuMlvZJc60CV7IKykttBLRzxBxEc3OGUpjpw5oDtMrmubnBAKpXZzZvae47SXM0LJ3bS0FRXXCuNPNTwVLKqKtENc+J0b2xPfzioILIiQ4OdpBHBail5VdoooBTR7Q3pkAAa2NlxrGhrQMBjCJcsjxw0jA9C0Fr2hrqWpdW0tdWU1Y8vc+rgqJoal5kdrkLp43iRxc7iSTxPFB7T2brrttBsptHFyh2nm0Fro5JaG61tHzCt502GY7yCJzW6pmuEAbJC1rZN5uyJNRCqzwRPxb5S/+W3/AMhelSG1O3t4usbYbld7lXQsLS2Gqq6iaIOaCA/dPeW7zBPjYzx61rLTfqykjqYaSsq6WKsj3NXFTzzQx1UJa9hiqWRuDZ49Mkg0vBGJHDtKD0v4IOzw6N7R3q00FJc9q6KZkNuhqmxyupIXRRO5xTxye9ne19ZpP5ZpQwHBcDZmwdPthXbJ7Yx7Tc5mr621VHuTQSMpm1rmilqmzbuhpGB7Ncr4WNaW5c5uAOrPiHZfaWvtc3OLbXVdBOW6XS0k8tO9zNQdoeYnDXHkA6XZBx1LvUm315irX3KO8XNtwkiMElbz2pNVJAS07l85k1viy1h0kkZY09YCC9PBPppIdnuU+GaN8UsWz8scsUjXMkjkZQ3xr45GOAcx7XAgg8QQVHPAS/Ha3/4a4/ycqqGm2ouMRrTHca6M3IPFxLKqoZz8SbzeCt0v/pQdvpc7zVnevz74rrWO8VVDM2poaqpo6hgc1s9LNLTzND2lrw2WFwcAWkggHiCg3XK7+MN+/wA5un89OoustXUPlkfLK98ssr3SSSSOc+SSR7i573vcSXvLiSSeJJKxICIiAiIgIiIO3Z/6zT/38X+o1WOq4s/9Zp/7+L/UarHVhJERFUEREBERAREQEREBERAREQEREBERAREQEREBERAREQAqyq/wj/03fxFWaFWVX+Ef+m7+IqSsMSIiiiIiAiIgKef+5raf/wCG73/9vqv/ANaga9g+HbyiXqz7SUUFru1fQwPslNO+GmnkjidM6vuTHSOjadJeWRxgnHUxvkQeV9pNlLlbNAuVtr7eZM7sVtJUUmvHE6N+xur5lpl6+8F/lan2smqdj9rTHdqW5Us5pJp2RtqGSwR710OuNg1OETJZmTfhI3w8CcjRRFv5ILjW7U1uy9va2WppKysgdPMTHBHTUspZz2ocxrjHCW7s8ASTKxoBJAQVwi9CO8HGkrY66LZ7a23X670EL5prVDTup3StiIbIKWp5w9tQdRDQ4N0ansBc3UCqm5KuT+4bS3KO12yNjp3sdLJJK4sgpoGFrX1FQ9rXFkQc9jeDSSXtABJAQRRbey7M19bBV1VHQ1VTT0EYlrZ4IZJYqWMtkfrqHsBETNMUhy7HBjvIrvu/IFs/STS0U/KFaI7hBrZNTOo8Qxzx5D4H1fPdDJGvBaWkBwIIIBGFpOQWyXaq2c20nt14FuoqS3MkudGaWKoNzh5tcXCETSeNTeIyZupnw2fyQgpRFZvIdyRTbSi4VUldT2m1WqJstwuVU1z2RB7ZHNZHEHNEr9MTifHaGjHHLmg/OVbk+s9rooau07V0d/dJUinkpoqV1HUQtMUkm/MUlQ9zosxhucAZkbxQQtuy9wNAboKGrNtbJujX7mTmgl1Bm7M+nRr1EDGesrTq8aaxXc8m81eLyBZRdBG6y80hJdPziJu/57+EHjlrtPV4q0nI7yKz32iqrvWXCksdionbua6V3FjpSWjd08Wtm9IdJG3Jc0F0rWt1Oy0BVKK89pPB/jfa6u7bM7Q0W00FubvLhBBA6jrKeIBzt6KZ8she3SyR3EtJET9OsghRzkH5Hp9rG3fm9WKeW10rKhkO4M76t8gn0QR4kbu3F0IGTn344cEFXovSll8FZlSZLf0ss7do44HyvskYE5ikaM7meqZPrY5uW6i2F2nJOHDBNObBcnFwvF9Zs9BG2Gv39RBPvid1Smk3nOnTvjDsNZunjhnLtIGS4IIcivHbbkZsNvp7judurdV3G3RTufbuZOgM09OHaqWCpdVuZJKXNLQGgnPYqOQEREBERAREQduz/wBZp/7+L/UarHVcWf8ArNP/AH8X+o1WOrCSIiKoIiICIiAiIgIi6NwrxGOAznqPl+Tt+dSZWIt3XEDrOFjNSwHGsZHWo3K+WY5wePAAuA+jK6coe08XY9GSD+0cV47SvVMo5Gu96QfkK5qGRVzmAgO7fL2jtC21uvreDZsg9j8fxY/evUZJTeosNPUsk4seHfJ1/R1rMvQIiIgiIgIiICIiAiIgBVlV/hH/AKbv4irNCrKr/CP/AE3fxFSVhiREUUREQEREBemf/aO/jVQf8v0v/mN1XmZemNqfCjorrM2ouWw9kr52RiFk1ZI2okbC173tiD5aUkMD5JDjqy93lQazwCdlpqramO6aSyjs1NVT1E7hiISVNLNRxQueeAeWzSyfJA5Wp4LG0NLdtpuUOtjbzh9a2SahjicYqiooBUVbCIXEh0bntNCCeGHPZ1cFRfKJ4Q9zuVvks1vo7ds/Z5dTZKK0Q83M0bwN5FNKCAY3kHUI2x6gS12oEg17ycba1+z9xgulsm3NTASMOGuKeJ3CWnqI84kheOBHAghrmlrmtcAvzk/5ZNh9n69twtey94pqyNkkQea98o0St0yMdFPUuYfnHAgeRSXwIbmyrr9vKihZuauriFTbYnFu9jjlmuT2s8Xh4sktGDjhnT6FALh4QFjqZXVtTyfWSa5SEyTVLp/6PNO8l0k0tEaUtkc55LiXucSSckniqr2N5Rq+zXt19tm6pKh088rqaNhFE6GokL5KJ8AcNVJggBuQW6GOaWua1wCIztcHuEgcHhzg8PBDw8E6g4HiHZznK9K+Cj+J3KV/k8f8ld11Lr4R1oqJnV79gLHJdHkyPrJ5GzRvnPEzvpjSDW/V42S8uz+Vniq55LuVSSxWjaK0so46hu0NI2kkmdK6N1KGw1cOtjAwiU4qicEj3g8qDceDpywx7N+6FBcqBt0sd3jbHX0vi71paHs3kQkOiQGORzXMcW5xGQ5unxpPyzclFgm2edthsfVz+5sdTHT11tqy50lHJK6KIRxvfmVr2STQZjkdJqE4e2TSADBeSPlNo7PSVVBc9nLbf6SpnbUNFUdzU08gj3TtxU7uQxtLQ33rQevic4G05VuXB11tUVgtVoo9n7IyUTyUdK908lRM12tpnqCxmtofpdjTkuY0lxwAAn9F/wAGKj/PG/zkCy8pn/B/ZfmWvce6x55o143m8vG83/8AY51jGrhndY/JVSw8rEjdj5NkuZRmKStFZz3fO3gImZLu9xoxjLMZ1dq7fI7y01Fho6q01VBSXux1rt5UWquH3sSjSd7BLpdunF0cTuLXAGJrm6XeMgsj/wBnQJekN0J1czFjm5zqzuNRrKLc7zPia9AqMZ/J3uO1dzwG6ncxbczUr3x7q0iSmfnEjNDbg6F+ex4w0/KFCNpvCBaLXVWjZvZ+g2Zprg0sr5aaV1VWVMZBaY+cuijLWlj5G8Q4gSO0luTmL8ivKxJszDeoY6KOrF5ouZPc+Z0RgAZOzeNDWO3h+/ngce9Qb/wK5HP29sj3uLnuddHOc4lznOdZ7iXOcTxJJOcldWr2+qdmdv7xd6SNkzqe/wB6ZLTyEtZUU8tdUxzQlzeLHFpy12Dpc1pw4AtMQ5GtuH7N3uivUdO2rfRc5xTvkMTZOcUlRSHMjWuLcCcu6uOnHatps1ynCk2iuN9ntNDcIrnNcJKm2Vo31MY7hUGofG1zmkamO0gOc08AeGTwC8ajYzZPlFiuNbs4KiybSxQS11RbZsGlqnkt1y6AXNEbpXNZvYSzSZg58R1DPkpX/V+EVT0dFW02zOy1v2dqbjGYaqviqH1c4icHAtp8wR7lw1Eji5rTxDc4IoBAREQEREBERB27P/Waf+/i/wBRqsdVxZ/6zT/38X+o1WOrCSIiKoIiICIiAiLBWS6WnHvjwA9P/X71JmldO8XDd4a0t1Hjx4/sH71qpbs4jSAC7gA4jq/QYOB+XrXaiss87ySMautzsYA8uM5d5OCzyW5lOMaXSydhLTjt6hniFgyyiWaMZpoZJHE+OM9vHgc+jyLtRhz2ktIByGkZHH5ncDwXaNM5595oGOAPFvEdrD1dS6dRTOByGOYR2tLgPocTw+fCnYjB06uIg4e0A44EcCR6R2n5l09GD6VuYXl+GOYHHqHDGflHUf3hcpbS53FjSAezrAPbgr12pOl+mpp5HMcCHEOB4EHipXY7pvvEfgSN+YOA/wB1F6iiLcntGOv1pE8tkY9pwcgj5RjOV7iWOYr2nqLFSzCRjXjqcM/Ie0fSsqyIIiIgiIgIiICIiAFWVX+Ef+m7+IqzQqyq/wAI/wDTd/EVJWGJERRRERAREQEREBbhmy1xcARbq8ggEEUtQQQeIIIZxGFp1f3Izy87UVF92ft015mfRzXa00UsBgogH0slZTwPiLmwB4BiJbkHPHrQU10TuX5tuH6pUewtMvUHhK8ue01q2rvFvt94lpqOmmhbBA2Cje2NrqSnkcA6WBzj473HiT1qn7tyZyU+ydBtUatjoq65vtraMROEkbmNrHb0zatLm/0M+Lge/HHggr9FYEHJnI/ZOXarnbBFFcxbTR7p28Li2N2932rAH3z3uns61dt05Dtmeh9mrPd63UVTU1komv8AIyukhrdJrP6FHTOm0QvjwGlzQ3JpSe1B5SRWdyT8kE18gr7lPcKS0WK2ybqru9ZqMW9OnRDTwjBnmO8h8TU38NGBlzmtOw215FWw2eS/2C9Uu0drppBHXvp4JqKrodWA2SaincX7nJbk5DhqDtJaHOaFQrs0FBNUOc2CGWdzGGRzYY3yObG0gOe4MBIYC5vE8OIVv8mXIBUXyxMvrLpRUVM2ulpqs1g3UNHTU7N5PWzVBfjQBhoYG8XPbktGXCRciux1TSbS3mh2X2mo5hDs5UTy3VtCyaCppnS0BqKNkEkj91IJXR/fMk/ejwGUHnVFNuSzYmku3O5LhfrdYqWjbCXyVmuWondOZdLaOjjw6pLRC4uwQW6mcDq4SPlW5HGWmz0W0FsvNNfbPWVBpOcw08tJLDUaZXBktNK5zmNxDICXFpBDQR4wyEDuGyFwp7ZSXiakey210skNJVl0ZZNLC+WORjWh2sEOhlHED3hWiXonlK/4UbF/5rdf527rzsgIiICIiAiIgIiIO3Z/6zT/AN/F/qNVjquLP/Waf+/i/wBRqsdWEkREVQREQEREBc4ixpaXjJJIaMZ4kYB/afoXBSzYHZfndZESMxsZvpCfKG8APRqc36Fh3ZdcWfj4ds4hgobMyVhedbnE569PUOGDj95HyLoXigGPwL2F3DOvPjA9ZaOBBXoOm2VYGtiijaMtDSXk8B5T5PkXKn5OmH76QHOGS3LWkA+VgB6/+slc763nw7UcSKedLPYKlzmsLC9h62OGoY48c4Bae3JwtvV7FvOC8OweGRxDMeceGPJgK/6HYYQlz3B0j3cWtbjtzpBBcB1+X0rDW7LvA0OOB+U1uHEcfe9Xk458quWyXrDjY+nn6TYgtxKx3AYPUewnzhk9X7V8FCGHBAHDGeo/Qr1umzrWxkNGGt6h1nJ/JB8irbaegbGH4GMHtHEeTH7VPq37ev8AzRjFwrPaGzhwc5uM4PDHX1eRQgQEZGMjJ7OpWjU4LSep2riB1f2seQHj9CiG0VDu3nTghxcQfQTn5uJ6vStvVk5PJ1+bZtn35iwfyXEfTxWxXQsjMRn9LAXfW3HpoyIiKoIiICIiAiIgBVlV/hH/AKbv4irNCrKr/CP/AE3fxFSVhiREUUREQEREBERAUz5Cfxq2a/5gs3/mNMoYu5Y7pNQ1VNW0sm6qaOohqqeXSx+7np5GywyaJAWO0vY04cCDjiCgs7wwfx3v/wDiKf8AkaVTbaOkln5ILHuIpJtztPK6URMdJu2ubdo2uk0A6Gl80TcntlYOtwVCbXbRVd2rZ7jcJjUVlS5rp5iyOMyOaxsbToha1jcMY0cAOpSXk15Xr/s5FNT2a5vpIJ5N9LCYaWpiMugM3rWVcMjY5C1rAXNwXCNgOdIwF137ZWttPJG6K4076Wapv8NYyCUFszIJWxsjM0bgDE926LtJ46XNzjOBqNvIXP5Itlnsa5zYr5Xb1zQSI9dReA0vI96CS0ZPa4eUKo9oeVG+XCjqqCuuU1VS1lb7oVMczIXulqwxkbZN8Y961rWRRsbG1wY1rGgNAGF3OTrlj2h2ep5KS0XR9LTSSb50DoKSqjEpABextZDJuiQG50YzpGc4QWvBE+v5IN3btT32raB093ijaS/m5EzxI9oGXRNFTRvL+oCB/HxHY4+C7TvpNkeUK41QMNuqbKaGGWTxIqitfBXwxRxOcMOkbLVQM4Zw6pYOsqlOTzlAu2z076mz181FLK0Ml0COSKVrclomgna6KUtLnYLmkjU7GMlbHlF5Xb/tDFHBd7nLU08TtbKdkdPS0+vse+CkijZK9oJAc8Et1OwRk5C14pHN5HXhrnND9pQ14BID2jQ8NcB75uprXYPa0HsC6/gF/wDfd8/5Uuf83bVTPTe5e5HuDzo+5POeec03UGOc9W832733/h1Y9C+bC7aXGxzT1FqqjSTVNLLRTPEcEuulmfHJJFieNwbl0MZ1AB3i8DxKC0eRLk+tb9mr1tdeKOqu8FrqWUcNopZpKUSyFtM6Soq6mEGWOnaKqPizGkRyE6uAFgcob45eSlk1NZTY6aS/RSxUYkrZ2uicHBtUJq5xkkZITgOB08Bhef8Ak15Ub3s2Z/cW4yUYqdO/Zu6eoieWZ0vMNVE+MSDJGoAHHDOFt6rl22nmhucE15mnhu8b4q6KeKkmY+OSIwPZC2SEijaYnEYg3fYesAgLA5Sv+FGxf+a3X+du687KQ3LbS41Nqo7JNVF9rt8ss9HS7uBohlmfLJK8StjEr8vnlOHOIGvhjAxHkBERAREQEREBERB27P8A1mn/AL+L/UarHVcWb+s0/wDfxf6jVY6sJIiIqgiIgIiICvHkpDGtOAA58MPV2jdNxn58nh5FSNPC6R7I2DU97msa0dZc4gAfSVaGwdRNDcKehkaRJFDplwQR97LyMH8pul0f0rV5XnCm9wYnvdeF+WKMascOOMnHXjCmFLTtIHicG8cY6+HDGVE7AcsaeHA4P0lTK2yn5vJhczU7+2ftc+aNaC9zfGIIDeGG54cfK70rSXChZnPAdZ4dvDiVIqt3i8eHBai5MLve9Q4nPkxjt6lnzYNVoXfo2tYSB1j9o6yqZ24ja7LR154enr/erc2pe4NcMcANI7Or5FVl7i4+MM+MCAPp4rXvy28oqFa1o3fiuwNIaPlJJyOHoC0tfBvyGgcG++8hJ4A+XqAHzLcX+PeTyNbn32APLwPHrWoonuY5wcDndu+UgdZ+UEZXQ1x4cHlZeadWjg3bNPaOJ+Ql2P2grMuF2rCJMNaHE8OsAaWuIznHDhj6FzyDxa4OHY5uSD8mQtvGY9NDLGY8/AiIvbGIiICIiAiIgLhuW+Y3uj1LmiKx7lnmN7o9Sm3IlsHDtDd47ZLK6mY+Com3sUcb3gwtaQ3S/hg5UNVxeBz+NdP/AIKu/gYoLO+5EoPzvV/q1Kn3IlB+d6v9WpV6WRRXmn7kSg/O9X+rUqfciUH53q/1alXpZEHmn7kSg/O9X+rUqfciUH53q/1alXpZEHmn7kSg/O9X+rUqfciUH53q/wBWpV6WRB5p+5EoPzvV/q1Kn3IlB+d6v9WpV6WRB5p+5EoPzvV/q1Kn3IlB+d6v9WpV6WRB5p+5EoPzvV/q1Kn3IlB+d6v9WpV6WRB5p+5EoPzvV/q1Kn3IlB+d6v8AVqVelkQeafuRKD871f6tSp9yJQfner/VqVelkQeafuRKD871f6tSp9yJQfner/VqVelkQeafuRKD871f6tSp9yJQfner/VqVelkQeafuRKD871f6tSp9yJQfner/AFalXpZEHmn7kSg/O9X+rUqfciUH53q/1alXpZEHkLlU8GyistnrrpHcaid9HE2RsUlPTtY8uljjw5zeIGHk8PIvOW5Z5je6PUv0D8Jr8U71/h4/5mBeAFUlwETR+S36AuaIqgiIgIiICIiDZbLTMjrqN8pxG2phMh8jN40OPyAZPzK6dorPza+WqqaDmoirad5yMAwRtewDA4niRx81UIvQuz1Xz+02GqJ1y09RVQyuPZJzaWIOcfOIDe8tTkx6l0+BncZa/wBxP/PCytk5oy0HWM54jIwMdeexS+huUAOHSxtd1aS5vzdZyqauGzdRqjEcm5p3uBmk1antYTgiPIwDntcOGc9i0m0HJzUuuIlglPueXSPdK6p1yOZu6cMj0vIcyRj2TnIzqMzfehuFq6tcTEzDo79uUTEVPn8PQ1dUMLdWoEZxkHhx4D9669bVsZF1jJb2/wC6rfYyxTQljXVskrM4cHceAxjVn8rB6x5FF/CIu9bSiCnpHuj3rnNcWniWgHHHsyvPaZlkn7Y/iQ7Z3qnaHh80TXDBLdY/d5cqu7ndaaSJz2yNc3iCQRwUa5NdjWXIy1F3lke0wyiMl7g3fYxG127OtrQTnynTjI4ZjV32QmoWzb2pi0apC2NjnzDBe5zGtDuOA0tblxBwMnisuOmPcy19nI2TMVjcMNRIx8j3xuyWnUB5R+VgejC1d7cWzR4/KZ1+jHEf9eRZKGzTmPf6dBbp4DAB9OOwH6FsLhbHPigqPgxKHj0hpc0j5ws2FNHbjM+/lGbvKx7zHHnIwDnhk57PKNXastvYWxgHhxcceTJ6l0WvDqlo6msIBcO3Ser0nq/Ytu48Twxkk48meKy6o+WPk1jj1fERFnaIiIgIiICIiAiIgK4vA5/Gun/wVd/AxU6ri8Dn8a6f/BV38DFFe5ERFFEREBeevDKjdNNsbSb2oihrtpaWjqebzSwPkgqHRRSs3kTg4Za48exehV5x8Ne2Q1s2xdFUs3lNV7T0tLUR6nM1wVDoopWa2EOblj3DLSCM8EE/2c5DLNQVdPW07rqZqaVs0QmulfPFrYcjXFLKWSN9BCw7W8vVmtlyuVonZXyXC3CkApaanbPNcJa2COohp7dEyXXPLu5AXagxrdJy7qz3uTzkP2d2frPdC0251LV7qSDemrrpxupC0vboqJ3s4ljeOM8FX/JvQxP5VdtJ3xsdNBbrOIZHAF0Qmt1uEu7J96XBoBI44yOolBv+UPaG2Vs2xFZcG7QW6etusbrbRxthpniqL4MU97gkLnNhBDMtYc8XKYcrHKna9mo6c3B88lTWP3dFb6KI1NdWSZa3RBACB757W5c5oJc0ZyQFXnhQ/wDfvJ5/zNH/ABUq1O0m5j5XrY+4YDZdnXR2l8g8TnQkq8sjcfFEml1YADxzK0dbm5C1OTTlMbe55qY2PaKzyQwicG927mEczC8RkQP3rt48EtJGBwPaqv8ACwo+ebR7A26Sapjpa+tusFUymqJqZ0sf/ZXAvhcHcMnB7MlejV588JP8ceTX/Mrr+61IO1th4Pe5ppJ9mb3fbVdYGmWl1XSqno6iVnjNgqo5nk7t+NGc4GvJa8AtO+8HHlX93dmDdrm+OmqLa6opbvK8CCFklHGyaSpcDhsTXU8kcjgMNa4vAwBhWHtptNSWegqblcJ2U9LSxOkke8gZwPFijBP3yZ7sNawcXOc0DJK8dWexXCLki2hrXRSRy3q5e6+6ja9rxb31tuikfp98IXMpppNXUYnA8WnJC96XwjrO58Ek1DfqO1VUzYKbaCttr6eyTPeSI3CqfJrZE8g4e9jR4rydIa4jVbe1sto5SdnKkzObRbQ2ystMsRe7dirpXCZkoYTpMj3voIuoHgeJzhaN3Jpftp9l6WgG1FpdZa6ht7oGU9k3TmQQGnnp42PbVZjcwwsYRgEaXNIHELaeF9Z56XZa1XSN4mrdlrjaLhvtJBlMLo6WQ4ySxrp5IJD14EfzoIL4Vu2lbSbX2qsppZG2zZd1nmuwie8aXXSsle9k0bTiRj6WlibjGfvvDryLU8Ierkrbtsfs7TySR+6N4NyrXROIDrbZojUTwSFrgQybeYHZmL5jWcFpbtRsnyi35sbz7tVs9Rb3aXb2ag2biidbSGY1Ne4wTM0Yzlzh2raeCpfH7UX2S/y7xzLLszZ7DG54IZLXzsFTc52Ajg9s0cjM9rZWdeRgLI2QrLZ012nZBNeJLrFRW91fTzuhdaYojSUjoPc6Nv30TOj3Rdq4FxfjsUK5MvCIqq+93qiqrJe30sNXQU9vjpbRNzqgbUGdspvmZiKU5EZBP5MUpxwXd5Mf+KO3H+XWT+Qt65eDp+OfKSO3n9nOPRu7nx+TiPpQYL94QNRSbXz2g2e8z26moJy6CmtM01ynrIax8HPKdol++2h0bPFmAAJcFftrqxUQQziOWITxRzCKdhjmjEjA/dzRnjHK3OC3sIIVHzOA5WowSBnYsgek+6bzgeU4BPzFXygIiICIiCuPCa/FO9f4eP8AmYF4AXv/AMJr8U71/h4/5mBeAFYSRERVBERAREQEREBWxyHXMGlr6R54wvgrIBnqc97YJcDyYLe8qnW42Mq3Q19MWuLQ6Vkb8HGpj3AFp9HV9AWPbj2xmGxxdnTZE/Hqf5L1zbXiSIMwDkDgeo9h+VdhtjY4eMOHXxwcY6uDQM/OtTYbg1gaHYzgD6O35Vsp79I94hpog44BdI/xY4xniSe0+gcSuXFRD63LrMRMOxTsa1zA1ojja4ANbgAfR6Qqq5f6ln3p+MyNlbjq6jn5+pWOHyyy7rOXasOI4A48gPABVDy8072zMBGlsnVIT4vDPi8Oo8Exxl6nXEYzPzTo7BESvMT26XEZBHDGRx4j0KU1+xMDyJZw+QN8Zoe9zmg9fvS4tGMKrbHtLHSXFrIHteHMa1+slw1N7Qc+KT2q35dot7T+M0NOkHHDTxHWCPQrnFMOGWEzU/CtNuK4R5iZG0NY0tZpAAAOBgehRWef/s/Vk5HOAfq3YOO1dvbe6NlqSPyePAYyQOJ/cVrK54FHIzIIlm4AE50lpzjHZgBbOnFyedsjtUfCK22NpHV73iCesl3Xk+gAfSu8vjWgDAGAvq3McesU5O3Z3ysREXpiEREBERAREQEREBXF4HP410/+Crv4GKnVcHgePDdqqcuIA5lXcSQB7xnaVFe5kWHnUfwkffb6051H8JH32+tRWZFh51H8JH32+tOdR/CR99vrQZlDOVPk0t20jKSO5c5xQzmppnUs76aSObSGh4kj8YOGAQRjB4qW86j+Ej77fWnOo/hI++31oKytPIXbKaogqWV20Dn080U7Gy3mulic+GRsjWyRPfpkjJaAWngQSFK7PsJQ0l5uN+hbKLhdYqeGrc6Quicyliihh0RYwwhkLOI6+KkXOo/hI++31pzqP4SPvt9aCPbZ7C0N3qbVV1jZTNZqwV1EY5DG1tQDGQZGj8I3723gfSupyp8mdq2lghhutO57qWQy0lVDI+CrpJHABzoJ4zkA6WEsdlpMbCQSxpEs51H8JH32+tOdR/CR99vrQQfk65KaKyVLq2Osu9wrDTPoxU3a4T1z2U0kkMr4o2OxGwF9PCchufE6+tZeVLkstu0clBNcDVtlthqHUclHUyUkkbqncb12uLxtX9Hjwc8OPlUz51H8JH32+tOdR/CR99vrQVVS+Dts5v4qirp626vgOqJt2uFbXwsJxnME0m7kacDLXtcDjiFas9JE+J0D4o3wPjMT4XMa6J0Tm6HROjI0ujLSWlpGMHCc6j+Ej77fWnOo/hI++31oKkh8Hazwue2jrdoLfRSOe99robvV09uc55y/7yCXgHiMB4HH5MWLfdlaSttc1mnjcaGaj5i6MPdrEG7ETdMhy7W0AEOOTkArbc6j+Ej77fWnOo/hI++31oNHsJsXQ2W1w2ahic2hgbOxscr3SucKiWWabW93F2p80nzHHUF0eSfk3tuzFHLQ2mOWOCaodVSGaR00jpnRxRE63cQ3RCzDeocT2lSrnUfwkffb6051H8JH32+tBHbPsHQ0l5uN+hbKLhdIqeGrc6Quicymiiii0REYYQyFnEdfFR++cjVsqb2L/FPc7fcHuhNWbbWyUkNwFPo3bK2IAiWPEcYLWlocG8ckkmwudR/CR99vrTnUfwkffb60EE5TuSK23+qpLhUSV9DcqFhip7la6p1FWshcXkw75rTmP75L2ZG9kwRqOZ1bqUQQxQtdI8QxRxB8rzJK8RtDA6SR3F8hAyXHiSSV951H8JH32+tOdR/CR99vrQZkWHnUfwkffb6051H8JH32+tBmRYedR/CR99vrTnUfwkffb60FfeE1+Kd6/wAPH/MwLwAvffhL1DHbKXoB7Cebx8A5pP8AWYOwFeBFYSRERVBERAREQEREBc6eQsex462Oa4dnFpBH7lwRRXpLZm9R1lPDINQEjQRgjOrqc0eUggfSs9ZcpGPjYwSgOzgRte8gNzxkLc6flKpfk+v5izSvdpaX72F+SNEjQSW8OsHGR6QPKrt2PvW/3b3DG9Ba/wB778BpAGT2nr8i4+7VOGX6fQcbkRnjDG65zse6ppquB0oaQ6LeRhpAaG8BqyDnt6+PUqh5TZrvcWNFQx1O2PW4aQA1/EnVnrwAcfSr5utvpo9UssDXDi5wMbXA46gTjrVe7RPoZi8CjaHYIAcSfT4rTnDetZMesesnRzxxyxrtP4eeqGkfSP3kr2tLTkNcfGPZ1dqsPZO5V9VTv3cLt2CAHSAjV1jxR2jiPoXGt2fjllBip9LS/L3aMDGerOMgetb653b3OpssLQGNcCB6Q4DgOo5TPKMvXmXNjD6czN+EC29kayrETSNTGu1uByMjqAPZjP7Fwnc4U8bT1B/X/wCE8M9v/oo9FM6aZ8vv5JHZwRkeM709Zzxx/ZUmuLdMLW+SVwJ8pDeJ+nK29WNU5m7PvctaiItppCIiAiIgIiICIiAiIgLi9gcMEAjyEZH0FckQYubR/Bs7rfUnNo/g2d1vqWVEGLm0fwbO631JzaP4Nndb6llRBi5tH8Gzut9Sc2j+DZ3W+pZUQYubR/Bs7rfUnNo/g2d1vqWVEGLm0fwbO631JzaP4Nndb6llRBi5tH8Gzut9Sc2j+DZ3W+pZUQYubR/Bs7rfUnNo/g2d1vqWVEGLm0fwbO631JzaP4Nndb6llRBi5tH8Gzut9Sc2j+DZ3W+pZUQYubR/Bs7rfUnNo/g2d1vqWVEGLm0fwbO631JzaP4Nndb6llRBi5tH8Gzut9Sc2j+DZ3W+pZUQYubR/Bs7rfUnNo/g2d1vqWVEGNsDAchjAR2hoB+nCyIiAiIgIiICIiAiIgIiIPrOsfKOpXJsvNLbKlsM2t9PUNYYKnSHZkzwjkHU13ADs1asqorbSunmihYCXSSNYAPSQM/IBx+ZekXWyOan3MzA9hAaQR2dWQew9WD2LS5UxcRP7dLga5yjKY+KSdt91RtDmxnIy4nHHhjgAOI4HitDfJKcFx3bA8Z1ENGeJI4ZGDk44eRR250Nwo26qYCsjDSGMLmxzMjAxujqOmTqHjcCodftoq1uSKCdjng5Dy04e4EOw5riNPqC0+n4dOORGMfc7O0e07YnvhIYSQSCwBudAJ8Uflf/ANVTbX3l1TJpc52katPp4uwCBwIyP2elcrnFWPe58jDqHvXOdnQOIPAA/wDrhaJ9O5jsu4u7T5Pkx2LZ164xhzuTyMts16hsbNGIwHdTz1Y/efSpDWtLqUP68Tfscw//AJAqKU7yHgkn1Ka2uRj6Z8bupzMfIesEeQ5AWeMvNy1+t4zCPotGy6GnmkhqJC9owY5A0atJzwe1g6x6AtpSVsUv4ORr/QDxHytPELYibakxXh2ERFUEREBERAREQEREBERAREQEREBERAREQEREBERAREQEREBERAREQEREBERAREQEREBERAREQEREBERAWOombG0ucQAPpPoHlK1d3vjIssjxJJ1Hj4jD/aI6z6B+xR9tQ6R5fI4uc7tP5PoaPyR6EHojwdtld+wXaZ+t0r5Y4Ix+Dp443uY4HHvpnaeLj1DgOsq530+kE+TP7yqF8FXbuOlqXWaseGQ1smuikdwayrIw6Bzjwa2UNaW/2gfOXpe6UYwRjtP/AF8q5PIxyjZPb/P47/Dzw+nj1/3+tI+AuYSOIP0jA6jhaO52tj85APpGPmUlonY8X/ZYK6Icc9ZHyf8AovMT4Z9mFqk2nszQx2mM5+TH7ScKrLpZywuBGOzyntPYvQl7gB1cPk7eztKgN1s+p5JHzjj+zyrJjnTXz0Kfrafd6c4Havvui5oAaeI/2Wz24iDJQ0DGB29efkUQulQYmHz3jDfn6z9C2MPLS3fZNNLc5zJM93Xxx9HD6F1mkjBGQQcgg4I+QjqWQRr6GraiKc+Zvy2VBtBPHgOxM3+3wd3x/vlb2i2ggk4OJid5H+9744fThRAtXzSvSLFY8OGWkEHtBBH0hclXcEr4zljnMP8AZJbn5cda2lJtBOzg/TIP7Qw7vN9SCYItLSbRQu4PDoj5T4zfpHH9i28UjXAOa4OaeotIIPzhBzREQEW/2H2dZc5auE1kdJJT26ur4GvhkndWPoYXTvpImxkFsjoo53avGIELsNd1DrWHZi43Bm8obbcK2Pj99pKSpqYgW8CN7DGWagezOeCDUouxcaGamlMNTBPTTtAc6Gpikp5mgkgF0UzQ8AkHiR2FddAREQEREBERAREQEREBETKAiLsUtBPMyaSKCeWOnYJKiSKKSSOnjcdLZJ3saWwsLuAc4gZQddERAREQEREBERAREQEREBERAREQEREBFiqahkTS6RwY0drjj5h5T6FHLntMTltOMf8AzHDj8rW9nz/QgkFdWxwjVI8N8g63O/RaOJUWu1+km8SPMcZ8h8d3yke9HoH0rVSyue4ue4ucesuJJ/b+5cmDtPWgNGCB5FlYOK4M8q5s/wB0SZZ2PI7SCCCHNOC0g5DgR1HI61608HPlebdY47Vc3tFxjZpgncQ0VkbQAP8A64HWOGeteRys1NO6N7XxvdG9jg9j2Etcx4OQ5rhxBB7Vj2a4zhl07p1z49fL9Dqy3lrgQ3IXRuFIdJI+cFUxyQeEUzRHRX8aXNAay4sBLXjqHOWNBLHYx448Xgc6V6BjnpqynE1LNFNE9upskbg9j+GQWubkOC5+eqcPbuauRGfqbV7Xwg5H7McB1dS6MllLmOcB2Z/YpcyiDnaSOHb2/Lg+hZto6ylt1vqKurlbDTQRkySP6w3hpa1o4vkcSA1o4knCx44zMs2WVeZeW+USjZE6aom8SOPAB6tTuOlrQffEnyKnqud08hkcMDqa3sa0dQCk3KRta+8VbptJgpWOcKanOMsaT7+Ujg6Zw4k9QzgcOJjLupdPVr6xc+3B5O7vlNemIoFzcuJWRrPmF8wuS+Kpb5hfHhcwvhCPTEVnoqySF2qNxb5R+S70Ob1FY3DtXEBBYyIiC++SDb3mVNQ3W9y2+tpaAMsVooqejopr9SvwwGobIGsliom0hka7L3GQlg06nAv6XL7tWx9ZdqWYX+23Siq4aa300dwDrKaOKT+ttpWMjdTGal0yNDdeTJF4wAcFDNhaaOtsl/oY6SmluUAo7tSTbkOr3UtLLouUNPN74BkLo5RG3i4On4HhiI7ypuFUzVJPW1lXLDCx80r5p6iaQsggYZpnEvcSY2DUerSOACKm2xW1r7i+Cx36eWtt9XI2npquocZ66z1c7t3T1lJVSZlMG9dG2SF7iwszgDBDoLeqCSjqKmlnAE9JPPTTNGcCWnkfFIGkgEt1sOD2jCtDZzkuuJoqxrLLXs2jtd2t0jHVBZHQSUUrZODDL/RqoR1FPqe5riNEzCCQHNMR5Y6hk95r547jSXY1BZLJW0NO6kpJZnQsD2wROkkyxpaBrD36+LskkoJdfeSm3Wo0TrxtJFRxV9FTVUDYrdU1VRrlaTNvIoZCIaWMmPEzjmQl4DW6CTrqzkfrWbQOsLaineG0wuDri7MdMy2acvrpGai5gDvvegE+OQNWk6xm8Juuhqa20up5op2t2WtUZdC9krWyCSvcYyWEgP0vYdPXh7fKrSuW21BS7VDe1tLHS3LY2ktgr/vNTTUlS9880LqkO1RGHTjU14LfvkerDSSiKfrdhLfUUVfV2O+e6z7VAKmuppbfPbpDSai2StpHTSOE0TDxcw4c1uCTkta7U8oWxxtEFnmNQKj3WtFPdNIi3XNzO0O3Gdbt6Ggt8fxc8fFCsnaKK+0VBcH1t52UpKeegqqbTb4rOaq6xzR4fR0Yo6JsxZKOGslmnxXEDGW8dstn27SWjZuqobnaIGWyyQ2y5ivrWUr6GamZG1z5I3NLnRnEhHUSAwt1B+QVpaXkZdJfaCyC4jVW2SO8c4FKSIzI2cc2ERnGv75B+E1N4P8Ae8OPVtvJZBWVcVuoL7S1dbE2aa8ObS1MdutVNTtbv5m3CQhleGyuEY3YbqLgToAcRblNe6Bu3dnmir6V9GzZCGFlUZomRkt5/I1r3F2I5TCWv0HiA4cFTPg83ukp33K3XCoZRU98slTa+eyeLHSTyx6Y3zOPBkRDpAXEgAhmcDJBHYk5NqCspa2awX5t3qLbTuqqqikt9Tb5paaM4lqKIzPdv2t8wDPFvHLmh3KHkyoobVabzdL8ygo7nHM7dsoKisqmyxyYjigigeTMwxhz3ykNDCGNw8vGJNye2Loe64Xe7V9qe91qqqK30VBWMrJq+oqXQlrmNY0FtK0xNy9w4CTJDdPGM8qVZC/ZnYiGKaKSSno7uyZjHse+ImoomtErGnMZJjfjVjOh3kQd6/cklvtc0XuttNTU1FWtjktdRBQ1NTLVwSMY41M8Eb9NDTsMjBrc9wdxI04ONezkcrPd+ssclTBFHQU5raq6SNcKWO37tkgqjHqyHHeBu7LhhzJPG0tL198IqtinptmRBNFMY9k7fHIIntkMcgY8GN4YTokyD4pweCtTa/aW3TbTbQ26W4UsFPf9nKa2w3HeMkpYKrcSmJs8rHaWRubUEkkgeKwflhBXOz/JRbrsax1n2kZVx0NFUVM7ZrbU0lSHxtzDu4p5AJaWRweDIDmMhgLXawRvaTZaxP2Kje+9xRMdfWvfdvcSskmjqHUADrZuGu3742tJdvQ7dnHVldrka2RGz9XdZbrdLOyolsNwgpqamr4qh0jHGKWaokdhoijG4jDA7Dn65DpG7KjvJ/SsvGx89ip6uigukF8ZcmU9bUR0nOKU0ccBdA+Tg9zXl+R2aBnGpuStNbOTqjht9Nc75em2qmuDpvcyGOhnr6ysgiIBq3QRPBp6fBa7jnhJHxBc0Gb8k+zMEdLtrQU13oKulmstue26t1w0sUMpuDpH1cbsvp5Imte58eXEAN7TgdK/WZu1FosDLfXW2K4WKhNpuFBWVcVO/FPuoo6umfksnp37gu1tJaRI3jlpC6+x1DT2m3bbULrpbqyR9joQJKOcPgfUufWtlpKeR+nnT43PiaXMGMytGAcgERy7cnlE+0Vl2st7F2ZbHwNuMElvqLdLEyodojqIW1Dy6SLJPAgcI5OOWFqrpWfyT10MWzu20ck0Uck1FaWwse9jHzOFRWAiJjjmQgvZkNzjW3yqsEBERAREQEREBERAREQEREBERAWpvl5bB4jcPlIzj8lueou9S7lzqxDGXflHxWDyu9Q61BJWuL3ayS4klx8pPHKEy+1c8kztUjy53ZnqA8jR1NHyL5FH5VyYxZQjzb5p9CBqyL4ULfAF8K5AoUQC5YXFq5hBxK22y21dwtT9dvrZ6Yk+NGx33mTy7yB+Y3nh1kZWpeuLipMX7escpifHheOx/hDVUTg250rZ28A6elIil7PfQyO0P4Z6nN+RQvli5TqraKoG8Bp6CB2aWiactacY385HCSpI7epoJDe0ugIGFw6z6F4x14xNxDNlytmWPWZc3FfB1JlfXrIwOLl8X1/YiI+EIAvq+FAC+oetAg49nzrivresj0ri7rA9KLaxUREenbs1znoqiGrpJn09VTyCWCeMgPjeARkZBBBaXNLXAtc1zmkEEgzKXamyVrt/cLHPS1hcJJKiw1zaKGeXOS/mFVBLFSuJwSYXAEknAKgSIL/5KeVx4qTaKBtNaKOqguL2196uNVcZoriaOR9JVTVVW9sEcRmiiDoGxaSZHEEuJ1U/tbtG2vjo2C22qhlpWzsmntlLHRiudK9jmyTxwgR5YGYbpAH3x+MAho0CIr4AgC+oiPgaB1ABC0deBlfUQfMDyL6iIPgaB1AD5EwvqIN1atk7hVU5qqejllgG+Ie3dh0u4bqnMETnCSq0N98Ymu04OcYWNuzFcaM3AUkvMxG6YzeIPvDZN06oEWreuphIdJmDdAIILuBU75O9prXRNtMk0scMlKKxlaJLa6vrHSVMlU2OajrJHFlDRthngLmQBkuqGfxZDLqWjuVfbpqenmdXVrJ6axUtmNDSxOhfO+kp20Rc6rfmL3MniaZXxOGsmR7NPHUg0l02OuFJC2aegmijc+KPqY57JZ2l8Ec0EbjLTyvAOlkjWudjgCthdOT+vpqPnFTTyxzOuVJbIaQRtmknmqoK2Uta6GR2mpY+kZGact15qWZ08A6dDbi1UslVPTyQytN2s1zpaWO1up53wWy4mpdTV1ymc+esuBhkH3yV7otUL3B+ZNI1ezW09rs7onQ1dTcsX+C5SA0j4C2j9zbxQPdid+JLgx1wje4cGOLGBrzxLQhtRsTcmzw0rqCZ09QyeSnjj3c++FMxz6kRPhc5kkkbWkuYDqbkAgFwBy1+wl1giknloJWwwwuqHSh8D2GCNuuWeExyHnETG8Xui1Bgzq0qUja6jpo46WGanfG2nvzy+3Wz3LpW1Nwsc1rpA2J2Z5J3PLN5IdLGtEQGvSXLWWbaalidaC9zw2i2fvlumxGTpqrh0g3DWD8ph90aXLhwGXZ96gi9VYKuKSqjkppGSUMTJqtrtP8AR4pHQMje85xpc6ppwME53rcZWuVj7bXHd2K2skjmhuV0pqOOvbMxzHSW+wyVVNa5y2TD9NQ2SA6yPG9ymkEgjNcICIiAiIgIiICIiAiIgIiICIurdandQySdobw/SPBv7SEGgvtVvJSBxbHljflHvj9PD/wrWy8flH7li3q4GVHmWZfcLrslX3eoOwuLjwWAyrg6XsQdhrsYXPK628TeIjs5X3UusHr46RCnYLlxcVgEia0Vn1LiSsWtC5CIZgV9JWDUmtFplcepMrE53ampEplymVhL0D0IhmBXEO4rEHIXItObzh2fLhcZPfD5Vwe7qXxzuIRVlooZ0rn8yHuv9tOlc/mQ91/tqLSZooZ0rn8yHuv9tOlc/mQ91/toUmaKGdK5/Mh7r/bTpXP5kPdf7aFJmihnSufzIe6/206Vz+ZD3X+2hSZooZ0rn8yHuv8AbTpXP5kPdf7aFJmihnSufzIe6/206Vz+ZD3X+2hSZooZ0rn8yHuv9tOlc/mQ91/toUmaKGdK5/Mh7r/bTpXP5kPdf7aFJmihnSufzIe6/wBtOlc/mQ91/toUmaKGdK5/Mh7r/bTpXP5kPdf7aFJo4knJJJwBknJwAGgZPYAAPkAXxQzpXP5kPdf7adK5/Mh7r/bQpM0UM6Vz+ZD3X+2nSufzIe6/20KTNFDOlc/mQ91/tp0rn8yHuv8AbQpM0UM6Vz+ZD3X+2nSufzIe6/20KTNFDOlc/mQ91/tp0rn8yHuv9tCkzRQzpXP5kPdf7adK5/Mh7r/bQpM0UM6Vz+ZD3X+2nSufzIe6/wBtCkzUd23qMRxR+e4uPyMHD9p/Ytd0rn8yHuv9ta67XN9S5rpAwFo0jQHAYznjknillOvqXzUseUyhTJqTUseUyhTmXICuGUyhTJqTUseUyhTJqTUseUyhTJqTUseUyhTJqTUseUyhTJqTUseUyhTJqX3WsWUyhTJqTUseUyhTJqXwuXDKZQpzz2L5lccplCnxERRRERAREQEREBERAREQEREBERAREQEREBERAREQEREBERAREQEREBERAREQEREBERAREQEREBERAREQEREBERAREQEREBERAREQEREBERAREQEREBERAREQEREBERAREQEREBERAREQEREBERAREQEREBERAREQEREBERAREQEREBERAREQEREBERAREQEREBERAREQEREBERAREQEREBERAREQEREBERAREQEREBERAREQEREBERAREQEREBERAREQEREBERAREQEREBERAREQEREBERAREQEREBERAREQf//Z\n"
              }
            ],
            "_view_module": "@jupyter-widgets/output",
            "_model_module_version": "1.0.0",
            "_view_count": null,
            "_view_module_version": "1.0.0",
            "layout": "IPY_MODEL_a60cef06973e4aeab3efefa761708e4c",
            "_model_module": "@jupyter-widgets/output"
          }
        },
        "c9360bb3d73046b787f964e0ea14782a": {
          "model_module": "@jupyter-widgets/output",
          "model_name": "OutputModel",
          "state": {
            "_view_name": "OutputView",
            "msg_id": "",
            "_dom_classes": [],
            "_model_name": "OutputModel",
            "outputs": [
              {
                "output_type": "stream",
                "metadata": {
                  "tags": []
                },
                "text": "Video available at https://www.bilibili.com/video/BV1Zq4y1p7N6\n",
                "stream": "stdout"
              },
              {
                "output_type": "display_data",
                "metadata": {
                  "tags": []
                },
                "text/html": "\n        <iframe\n            width=\"854\"\n            height=\"480\"\n            src=\"https://player.bilibili.com/player.html?bvid=BV1Zq4y1p7N6&page=1?fs=1\"\n            frameborder=\"0\"\n            allowfullscreen\n        ></iframe>\n        ",
                "text/plain": "<__main__.BiliVideo at 0x7f34e0642610>"
              }
            ],
            "_view_module": "@jupyter-widgets/output",
            "_model_module_version": "1.0.0",
            "_view_count": null,
            "_view_module_version": "1.0.0",
            "layout": "IPY_MODEL_1b1434e01bb74f51b295dda1c84c683e",
            "_model_module": "@jupyter-widgets/output"
          }
        },
        "a60cef06973e4aeab3efefa761708e4c": {
          "model_module": "@jupyter-widgets/base",
          "model_name": "LayoutModel",
          "state": {
            "_view_name": "LayoutView",
            "grid_template_rows": null,
            "right": null,
            "justify_content": null,
            "_view_module": "@jupyter-widgets/base",
            "overflow": null,
            "_model_module_version": "1.2.0",
            "_view_count": null,
            "flex_flow": null,
            "width": null,
            "min_width": null,
            "border": null,
            "align_items": null,
            "bottom": null,
            "_model_module": "@jupyter-widgets/base",
            "top": null,
            "grid_column": null,
            "overflow_y": null,
            "overflow_x": null,
            "grid_auto_flow": null,
            "grid_area": null,
            "grid_template_columns": null,
            "flex": null,
            "_model_name": "LayoutModel",
            "justify_items": null,
            "grid_row": null,
            "max_height": null,
            "align_content": null,
            "visibility": null,
            "align_self": null,
            "height": null,
            "min_height": null,
            "padding": null,
            "grid_auto_rows": null,
            "grid_gap": null,
            "max_width": null,
            "order": null,
            "_view_module_version": "1.2.0",
            "grid_template_areas": null,
            "object_position": null,
            "object_fit": null,
            "grid_auto_columns": null,
            "margin": null,
            "display": null,
            "left": null
          }
        },
        "1b1434e01bb74f51b295dda1c84c683e": {
          "model_module": "@jupyter-widgets/base",
          "model_name": "LayoutModel",
          "state": {
            "_view_name": "LayoutView",
            "grid_template_rows": null,
            "right": null,
            "justify_content": null,
            "_view_module": "@jupyter-widgets/base",
            "overflow": null,
            "_model_module_version": "1.2.0",
            "_view_count": null,
            "flex_flow": null,
            "width": null,
            "min_width": null,
            "border": null,
            "align_items": null,
            "bottom": null,
            "_model_module": "@jupyter-widgets/base",
            "top": null,
            "grid_column": null,
            "overflow_y": null,
            "overflow_x": null,
            "grid_auto_flow": null,
            "grid_area": null,
            "grid_template_columns": null,
            "flex": null,
            "_model_name": "LayoutModel",
            "justify_items": null,
            "grid_row": null,
            "max_height": null,
            "align_content": null,
            "visibility": null,
            "align_self": null,
            "height": null,
            "min_height": null,
            "padding": null,
            "grid_auto_rows": null,
            "grid_gap": null,
            "max_width": null,
            "order": null,
            "_view_module_version": "1.2.0",
            "grid_template_areas": null,
            "object_position": null,
            "object_fit": null,
            "grid_auto_columns": null,
            "margin": null,
            "display": null,
            "left": null
          }
        },
        "f7ae8ad873b04a4787f48931db8ad2f4": {
          "model_module": "@jupyter-widgets/controls",
          "model_name": "VBoxModel",
          "state": {
            "_view_name": "VBoxView",
            "_dom_classes": [
              "widget-interact"
            ],
            "_model_name": "VBoxModel",
            "_view_module": "@jupyter-widgets/controls",
            "_model_module_version": "1.5.0",
            "_view_count": null,
            "_view_module_version": "1.5.0",
            "box_style": "",
            "layout": "IPY_MODEL_7bba06d23eb54728a87a7c5e2cb706ab",
            "_model_module": "@jupyter-widgets/controls",
            "children": [
              "IPY_MODEL_19fd606e6f37476ca3b82a71d10f9d6a",
              "IPY_MODEL_bce4cf2e50ce4350a00093e425e0cfa2",
              "IPY_MODEL_7aec7ed52033476dae5e7e7ef039d44c",
              "IPY_MODEL_017028664ff34d7f8ab9b8e6ddc83dce"
            ]
          }
        },
        "7bba06d23eb54728a87a7c5e2cb706ab": {
          "model_module": "@jupyter-widgets/base",
          "model_name": "LayoutModel",
          "state": {
            "_view_name": "LayoutView",
            "grid_template_rows": null,
            "right": null,
            "justify_content": null,
            "_view_module": "@jupyter-widgets/base",
            "overflow": null,
            "_model_module_version": "1.2.0",
            "_view_count": null,
            "flex_flow": null,
            "width": null,
            "min_width": null,
            "border": null,
            "align_items": null,
            "bottom": null,
            "_model_module": "@jupyter-widgets/base",
            "top": null,
            "grid_column": null,
            "overflow_y": null,
            "overflow_x": null,
            "grid_auto_flow": null,
            "grid_area": null,
            "grid_template_columns": null,
            "flex": null,
            "_model_name": "LayoutModel",
            "justify_items": null,
            "grid_row": null,
            "max_height": null,
            "align_content": null,
            "visibility": null,
            "align_self": null,
            "height": null,
            "min_height": null,
            "padding": null,
            "grid_auto_rows": null,
            "grid_gap": null,
            "max_width": null,
            "order": null,
            "_view_module_version": "1.2.0",
            "grid_template_areas": null,
            "object_position": null,
            "object_fit": null,
            "grid_auto_columns": null,
            "margin": null,
            "display": null,
            "left": null
          }
        },
        "19fd606e6f37476ca3b82a71d10f9d6a": {
          "model_module": "@jupyter-widgets/controls",
          "model_name": "FloatSliderModel",
          "state": {
            "_view_name": "FloatSliderView",
            "style": "IPY_MODEL_810f007132404d8c86db578e496a5a5f",
            "_dom_classes": [],
            "description": "p(color=golden)",
            "step": 0.01,
            "_model_name": "FloatSliderModel",
            "orientation": "horizontal",
            "max": 0.99,
            "_view_module": "@jupyter-widgets/controls",
            "_model_module_version": "1.5.0",
            "value": 0.75,
            "_view_count": null,
            "disabled": false,
            "_view_module_version": "1.5.0",
            "min": 0.01,
            "continuous_update": true,
            "readout_format": ".2f",
            "description_tooltip": null,
            "readout": true,
            "_model_module": "@jupyter-widgets/controls",
            "layout": "IPY_MODEL_6e5013cb7a7244ea8729155a29ae3ec6"
          }
        },
        "bce4cf2e50ce4350a00093e425e0cfa2": {
          "model_module": "@jupyter-widgets/controls",
          "model_name": "FloatSliderModel",
          "state": {
            "_view_name": "FloatSliderView",
            "style": "IPY_MODEL_33fbb9f014b745309d6730bd6ed7f95e",
            "_dom_classes": [],
            "description": "p(size=large)",
            "step": 0.01,
            "_model_name": "FloatSliderModel",
            "orientation": "horizontal",
            "max": 0.99,
            "_view_module": "@jupyter-widgets/controls",
            "_model_module_version": "1.5.0",
            "value": 0.52,
            "_view_count": null,
            "disabled": false,
            "_view_module_version": "1.5.0",
            "min": 0.01,
            "continuous_update": true,
            "readout_format": ".2f",
            "description_tooltip": null,
            "readout": true,
            "_model_module": "@jupyter-widgets/controls",
            "layout": "IPY_MODEL_bce2ca136e0545de98c46cbd8872f7b4"
          }
        },
        "7aec7ed52033476dae5e7e7ef039d44c": {
          "model_module": "@jupyter-widgets/controls",
          "model_name": "FloatSliderModel",
          "state": {
            "_view_name": "FloatSliderView",
            "style": "IPY_MODEL_4c4e1de9658a4e9bb5fb18d52d606c2c",
            "_dom_classes": [],
            "description": "ρ",
            "step": 0.01,
            "_model_name": "FloatSliderModel",
            "orientation": "horizontal",
            "max": 0.5909252125773312,
            "_view_module": "@jupyter-widgets/controls",
            "_model_module_version": "1.5.0",
            "value": 0.5228701692569688,
            "_view_count": null,
            "disabled": false,
            "_view_module_version": "1.5.0",
            "min": -0.5447001962252291,
            "continuous_update": true,
            "readout_format": ".2f",
            "description_tooltip": null,
            "readout": true,
            "_model_module": "@jupyter-widgets/controls",
            "layout": "IPY_MODEL_a3a8072c33c446a982af5072a6bf94b2"
          }
        },
        "017028664ff34d7f8ab9b8e6ddc83dce": {
          "model_module": "@jupyter-widgets/output",
          "model_name": "OutputModel",
          "state": {
            "_view_name": "OutputView",
            "msg_id": "",
            "_dom_classes": [],
            "_model_name": "OutputModel",
            "outputs": [
              {
                "output_type": "display_data",
                "metadata": {
                  "tags": [],
                  "image/png": {
                    "width": 384,
                    "height": 361
                  },
                  "needs_background": "light"
                },
                "image/png": "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\n",
                "text/plain": "<Figure size 360x360 with 3 Axes>"
              }
            ],
            "_view_module": "@jupyter-widgets/output",
            "_model_module_version": "1.0.0",
            "_view_count": null,
            "_view_module_version": "1.0.0",
            "layout": "IPY_MODEL_0c5bd93320444bd6b910fd564d2ac398",
            "_model_module": "@jupyter-widgets/output"
          }
        },
        "810f007132404d8c86db578e496a5a5f": {
          "model_module": "@jupyter-widgets/controls",
          "model_name": "SliderStyleModel",
          "state": {
            "_view_name": "StyleView",
            "handle_color": null,
            "_model_name": "SliderStyleModel",
            "description_width": "initial",
            "_view_module": "@jupyter-widgets/base",
            "_model_module_version": "1.5.0",
            "_view_count": null,
            "_view_module_version": "1.2.0",
            "_model_module": "@jupyter-widgets/controls"
          }
        },
        "6e5013cb7a7244ea8729155a29ae3ec6": {
          "model_module": "@jupyter-widgets/base",
          "model_name": "LayoutModel",
          "state": {
            "_view_name": "LayoutView",
            "grid_template_rows": null,
            "right": null,
            "justify_content": null,
            "_view_module": "@jupyter-widgets/base",
            "overflow": null,
            "_model_module_version": "1.2.0",
            "_view_count": null,
            "flex_flow": null,
            "width": null,
            "min_width": null,
            "border": null,
            "align_items": null,
            "bottom": null,
            "_model_module": "@jupyter-widgets/base",
            "top": null,
            "grid_column": null,
            "overflow_y": null,
            "overflow_x": null,
            "grid_auto_flow": null,
            "grid_area": "widget002",
            "grid_template_columns": null,
            "flex": null,
            "_model_name": "LayoutModel",
            "justify_items": null,
            "grid_row": null,
            "max_height": null,
            "align_content": null,
            "visibility": null,
            "align_self": null,
            "height": null,
            "min_height": null,
            "padding": null,
            "grid_auto_rows": null,
            "grid_gap": null,
            "max_width": null,
            "order": null,
            "_view_module_version": "1.2.0",
            "grid_template_areas": null,
            "object_position": null,
            "object_fit": null,
            "grid_auto_columns": null,
            "margin": null,
            "display": null,
            "left": null
          }
        },
        "33fbb9f014b745309d6730bd6ed7f95e": {
          "model_module": "@jupyter-widgets/controls",
          "model_name": "SliderStyleModel",
          "state": {
            "_view_name": "StyleView",
            "handle_color": null,
            "_model_name": "SliderStyleModel",
            "description_width": "initial",
            "_view_module": "@jupyter-widgets/base",
            "_model_module_version": "1.5.0",
            "_view_count": null,
            "_view_module_version": "1.2.0",
            "_model_module": "@jupyter-widgets/controls"
          }
        },
        "bce2ca136e0545de98c46cbd8872f7b4": {
          "model_module": "@jupyter-widgets/base",
          "model_name": "LayoutModel",
          "state": {
            "_view_name": "LayoutView",
            "grid_template_rows": null,
            "right": null,
            "justify_content": null,
            "_view_module": "@jupyter-widgets/base",
            "overflow": null,
            "_model_module_version": "1.2.0",
            "_view_count": null,
            "flex_flow": null,
            "width": null,
            "min_width": null,
            "border": null,
            "align_items": null,
            "bottom": null,
            "_model_module": "@jupyter-widgets/base",
            "top": null,
            "grid_column": null,
            "overflow_y": null,
            "overflow_x": null,
            "grid_auto_flow": null,
            "grid_area": "widget003",
            "grid_template_columns": null,
            "flex": null,
            "_model_name": "LayoutModel",
            "justify_items": null,
            "grid_row": null,
            "max_height": null,
            "align_content": null,
            "visibility": null,
            "align_self": null,
            "height": null,
            "min_height": null,
            "padding": null,
            "grid_auto_rows": null,
            "grid_gap": null,
            "max_width": null,
            "order": null,
            "_view_module_version": "1.2.0",
            "grid_template_areas": null,
            "object_position": null,
            "object_fit": null,
            "grid_auto_columns": null,
            "margin": null,
            "display": null,
            "left": null
          }
        },
        "4c4e1de9658a4e9bb5fb18d52d606c2c": {
          "model_module": "@jupyter-widgets/controls",
          "model_name": "SliderStyleModel",
          "state": {
            "_view_name": "StyleView",
            "handle_color": null,
            "_model_name": "SliderStyleModel",
            "description_width": "",
            "_view_module": "@jupyter-widgets/base",
            "_model_module_version": "1.5.0",
            "_view_count": null,
            "_view_module_version": "1.2.0",
            "_model_module": "@jupyter-widgets/controls"
          }
        },
        "a3a8072c33c446a982af5072a6bf94b2": {
          "model_module": "@jupyter-widgets/base",
          "model_name": "LayoutModel",
          "state": {
            "_view_name": "LayoutView",
            "grid_template_rows": null,
            "right": null,
            "justify_content": null,
            "_view_module": "@jupyter-widgets/base",
            "overflow": null,
            "_model_module_version": "1.2.0",
            "_view_count": null,
            "flex_flow": null,
            "width": null,
            "min_width": null,
            "border": null,
            "align_items": null,
            "bottom": null,
            "_model_module": "@jupyter-widgets/base",
            "top": null,
            "grid_column": null,
            "overflow_y": null,
            "overflow_x": null,
            "grid_auto_flow": null,
            "grid_area": "widget001",
            "grid_template_columns": null,
            "flex": null,
            "_model_name": "LayoutModel",
            "justify_items": null,
            "grid_row": null,
            "max_height": null,
            "align_content": null,
            "visibility": null,
            "align_self": null,
            "height": null,
            "min_height": null,
            "padding": null,
            "grid_auto_rows": null,
            "grid_gap": null,
            "max_width": null,
            "order": null,
            "_view_module_version": "1.2.0",
            "grid_template_areas": null,
            "object_position": null,
            "object_fit": null,
            "grid_auto_columns": null,
            "margin": null,
            "display": null,
            "left": null
          }
        },
        "0c5bd93320444bd6b910fd564d2ac398": {
          "model_module": "@jupyter-widgets/base",
          "model_name": "LayoutModel",
          "state": {
            "_view_name": "LayoutView",
            "grid_template_rows": null,
            "right": null,
            "justify_content": null,
            "_view_module": "@jupyter-widgets/base",
            "overflow": null,
            "_model_module_version": "1.2.0",
            "_view_count": null,
            "flex_flow": null,
            "width": null,
            "min_width": null,
            "border": null,
            "align_items": null,
            "bottom": null,
            "_model_module": "@jupyter-widgets/base",
            "top": null,
            "grid_column": null,
            "overflow_y": null,
            "overflow_x": null,
            "grid_auto_flow": null,
            "grid_area": null,
            "grid_template_columns": null,
            "flex": null,
            "_model_name": "LayoutModel",
            "justify_items": null,
            "grid_row": null,
            "max_height": null,
            "align_content": null,
            "visibility": null,
            "align_self": null,
            "height": null,
            "min_height": null,
            "padding": null,
            "grid_auto_rows": null,
            "grid_gap": null,
            "max_width": null,
            "order": null,
            "_view_module_version": "1.2.0",
            "grid_template_areas": null,
            "object_position": null,
            "object_fit": null,
            "grid_auto_columns": null,
            "margin": null,
            "display": null,
            "left": null
          }
        },
        "0bf1b82489d547a99a721c462862ee6a": {
          "model_module": "@jupyter-widgets/controls",
          "model_name": "TabModel",
          "state": {
            "_view_name": "TabView",
            "_dom_classes": [],
            "_titles": {
              "0": "Youtube",
              "1": "Bilibili"
            },
            "_model_name": "TabModel",
            "_view_module": "@jupyter-widgets/controls",
            "selected_index": 0,
            "_model_module_version": "1.5.0",
            "_view_count": null,
            "_view_module_version": "1.5.0",
            "box_style": "",
            "layout": "IPY_MODEL_1bc68e78e6e649abb4ce6bfcafc62a72",
            "_model_module": "@jupyter-widgets/controls",
            "children": [
              "IPY_MODEL_782f7db762eb40bb8c67d1dc1149caaa",
              "IPY_MODEL_8bb0750a94934be9ad3306c0e6c81a0b"
            ]
          }
        },
        "1bc68e78e6e649abb4ce6bfcafc62a72": {
          "model_module": "@jupyter-widgets/base",
          "model_name": "LayoutModel",
          "state": {
            "_view_name": "LayoutView",
            "grid_template_rows": null,
            "right": null,
            "justify_content": null,
            "_view_module": "@jupyter-widgets/base",
            "overflow": null,
            "_model_module_version": "1.2.0",
            "_view_count": null,
            "flex_flow": null,
            "width": null,
            "min_width": null,
            "border": null,
            "align_items": null,
            "bottom": null,
            "_model_module": "@jupyter-widgets/base",
            "top": null,
            "grid_column": null,
            "overflow_y": null,
            "overflow_x": null,
            "grid_auto_flow": null,
            "grid_area": null,
            "grid_template_columns": null,
            "flex": null,
            "_model_name": "LayoutModel",
            "justify_items": null,
            "grid_row": null,
            "max_height": null,
            "align_content": null,
            "visibility": null,
            "align_self": null,
            "height": null,
            "min_height": null,
            "padding": null,
            "grid_auto_rows": null,
            "grid_gap": null,
            "max_width": null,
            "order": null,
            "_view_module_version": "1.2.0",
            "grid_template_areas": null,
            "object_position": null,
            "object_fit": null,
            "grid_auto_columns": null,
            "margin": null,
            "display": null,
            "left": null
          }
        },
        "782f7db762eb40bb8c67d1dc1149caaa": {
          "model_module": "@jupyter-widgets/output",
          "model_name": "OutputModel",
          "state": {
            "_view_name": "OutputView",
            "msg_id": "",
            "_dom_classes": [],
            "_model_name": "OutputModel",
            "outputs": [
              {
                "output_type": "stream",
                "metadata": {
                  "tags": []
                },
                "text": "Video available at https://youtube.com/watch?v=cOAJQ4utwD0\n",
                "stream": "stdout"
              },
              {
                "output_type": "display_data",
                "metadata": {
                  "tags": []
                },
                "text/html": "\n        <iframe\n            width=\"854\"\n            height=\"480\"\n            src=\"https://www.youtube.com/embed/cOAJQ4utwD0?fs=1&rel=0\"\n            frameborder=\"0\"\n            allowfullscreen\n        ></iframe>\n        ",
                "text/plain": "<IPython.lib.display.YouTubeVideo at 0x7f34dfe9e890>",
                "image/jpeg": "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\n"
              }
            ],
            "_view_module": "@jupyter-widgets/output",
            "_model_module_version": "1.0.0",
            "_view_count": null,
            "_view_module_version": "1.0.0",
            "layout": "IPY_MODEL_1ebf4660b96d40a385b043303cca93a1",
            "_model_module": "@jupyter-widgets/output"
          }
        },
        "8bb0750a94934be9ad3306c0e6c81a0b": {
          "model_module": "@jupyter-widgets/output",
          "model_name": "OutputModel",
          "state": {
            "_view_name": "OutputView",
            "msg_id": "",
            "_dom_classes": [],
            "_model_name": "OutputModel",
            "outputs": [
              {
                "output_type": "stream",
                "metadata": {
                  "tags": []
                },
                "text": "Video available at https://www.bilibili.com/video/BV1fK4y1M7EC\n",
                "stream": "stdout"
              },
              {
                "output_type": "display_data",
                "metadata": {
                  "tags": []
                },
                "text/html": "\n        <iframe\n            width=\"854\"\n            height=\"480\"\n            src=\"https://player.bilibili.com/player.html?bvid=BV1fK4y1M7EC&page=1?fs=1\"\n            frameborder=\"0\"\n            allowfullscreen\n        ></iframe>\n        ",
                "text/plain": "<__main__.BiliVideo at 0x7f34dff7b950>"
              }
            ],
            "_view_module": "@jupyter-widgets/output",
            "_model_module_version": "1.0.0",
            "_view_count": null,
            "_view_module_version": "1.0.0",
            "layout": "IPY_MODEL_04855ccc2304446ea59a7ea9821532b6",
            "_model_module": "@jupyter-widgets/output"
          }
        },
        "1ebf4660b96d40a385b043303cca93a1": {
          "model_module": "@jupyter-widgets/base",
          "model_name": "LayoutModel",
          "state": {
            "_view_name": "LayoutView",
            "grid_template_rows": null,
            "right": null,
            "justify_content": null,
            "_view_module": "@jupyter-widgets/base",
            "overflow": null,
            "_model_module_version": "1.2.0",
            "_view_count": null,
            "flex_flow": null,
            "width": null,
            "min_width": null,
            "border": null,
            "align_items": null,
            "bottom": null,
            "_model_module": "@jupyter-widgets/base",
            "top": null,
            "grid_column": null,
            "overflow_y": null,
            "overflow_x": null,
            "grid_auto_flow": null,
            "grid_area": null,
            "grid_template_columns": null,
            "flex": null,
            "_model_name": "LayoutModel",
            "justify_items": null,
            "grid_row": null,
            "max_height": null,
            "align_content": null,
            "visibility": null,
            "align_self": null,
            "height": null,
            "min_height": null,
            "padding": null,
            "grid_auto_rows": null,
            "grid_gap": null,
            "max_width": null,
            "order": null,
            "_view_module_version": "1.2.0",
            "grid_template_areas": null,
            "object_position": null,
            "object_fit": null,
            "grid_auto_columns": null,
            "margin": null,
            "display": null,
            "left": null
          }
        },
        "04855ccc2304446ea59a7ea9821532b6": {
          "model_module": "@jupyter-widgets/base",
          "model_name": "LayoutModel",
          "state": {
            "_view_name": "LayoutView",
            "grid_template_rows": null,
            "right": null,
            "justify_content": null,
            "_view_module": "@jupyter-widgets/base",
            "overflow": null,
            "_model_module_version": "1.2.0",
            "_view_count": null,
            "flex_flow": null,
            "width": null,
            "min_width": null,
            "border": null,
            "align_items": null,
            "bottom": null,
            "_model_module": "@jupyter-widgets/base",
            "top": null,
            "grid_column": null,
            "overflow_y": null,
            "overflow_x": null,
            "grid_auto_flow": null,
            "grid_area": null,
            "grid_template_columns": null,
            "flex": null,
            "_model_name": "LayoutModel",
            "justify_items": null,
            "grid_row": null,
            "max_height": null,
            "align_content": null,
            "visibility": null,
            "align_self": null,
            "height": null,
            "min_height": null,
            "padding": null,
            "grid_auto_rows": null,
            "grid_gap": null,
            "max_width": null,
            "order": null,
            "_view_module_version": "1.2.0",
            "grid_template_areas": null,
            "object_position": null,
            "object_fit": null,
            "grid_auto_columns": null,
            "margin": null,
            "display": null,
            "left": null
          }
        },
        "ea061f67ed644c6ca26e175737a1edac": {
          "model_module": "@jupyter-widgets/controls",
          "model_name": "VBoxModel",
          "state": {
            "_view_name": "VBoxView",
            "_dom_classes": [],
            "_model_name": "VBoxModel",
            "_view_module": "@jupyter-widgets/controls",
            "_model_module_version": "1.5.0",
            "_view_count": null,
            "_view_module_version": "1.5.0",
            "box_style": "",
            "layout": "IPY_MODEL_79782083d2b145819a38b4a7fef27fa9",
            "_model_module": "@jupyter-widgets/controls",
            "children": [
              "IPY_MODEL_0be3d849675f46e49fe82e7e918fa984",
              "IPY_MODEL_afa93e627a224049a7aa7b084973d9c1",
              "IPY_MODEL_0ff3d2a74b68491a857f795db3b6ebcf"
            ]
          }
        },
        "79782083d2b145819a38b4a7fef27fa9": {
          "model_module": "@jupyter-widgets/base",
          "model_name": "LayoutModel",
          "state": {
            "_view_name": "LayoutView",
            "grid_template_rows": null,
            "right": null,
            "justify_content": null,
            "_view_module": "@jupyter-widgets/base",
            "overflow": null,
            "_model_module_version": "1.2.0",
            "_view_count": null,
            "flex_flow": null,
            "width": null,
            "min_width": null,
            "border": null,
            "align_items": null,
            "bottom": null,
            "_model_module": "@jupyter-widgets/base",
            "top": null,
            "grid_column": null,
            "overflow_y": null,
            "overflow_x": null,
            "grid_auto_flow": null,
            "grid_area": null,
            "grid_template_columns": null,
            "flex": null,
            "_model_name": "LayoutModel",
            "justify_items": null,
            "grid_row": null,
            "max_height": null,
            "align_content": null,
            "visibility": null,
            "align_self": null,
            "height": null,
            "min_height": null,
            "padding": null,
            "grid_auto_rows": null,
            "grid_gap": null,
            "max_width": null,
            "order": null,
            "_view_module_version": "1.2.0",
            "grid_template_areas": null,
            "object_position": null,
            "object_fit": null,
            "grid_auto_columns": null,
            "margin": null,
            "display": null,
            "left": null
          }
        },
        "0be3d849675f46e49fe82e7e918fa984": {
          "model_module": "@jupyter-widgets/controls",
          "model_name": "FloatSliderModel",
          "state": {
            "_view_name": "FloatSliderView",
            "style": "IPY_MODEL_fe6f8f42c068458a85b681593b62a9df",
            "_dom_classes": [],
            "description": "p(s = left)",
            "step": 0.01,
            "_model_name": "FloatSliderModel",
            "orientation": "horizontal",
            "max": 0.99,
            "_view_module": "@jupyter-widgets/controls",
            "_model_module_version": "1.5.0",
            "value": 0.6,
            "_view_count": null,
            "disabled": false,
            "_view_module_version": "1.5.0",
            "min": 0.01,
            "continuous_update": true,
            "readout_format": ".2f",
            "description_tooltip": null,
            "readout": true,
            "_model_module": "@jupyter-widgets/controls",
            "layout": "IPY_MODEL_b19e3d853bef441b9bf4005157d77a12"
          }
        },
        "afa93e627a224049a7aa7b084973d9c1": {
          "model_module": "@jupyter-widgets/controls",
          "model_name": "HBoxModel",
          "state": {
            "_view_name": "HBoxView",
            "_dom_classes": [],
            "_model_name": "HBoxModel",
            "_view_module": "@jupyter-widgets/controls",
            "_model_module_version": "1.5.0",
            "_view_count": null,
            "_view_module_version": "1.5.0",
            "box_style": "",
            "layout": "IPY_MODEL_d42b897d6f164e07ab8823bacca26f62",
            "_model_module": "@jupyter-widgets/controls",
            "children": [
              "IPY_MODEL_a0147dcfecad45599181829ce228935c",
              "IPY_MODEL_8d5d558c48fd46e3ad4894d0141abcc0"
            ]
          }
        },
        "0ff3d2a74b68491a857f795db3b6ebcf": {
          "model_module": "@jupyter-widgets/controls",
          "model_name": "ToggleButtonsModel",
          "state": {
            "_options_labels": [
              "Fish",
              "No Fish"
            ],
            "_view_name": "ToggleButtonsView",
            "style": "IPY_MODEL_0874ec935b7c435e906cf52ff2aed8fc",
            "_dom_classes": [],
            "description": "Observation (m) on the left:",
            "_model_name": "ToggleButtonsModel",
            "tooltips": [],
            "index": 0,
            "button_style": "",
            "_view_module": "@jupyter-widgets/controls",
            "_model_module_version": "1.5.0",
            "_view_count": null,
            "disabled": false,
            "_view_module_version": "1.5.0",
            "icons": [],
            "description_tooltip": null,
            "_model_module": "@jupyter-widgets/controls",
            "layout": "IPY_MODEL_e5a1994bc9db444a8d7aa43ab346ad89"
          }
        },
        "fe6f8f42c068458a85b681593b62a9df": {
          "model_module": "@jupyter-widgets/controls",
          "model_name": "SliderStyleModel",
          "state": {
            "_view_name": "StyleView",
            "handle_color": null,
            "_model_name": "SliderStyleModel",
            "description_width": "",
            "_view_module": "@jupyter-widgets/base",
            "_model_module_version": "1.5.0",
            "_view_count": null,
            "_view_module_version": "1.2.0",
            "_model_module": "@jupyter-widgets/controls"
          }
        },
        "b19e3d853bef441b9bf4005157d77a12": {
          "model_module": "@jupyter-widgets/base",
          "model_name": "LayoutModel",
          "state": {
            "_view_name": "LayoutView",
            "grid_template_rows": null,
            "right": null,
            "justify_content": null,
            "_view_module": "@jupyter-widgets/base",
            "overflow": null,
            "_model_module_version": "1.2.0",
            "_view_count": null,
            "flex_flow": null,
            "width": null,
            "min_width": null,
            "border": null,
            "align_items": null,
            "bottom": null,
            "_model_module": "@jupyter-widgets/base",
            "top": null,
            "grid_column": null,
            "overflow_y": null,
            "overflow_x": null,
            "grid_auto_flow": null,
            "grid_area": null,
            "grid_template_columns": null,
            "flex": null,
            "_model_name": "LayoutModel",
            "justify_items": null,
            "grid_row": null,
            "max_height": null,
            "align_content": null,
            "visibility": null,
            "align_self": null,
            "height": null,
            "min_height": null,
            "padding": null,
            "grid_auto_rows": null,
            "grid_gap": null,
            "max_width": null,
            "order": null,
            "_view_module_version": "1.2.0",
            "grid_template_areas": null,
            "object_position": null,
            "object_fit": null,
            "grid_auto_columns": null,
            "margin": null,
            "display": null,
            "left": null
          }
        },
        "d42b897d6f164e07ab8823bacca26f62": {
          "model_module": "@jupyter-widgets/base",
          "model_name": "LayoutModel",
          "state": {
            "_view_name": "LayoutView",
            "grid_template_rows": null,
            "right": null,
            "justify_content": null,
            "_view_module": "@jupyter-widgets/base",
            "overflow": null,
            "_model_module_version": "1.2.0",
            "_view_count": null,
            "flex_flow": null,
            "width": null,
            "min_width": null,
            "border": null,
            "align_items": null,
            "bottom": null,
            "_model_module": "@jupyter-widgets/base",
            "top": null,
            "grid_column": null,
            "overflow_y": null,
            "overflow_x": null,
            "grid_auto_flow": null,
            "grid_area": null,
            "grid_template_columns": null,
            "flex": null,
            "_model_name": "LayoutModel",
            "justify_items": null,
            "grid_row": null,
            "max_height": null,
            "align_content": null,
            "visibility": null,
            "align_self": null,
            "height": null,
            "min_height": null,
            "padding": null,
            "grid_auto_rows": null,
            "grid_gap": null,
            "max_width": null,
            "order": null,
            "_view_module_version": "1.2.0",
            "grid_template_areas": null,
            "object_position": null,
            "object_fit": null,
            "grid_auto_columns": null,
            "margin": null,
            "display": null,
            "left": null
          }
        },
        "a0147dcfecad45599181829ce228935c": {
          "model_module": "@jupyter-widgets/controls",
          "model_name": "FloatSliderModel",
          "state": {
            "_view_name": "FloatSliderView",
            "style": "IPY_MODEL_99665c30ee67465dbd43e270becc92d4",
            "_dom_classes": [],
            "description": "p(fish on left | state = left)",
            "step": 0.01,
            "_model_name": "FloatSliderModel",
            "orientation": "horizontal",
            "max": 0.99,
            "_view_module": "@jupyter-widgets/controls",
            "_model_module_version": "1.5.0",
            "value": 0.28,
            "_view_count": null,
            "disabled": false,
            "_view_module_version": "1.5.0",
            "min": 0.01,
            "continuous_update": true,
            "readout_format": ".2f",
            "description_tooltip": null,
            "readout": true,
            "_model_module": "@jupyter-widgets/controls",
            "layout": "IPY_MODEL_43e823962fec4b178ad8e3ee93f904fa"
          }
        },
        "8d5d558c48fd46e3ad4894d0141abcc0": {
          "model_module": "@jupyter-widgets/controls",
          "model_name": "FloatSliderModel",
          "state": {
            "_view_name": "FloatSliderView",
            "style": "IPY_MODEL_bcc0b4c24782410e86f85a3b81b7d81b",
            "_dom_classes": [],
            "description": "p(fish on left | state = right)",
            "step": 0.01,
            "_model_name": "FloatSliderModel",
            "orientation": "horizontal",
            "max": 0.99,
            "_view_module": "@jupyter-widgets/controls",
            "_model_module_version": "1.5.0",
            "value": 0.68,
            "_view_count": null,
            "disabled": false,
            "_view_module_version": "1.5.0",
            "min": 0.01,
            "continuous_update": true,
            "readout_format": ".2f",
            "description_tooltip": null,
            "readout": true,
            "_model_module": "@jupyter-widgets/controls",
            "layout": "IPY_MODEL_a4a97a448c1a4fec982ac484b9ea7bf7"
          }
        },
        "0874ec935b7c435e906cf52ff2aed8fc": {
          "model_module": "@jupyter-widgets/controls",
          "model_name": "ToggleButtonsStyleModel",
          "state": {
            "_view_name": "StyleView",
            "button_width": "",
            "_model_name": "ToggleButtonsStyleModel",
            "description_width": "initial",
            "_view_module": "@jupyter-widgets/base",
            "_model_module_version": "1.5.0",
            "_view_count": null,
            "font_weight": "",
            "_view_module_version": "1.2.0",
            "_model_module": "@jupyter-widgets/controls"
          }
        },
        "e5a1994bc9db444a8d7aa43ab346ad89": {
          "model_module": "@jupyter-widgets/base",
          "model_name": "LayoutModel",
          "state": {
            "_view_name": "LayoutView",
            "grid_template_rows": null,
            "right": null,
            "justify_content": null,
            "_view_module": "@jupyter-widgets/base",
            "overflow": null,
            "_model_module_version": "1.2.0",
            "_view_count": null,
            "flex_flow": null,
            "width": "auto",
            "min_width": null,
            "border": null,
            "align_items": null,
            "bottom": null,
            "_model_module": "@jupyter-widgets/base",
            "top": null,
            "grid_column": null,
            "overflow_y": null,
            "overflow_x": null,
            "grid_auto_flow": null,
            "grid_area": null,
            "grid_template_columns": null,
            "flex": null,
            "_model_name": "LayoutModel",
            "justify_items": null,
            "grid_row": null,
            "max_height": null,
            "align_content": null,
            "visibility": null,
            "align_self": null,
            "height": null,
            "min_height": null,
            "padding": null,
            "grid_auto_rows": null,
            "grid_gap": null,
            "max_width": null,
            "order": null,
            "_view_module_version": "1.2.0",
            "grid_template_areas": null,
            "object_position": null,
            "object_fit": null,
            "grid_auto_columns": null,
            "margin": null,
            "display": "flex",
            "left": null
          }
        },
        "99665c30ee67465dbd43e270becc92d4": {
          "model_module": "@jupyter-widgets/controls",
          "model_name": "SliderStyleModel",
          "state": {
            "_view_name": "StyleView",
            "handle_color": null,
            "_model_name": "SliderStyleModel",
            "description_width": "initial",
            "_view_module": "@jupyter-widgets/base",
            "_model_module_version": "1.5.0",
            "_view_count": null,
            "_view_module_version": "1.2.0",
            "_model_module": "@jupyter-widgets/controls"
          }
        },
        "43e823962fec4b178ad8e3ee93f904fa": {
          "model_module": "@jupyter-widgets/base",
          "model_name": "LayoutModel",
          "state": {
            "_view_name": "LayoutView",
            "grid_template_rows": null,
            "right": null,
            "justify_content": null,
            "_view_module": "@jupyter-widgets/base",
            "overflow": null,
            "_model_module_version": "1.2.0",
            "_view_count": null,
            "flex_flow": null,
            "width": "370px",
            "min_width": null,
            "border": null,
            "align_items": null,
            "bottom": null,
            "_model_module": "@jupyter-widgets/base",
            "top": null,
            "grid_column": null,
            "overflow_y": null,
            "overflow_x": null,
            "grid_auto_flow": null,
            "grid_area": null,
            "grid_template_columns": null,
            "flex": null,
            "_model_name": "LayoutModel",
            "justify_items": null,
            "grid_row": null,
            "max_height": null,
            "align_content": null,
            "visibility": null,
            "align_self": null,
            "height": null,
            "min_height": null,
            "padding": null,
            "grid_auto_rows": null,
            "grid_gap": null,
            "max_width": null,
            "order": null,
            "_view_module_version": "1.2.0",
            "grid_template_areas": null,
            "object_position": null,
            "object_fit": null,
            "grid_auto_columns": null,
            "margin": null,
            "display": null,
            "left": null
          }
        },
        "bcc0b4c24782410e86f85a3b81b7d81b": {
          "model_module": "@jupyter-widgets/controls",
          "model_name": "SliderStyleModel",
          "state": {
            "_view_name": "StyleView",
            "handle_color": null,
            "_model_name": "SliderStyleModel",
            "description_width": "initial",
            "_view_module": "@jupyter-widgets/base",
            "_model_module_version": "1.5.0",
            "_view_count": null,
            "_view_module_version": "1.2.0",
            "_model_module": "@jupyter-widgets/controls"
          }
        },
        "a4a97a448c1a4fec982ac484b9ea7bf7": {
          "model_module": "@jupyter-widgets/base",
          "model_name": "LayoutModel",
          "state": {
            "_view_name": "LayoutView",
            "grid_template_rows": null,
            "right": null,
            "justify_content": null,
            "_view_module": "@jupyter-widgets/base",
            "overflow": null,
            "_model_module_version": "1.2.0",
            "_view_count": null,
            "flex_flow": null,
            "width": "370px",
            "min_width": null,
            "border": null,
            "align_items": null,
            "bottom": null,
            "_model_module": "@jupyter-widgets/base",
            "top": null,
            "grid_column": null,
            "overflow_y": null,
            "overflow_x": null,
            "grid_auto_flow": null,
            "grid_area": null,
            "grid_template_columns": null,
            "flex": null,
            "_model_name": "LayoutModel",
            "justify_items": null,
            "grid_row": null,
            "max_height": null,
            "align_content": null,
            "visibility": null,
            "align_self": null,
            "height": null,
            "min_height": null,
            "padding": null,
            "grid_auto_rows": null,
            "grid_gap": null,
            "max_width": null,
            "order": null,
            "_view_module_version": "1.2.0",
            "grid_template_areas": null,
            "object_position": null,
            "object_fit": null,
            "grid_auto_columns": null,
            "margin": null,
            "display": null,
            "left": null
          }
        },
        "a3975cf7e44246f1a8b5b0c94163ff19": {
          "model_module": "@jupyter-widgets/output",
          "model_name": "OutputModel",
          "state": {
            "_view_name": "OutputView",
            "msg_id": "",
            "_dom_classes": [],
            "_model_name": "OutputModel",
            "outputs": [
              {
                "output_type": "display_data",
                "metadata": {
                  "tags": [],
                  "image/png": {
                    "width": 766,
                    "height": 345
                  },
                  "needs_background": "light"
                },
                "image/png": "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\n",
                "text/plain": "<Figure size 864x288 with 3 Axes>"
              }
            ],
            "_view_module": "@jupyter-widgets/output",
            "_model_module_version": "1.0.0",
            "_view_count": null,
            "_view_module_version": "1.0.0",
            "layout": "IPY_MODEL_6a1e9699e52d46d28b5038f71cb3d797",
            "_model_module": "@jupyter-widgets/output"
          }
        },
        "6a1e9699e52d46d28b5038f71cb3d797": {
          "model_module": "@jupyter-widgets/base",
          "model_name": "LayoutModel",
          "state": {
            "_view_name": "LayoutView",
            "grid_template_rows": null,
            "right": null,
            "justify_content": null,
            "_view_module": "@jupyter-widgets/base",
            "overflow": null,
            "_model_module_version": "1.2.0",
            "_view_count": null,
            "flex_flow": null,
            "width": null,
            "min_width": null,
            "border": null,
            "align_items": null,
            "bottom": null,
            "_model_module": "@jupyter-widgets/base",
            "top": null,
            "grid_column": null,
            "overflow_y": null,
            "overflow_x": null,
            "grid_auto_flow": null,
            "grid_area": null,
            "grid_template_columns": null,
            "flex": null,
            "_model_name": "LayoutModel",
            "justify_items": null,
            "grid_row": null,
            "max_height": null,
            "align_content": null,
            "visibility": null,
            "align_self": null,
            "height": null,
            "min_height": null,
            "padding": null,
            "grid_auto_rows": null,
            "grid_gap": null,
            "max_width": null,
            "order": null,
            "_view_module_version": "1.2.0",
            "grid_template_areas": null,
            "object_position": null,
            "object_fit": null,
            "grid_auto_columns": null,
            "margin": null,
            "display": null,
            "left": null
          }
        },
        "fb66ae386fe7482597214e4ea0774c3d": {
          "model_module": "@jupyter-widgets/controls",
          "model_name": "TabModel",
          "state": {
            "_view_name": "TabView",
            "_dom_classes": [],
            "_titles": {
              "0": "Youtube",
              "1": "Bilibili"
            },
            "_model_name": "TabModel",
            "_view_module": "@jupyter-widgets/controls",
            "selected_index": 0,
            "_model_module_version": "1.5.0",
            "_view_count": null,
            "_view_module_version": "1.5.0",
            "box_style": "",
            "layout": "IPY_MODEL_60a9dc93ca9d4b20a9379920b8bb54f1",
            "_model_module": "@jupyter-widgets/controls",
            "children": [
              "IPY_MODEL_dbacc057019949f19bc8f790f0d15e42",
              "IPY_MODEL_645773952c3e478eb23136c8b9b2b431"
            ]
          }
        },
        "60a9dc93ca9d4b20a9379920b8bb54f1": {
          "model_module": "@jupyter-widgets/base",
          "model_name": "LayoutModel",
          "state": {
            "_view_name": "LayoutView",
            "grid_template_rows": null,
            "right": null,
            "justify_content": null,
            "_view_module": "@jupyter-widgets/base",
            "overflow": null,
            "_model_module_version": "1.2.0",
            "_view_count": null,
            "flex_flow": null,
            "width": null,
            "min_width": null,
            "border": null,
            "align_items": null,
            "bottom": null,
            "_model_module": "@jupyter-widgets/base",
            "top": null,
            "grid_column": null,
            "overflow_y": null,
            "overflow_x": null,
            "grid_auto_flow": null,
            "grid_area": null,
            "grid_template_columns": null,
            "flex": null,
            "_model_name": "LayoutModel",
            "justify_items": null,
            "grid_row": null,
            "max_height": null,
            "align_content": null,
            "visibility": null,
            "align_self": null,
            "height": null,
            "min_height": null,
            "padding": null,
            "grid_auto_rows": null,
            "grid_gap": null,
            "max_width": null,
            "order": null,
            "_view_module_version": "1.2.0",
            "grid_template_areas": null,
            "object_position": null,
            "object_fit": null,
            "grid_auto_columns": null,
            "margin": null,
            "display": null,
            "left": null
          }
        },
        "dbacc057019949f19bc8f790f0d15e42": {
          "model_module": "@jupyter-widgets/output",
          "model_name": "OutputModel",
          "state": {
            "_view_name": "OutputView",
            "msg_id": "",
            "_dom_classes": [],
            "_model_name": "OutputModel",
            "outputs": [
              {
                "output_type": "stream",
                "metadata": {
                  "tags": []
                },
                "text": "Video available at https://youtube.com/watch?v=YPQgLVolvBs\n",
                "stream": "stdout"
              },
              {
                "output_type": "display_data",
                "metadata": {
                  "tags": []
                },
                "text/html": "\n        <iframe\n            width=\"854\"\n            height=\"480\"\n            src=\"https://www.youtube.com/embed/YPQgLVolvBs?fs=1&rel=0\"\n            frameborder=\"0\"\n            allowfullscreen\n        ></iframe>\n        ",
                "text/plain": "<IPython.lib.display.YouTubeVideo at 0x7f34dff355d0>",
                "image/jpeg": "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\n"
              }
            ],
            "_view_module": "@jupyter-widgets/output",
            "_model_module_version": "1.0.0",
            "_view_count": null,
            "_view_module_version": "1.0.0",
            "layout": "IPY_MODEL_b280395502a94631a2c83a9b888550c2",
            "_model_module": "@jupyter-widgets/output"
          }
        },
        "645773952c3e478eb23136c8b9b2b431": {
          "model_module": "@jupyter-widgets/output",
          "model_name": "OutputModel",
          "state": {
            "_view_name": "OutputView",
            "msg_id": "",
            "_dom_classes": [],
            "_model_name": "OutputModel",
            "outputs": [
              {
                "output_type": "stream",
                "metadata": {
                  "tags": []
                },
                "text": "Video available at https://www.bilibili.com/video/BV1TU4y1G7SM\n",
                "stream": "stdout"
              },
              {
                "output_type": "display_data",
                "metadata": {
                  "tags": []
                },
                "text/html": "\n        <iframe\n            width=\"854\"\n            height=\"480\"\n            src=\"https://player.bilibili.com/player.html?bvid=BV1TU4y1G7SM&page=1?fs=1\"\n            frameborder=\"0\"\n            allowfullscreen\n        ></iframe>\n        ",
                "text/plain": "<__main__.BiliVideo at 0x7f34e0c47510>"
              }
            ],
            "_view_module": "@jupyter-widgets/output",
            "_model_module_version": "1.0.0",
            "_view_count": null,
            "_view_module_version": "1.0.0",
            "layout": "IPY_MODEL_948c744c1429445caf2738c80976ecbe",
            "_model_module": "@jupyter-widgets/output"
          }
        },
        "b280395502a94631a2c83a9b888550c2": {
          "model_module": "@jupyter-widgets/base",
          "model_name": "LayoutModel",
          "state": {
            "_view_name": "LayoutView",
            "grid_template_rows": null,
            "right": null,
            "justify_content": null,
            "_view_module": "@jupyter-widgets/base",
            "overflow": null,
            "_model_module_version": "1.2.0",
            "_view_count": null,
            "flex_flow": null,
            "width": null,
            "min_width": null,
            "border": null,
            "align_items": null,
            "bottom": null,
            "_model_module": "@jupyter-widgets/base",
            "top": null,
            "grid_column": null,
            "overflow_y": null,
            "overflow_x": null,
            "grid_auto_flow": null,
            "grid_area": null,
            "grid_template_columns": null,
            "flex": null,
            "_model_name": "LayoutModel",
            "justify_items": null,
            "grid_row": null,
            "max_height": null,
            "align_content": null,
            "visibility": null,
            "align_self": null,
            "height": null,
            "min_height": null,
            "padding": null,
            "grid_auto_rows": null,
            "grid_gap": null,
            "max_width": null,
            "order": null,
            "_view_module_version": "1.2.0",
            "grid_template_areas": null,
            "object_position": null,
            "object_fit": null,
            "grid_auto_columns": null,
            "margin": null,
            "display": null,
            "left": null
          }
        },
        "948c744c1429445caf2738c80976ecbe": {
          "model_module": "@jupyter-widgets/base",
          "model_name": "LayoutModel",
          "state": {
            "_view_name": "LayoutView",
            "grid_template_rows": null,
            "right": null,
            "justify_content": null,
            "_view_module": "@jupyter-widgets/base",
            "overflow": null,
            "_model_module_version": "1.2.0",
            "_view_count": null,
            "flex_flow": null,
            "width": null,
            "min_width": null,
            "border": null,
            "align_items": null,
            "bottom": null,
            "_model_module": "@jupyter-widgets/base",
            "top": null,
            "grid_column": null,
            "overflow_y": null,
            "overflow_x": null,
            "grid_auto_flow": null,
            "grid_area": null,
            "grid_template_columns": null,
            "flex": null,
            "_model_name": "LayoutModel",
            "justify_items": null,
            "grid_row": null,
            "max_height": null,
            "align_content": null,
            "visibility": null,
            "align_self": null,
            "height": null,
            "min_height": null,
            "padding": null,
            "grid_auto_rows": null,
            "grid_gap": null,
            "max_width": null,
            "order": null,
            "_view_module_version": "1.2.0",
            "grid_template_areas": null,
            "object_position": null,
            "object_fit": null,
            "grid_auto_columns": null,
            "margin": null,
            "display": null,
            "left": null
          }
        },
        "80713765d11f45ddabca074ff0d612d4": {
          "model_module": "@jupyter-widgets/controls",
          "model_name": "TabModel",
          "state": {
            "_view_name": "TabView",
            "_dom_classes": [],
            "_titles": {
              "0": "Youtube",
              "1": "Bilibili"
            },
            "_model_name": "TabModel",
            "_view_module": "@jupyter-widgets/controls",
            "selected_index": 0,
            "_model_module_version": "1.5.0",
            "_view_count": null,
            "_view_module_version": "1.5.0",
            "box_style": "",
            "layout": "IPY_MODEL_c4b694f692c5447b80c57b0927a66043",
            "_model_module": "@jupyter-widgets/controls",
            "children": [
              "IPY_MODEL_897fc99ea9e844068d02f9bcc8eb6b47",
              "IPY_MODEL_9fda6f19391c44fa8ce4620331f9caa1"
            ]
          }
        },
        "c4b694f692c5447b80c57b0927a66043": {
          "model_module": "@jupyter-widgets/base",
          "model_name": "LayoutModel",
          "state": {
            "_view_name": "LayoutView",
            "grid_template_rows": null,
            "right": null,
            "justify_content": null,
            "_view_module": "@jupyter-widgets/base",
            "overflow": null,
            "_model_module_version": "1.2.0",
            "_view_count": null,
            "flex_flow": null,
            "width": null,
            "min_width": null,
            "border": null,
            "align_items": null,
            "bottom": null,
            "_model_module": "@jupyter-widgets/base",
            "top": null,
            "grid_column": null,
            "overflow_y": null,
            "overflow_x": null,
            "grid_auto_flow": null,
            "grid_area": null,
            "grid_template_columns": null,
            "flex": null,
            "_model_name": "LayoutModel",
            "justify_items": null,
            "grid_row": null,
            "max_height": null,
            "align_content": null,
            "visibility": null,
            "align_self": null,
            "height": null,
            "min_height": null,
            "padding": null,
            "grid_auto_rows": null,
            "grid_gap": null,
            "max_width": null,
            "order": null,
            "_view_module_version": "1.2.0",
            "grid_template_areas": null,
            "object_position": null,
            "object_fit": null,
            "grid_auto_columns": null,
            "margin": null,
            "display": null,
            "left": null
          }
        },
        "897fc99ea9e844068d02f9bcc8eb6b47": {
          "model_module": "@jupyter-widgets/output",
          "model_name": "OutputModel",
          "state": {
            "_view_name": "OutputView",
            "msg_id": "",
            "_dom_classes": [],
            "_model_name": "OutputModel",
            "outputs": [
              {
                "output_type": "stream",
                "metadata": {
                  "tags": []
                },
                "text": "Video available at https://youtube.com/watch?v=tz9zsmTHR68\n",
                "stream": "stdout"
              },
              {
                "output_type": "display_data",
                "metadata": {
                  "tags": []
                },
                "text/html": "\n        <iframe\n            width=\"854\"\n            height=\"480\"\n            src=\"https://www.youtube.com/embed/tz9zsmTHR68?fs=1&rel=0\"\n            frameborder=\"0\"\n            allowfullscreen\n        ></iframe>\n        ",
                "text/plain": "<IPython.lib.display.YouTubeVideo at 0x7f34df541490>",
                "image/jpeg": "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\n"
              }
            ],
            "_view_module": "@jupyter-widgets/output",
            "_model_module_version": "1.0.0",
            "_view_count": null,
            "_view_module_version": "1.0.0",
            "layout": "IPY_MODEL_1441c37fcb3247679ca05e7017a3bb64",
            "_model_module": "@jupyter-widgets/output"
          }
        },
        "9fda6f19391c44fa8ce4620331f9caa1": {
          "model_module": "@jupyter-widgets/output",
          "model_name": "OutputModel",
          "state": {
            "_view_name": "OutputView",
            "msg_id": "",
            "_dom_classes": [],
            "_model_name": "OutputModel",
            "outputs": [
              {
                "output_type": "stream",
                "metadata": {
                  "tags": []
                },
                "text": "Video available at https://www.bilibili.com/video/BV1954y1n7uH\n",
                "stream": "stdout"
              },
              {
                "output_type": "display_data",
                "metadata": {
                  "tags": []
                },
                "text/html": "\n        <iframe\n            width=\"854\"\n            height=\"480\"\n            src=\"https://player.bilibili.com/player.html?bvid=BV1954y1n7uH&page=1?fs=1\"\n            frameborder=\"0\"\n            allowfullscreen\n        ></iframe>\n        ",
                "text/plain": "<__main__.BiliVideo at 0x7f34e0681050>"
              }
            ],
            "_view_module": "@jupyter-widgets/output",
            "_model_module_version": "1.0.0",
            "_view_count": null,
            "_view_module_version": "1.0.0",
            "layout": "IPY_MODEL_5f7c21084ced4329a5b43a8e92407c13",
            "_model_module": "@jupyter-widgets/output"
          }
        },
        "1441c37fcb3247679ca05e7017a3bb64": {
          "model_module": "@jupyter-widgets/base",
          "model_name": "LayoutModel",
          "state": {
            "_view_name": "LayoutView",
            "grid_template_rows": null,
            "right": null,
            "justify_content": null,
            "_view_module": "@jupyter-widgets/base",
            "overflow": null,
            "_model_module_version": "1.2.0",
            "_view_count": null,
            "flex_flow": null,
            "width": null,
            "min_width": null,
            "border": null,
            "align_items": null,
            "bottom": null,
            "_model_module": "@jupyter-widgets/base",
            "top": null,
            "grid_column": null,
            "overflow_y": null,
            "overflow_x": null,
            "grid_auto_flow": null,
            "grid_area": null,
            "grid_template_columns": null,
            "flex": null,
            "_model_name": "LayoutModel",
            "justify_items": null,
            "grid_row": null,
            "max_height": null,
            "align_content": null,
            "visibility": null,
            "align_self": null,
            "height": null,
            "min_height": null,
            "padding": null,
            "grid_auto_rows": null,
            "grid_gap": null,
            "max_width": null,
            "order": null,
            "_view_module_version": "1.2.0",
            "grid_template_areas": null,
            "object_position": null,
            "object_fit": null,
            "grid_auto_columns": null,
            "margin": null,
            "display": null,
            "left": null
          }
        },
        "5f7c21084ced4329a5b43a8e92407c13": {
          "model_module": "@jupyter-widgets/base",
          "model_name": "LayoutModel",
          "state": {
            "_view_name": "LayoutView",
            "grid_template_rows": null,
            "right": null,
            "justify_content": null,
            "_view_module": "@jupyter-widgets/base",
            "overflow": null,
            "_model_module_version": "1.2.0",
            "_view_count": null,
            "flex_flow": null,
            "width": null,
            "min_width": null,
            "border": null,
            "align_items": null,
            "bottom": null,
            "_model_module": "@jupyter-widgets/base",
            "top": null,
            "grid_column": null,
            "overflow_y": null,
            "overflow_x": null,
            "grid_auto_flow": null,
            "grid_area": null,
            "grid_template_columns": null,
            "flex": null,
            "_model_name": "LayoutModel",
            "justify_items": null,
            "grid_row": null,
            "max_height": null,
            "align_content": null,
            "visibility": null,
            "align_self": null,
            "height": null,
            "min_height": null,
            "padding": null,
            "grid_auto_rows": null,
            "grid_gap": null,
            "max_width": null,
            "order": null,
            "_view_module_version": "1.2.0",
            "grid_template_areas": null,
            "object_position": null,
            "object_fit": null,
            "grid_auto_columns": null,
            "margin": null,
            "display": null,
            "left": null
          }
        },
        "6c19d071602749249b0e633c488f5667": {
          "model_module": "@jupyter-widgets/controls",
          "model_name": "VBoxModel",
          "state": {
            "_view_name": "VBoxView",
            "_dom_classes": [],
            "_model_name": "VBoxModel",
            "_view_module": "@jupyter-widgets/controls",
            "_model_module_version": "1.5.0",
            "_view_count": null,
            "_view_module_version": "1.5.0",
            "box_style": "",
            "layout": "IPY_MODEL_39c40fbd62c547a58dc03077ea3bc1f2",
            "_model_module": "@jupyter-widgets/controls",
            "children": [
              "IPY_MODEL_7705ffb337c742389bfa5706b28d8513",
              "IPY_MODEL_4bb1c168414146e38cb971df065450fc",
              "IPY_MODEL_be211f9830c842b2952aa8a4ad4c2024"
            ]
          }
        },
        "39c40fbd62c547a58dc03077ea3bc1f2": {
          "model_module": "@jupyter-widgets/base",
          "model_name": "LayoutModel",
          "state": {
            "_view_name": "LayoutView",
            "grid_template_rows": null,
            "right": null,
            "justify_content": null,
            "_view_module": "@jupyter-widgets/base",
            "overflow": null,
            "_model_module_version": "1.2.0",
            "_view_count": null,
            "flex_flow": null,
            "width": null,
            "min_width": null,
            "border": null,
            "align_items": null,
            "bottom": null,
            "_model_module": "@jupyter-widgets/base",
            "top": null,
            "grid_column": null,
            "overflow_y": null,
            "overflow_x": null,
            "grid_auto_flow": null,
            "grid_area": null,
            "grid_template_columns": null,
            "flex": null,
            "_model_name": "LayoutModel",
            "justify_items": null,
            "grid_row": null,
            "max_height": null,
            "align_content": null,
            "visibility": null,
            "align_self": null,
            "height": null,
            "min_height": null,
            "padding": null,
            "grid_auto_rows": null,
            "grid_gap": null,
            "max_width": null,
            "order": null,
            "_view_module_version": "1.2.0",
            "grid_template_areas": null,
            "object_position": null,
            "object_fit": null,
            "grid_auto_columns": null,
            "margin": null,
            "display": null,
            "left": null
          }
        },
        "7705ffb337c742389bfa5706b28d8513": {
          "model_module": "@jupyter-widgets/controls",
          "model_name": "FloatSliderModel",
          "state": {
            "_view_name": "FloatSliderView",
            "style": "IPY_MODEL_ea28b79a9585458194bd28270336d96d",
            "_dom_classes": [],
            "description": "p(s = left)",
            "step": 0.01,
            "_model_name": "FloatSliderModel",
            "orientation": "horizontal",
            "max": 0.99,
            "_view_module": "@jupyter-widgets/controls",
            "_model_module_version": "1.5.0",
            "value": 0.5,
            "_view_count": null,
            "disabled": false,
            "_view_module_version": "1.5.0",
            "min": 0.01,
            "continuous_update": true,
            "readout_format": ".2f",
            "description_tooltip": null,
            "readout": true,
            "_model_module": "@jupyter-widgets/controls",
            "layout": "IPY_MODEL_456b557e405e4173b7c1301cbdbfdf9b"
          }
        },
        "4bb1c168414146e38cb971df065450fc": {
          "model_module": "@jupyter-widgets/controls",
          "model_name": "HBoxModel",
          "state": {
            "_view_name": "HBoxView",
            "_dom_classes": [],
            "_model_name": "HBoxModel",
            "_view_module": "@jupyter-widgets/controls",
            "_model_module_version": "1.5.0",
            "_view_count": null,
            "_view_module_version": "1.5.0",
            "box_style": "",
            "layout": "IPY_MODEL_476896e44fe840bfa4aa7c3c1152cba2",
            "_model_module": "@jupyter-widgets/controls",
            "children": [
              "IPY_MODEL_e5b216dc1bad483181fdc2b8407cecf1",
              "IPY_MODEL_ef1612b94c2b4731840dc50087bc7639"
            ]
          }
        },
        "be211f9830c842b2952aa8a4ad4c2024": {
          "model_module": "@jupyter-widgets/controls",
          "model_name": "ToggleButtonsModel",
          "state": {
            "_options_labels": [
              "Fish",
              "No Fish"
            ],
            "_view_name": "ToggleButtonsView",
            "style": "IPY_MODEL_393898b66038444baebba1dce1d727d7",
            "_dom_classes": [],
            "description": "Observation (m) on the left:",
            "_model_name": "ToggleButtonsModel",
            "tooltips": [],
            "index": 0,
            "button_style": "",
            "_view_module": "@jupyter-widgets/controls",
            "_model_module_version": "1.5.0",
            "_view_count": null,
            "disabled": false,
            "_view_module_version": "1.5.0",
            "icons": [],
            "description_tooltip": null,
            "_model_module": "@jupyter-widgets/controls",
            "layout": "IPY_MODEL_d1cbd3eb2b2344ea904aa183441892e9"
          }
        },
        "ea28b79a9585458194bd28270336d96d": {
          "model_module": "@jupyter-widgets/controls",
          "model_name": "SliderStyleModel",
          "state": {
            "_view_name": "StyleView",
            "handle_color": null,
            "_model_name": "SliderStyleModel",
            "description_width": "",
            "_view_module": "@jupyter-widgets/base",
            "_model_module_version": "1.5.0",
            "_view_count": null,
            "_view_module_version": "1.2.0",
            "_model_module": "@jupyter-widgets/controls"
          }
        },
        "456b557e405e4173b7c1301cbdbfdf9b": {
          "model_module": "@jupyter-widgets/base",
          "model_name": "LayoutModel",
          "state": {
            "_view_name": "LayoutView",
            "grid_template_rows": null,
            "right": null,
            "justify_content": null,
            "_view_module": "@jupyter-widgets/base",
            "overflow": null,
            "_model_module_version": "1.2.0",
            "_view_count": null,
            "flex_flow": null,
            "width": "300px",
            "min_width": null,
            "border": null,
            "align_items": null,
            "bottom": null,
            "_model_module": "@jupyter-widgets/base",
            "top": null,
            "grid_column": null,
            "overflow_y": null,
            "overflow_x": null,
            "grid_auto_flow": null,
            "grid_area": null,
            "grid_template_columns": null,
            "flex": null,
            "_model_name": "LayoutModel",
            "justify_items": null,
            "grid_row": null,
            "max_height": null,
            "align_content": null,
            "visibility": null,
            "align_self": null,
            "height": null,
            "min_height": null,
            "padding": null,
            "grid_auto_rows": null,
            "grid_gap": null,
            "max_width": null,
            "order": null,
            "_view_module_version": "1.2.0",
            "grid_template_areas": null,
            "object_position": null,
            "object_fit": null,
            "grid_auto_columns": null,
            "margin": null,
            "display": null,
            "left": null
          }
        },
        "476896e44fe840bfa4aa7c3c1152cba2": {
          "model_module": "@jupyter-widgets/base",
          "model_name": "LayoutModel",
          "state": {
            "_view_name": "LayoutView",
            "grid_template_rows": null,
            "right": null,
            "justify_content": null,
            "_view_module": "@jupyter-widgets/base",
            "overflow": null,
            "_model_module_version": "1.2.0",
            "_view_count": null,
            "flex_flow": null,
            "width": null,
            "min_width": null,
            "border": null,
            "align_items": null,
            "bottom": null,
            "_model_module": "@jupyter-widgets/base",
            "top": null,
            "grid_column": null,
            "overflow_y": null,
            "overflow_x": null,
            "grid_auto_flow": null,
            "grid_area": null,
            "grid_template_columns": null,
            "flex": null,
            "_model_name": "LayoutModel",
            "justify_items": null,
            "grid_row": null,
            "max_height": null,
            "align_content": null,
            "visibility": null,
            "align_self": null,
            "height": null,
            "min_height": null,
            "padding": null,
            "grid_auto_rows": null,
            "grid_gap": null,
            "max_width": null,
            "order": null,
            "_view_module_version": "1.2.0",
            "grid_template_areas": null,
            "object_position": null,
            "object_fit": null,
            "grid_auto_columns": null,
            "margin": null,
            "display": null,
            "left": null
          }
        },
        "e5b216dc1bad483181fdc2b8407cecf1": {
          "model_module": "@jupyter-widgets/controls",
          "model_name": "FloatSliderModel",
          "state": {
            "_view_name": "FloatSliderView",
            "style": "IPY_MODEL_e5e0d7461c4741879ca6c6902ef90a87",
            "_dom_classes": [],
            "description": "p(fish on left | state = left)",
            "step": 0.01,
            "_model_name": "FloatSliderModel",
            "orientation": "horizontal",
            "max": 0.99,
            "_view_module": "@jupyter-widgets/controls",
            "_model_module_version": "1.5.0",
            "value": 0.5,
            "_view_count": null,
            "disabled": false,
            "_view_module_version": "1.5.0",
            "min": 0.01,
            "continuous_update": true,
            "readout_format": ".2f",
            "description_tooltip": null,
            "readout": true,
            "_model_module": "@jupyter-widgets/controls",
            "layout": "IPY_MODEL_ff6a948db29941f99420ea46ac69207d"
          }
        },
        "ef1612b94c2b4731840dc50087bc7639": {
          "model_module": "@jupyter-widgets/controls",
          "model_name": "FloatSliderModel",
          "state": {
            "_view_name": "FloatSliderView",
            "style": "IPY_MODEL_f735c9a1c7c54826ac822ae784eb290f",
            "_dom_classes": [],
            "description": "p(fish on left | state = right)",
            "step": 0.01,
            "_model_name": "FloatSliderModel",
            "orientation": "horizontal",
            "max": 0.99,
            "_view_module": "@jupyter-widgets/controls",
            "_model_module_version": "1.5.0",
            "value": 0.83,
            "_view_count": null,
            "disabled": false,
            "_view_module_version": "1.5.0",
            "min": 0.01,
            "continuous_update": true,
            "readout_format": ".2f",
            "description_tooltip": null,
            "readout": true,
            "_model_module": "@jupyter-widgets/controls",
            "layout": "IPY_MODEL_cdedcf35b67d4738a9be51a5266b486d"
          }
        },
        "393898b66038444baebba1dce1d727d7": {
          "model_module": "@jupyter-widgets/controls",
          "model_name": "ToggleButtonsStyleModel",
          "state": {
            "_view_name": "StyleView",
            "button_width": "",
            "_model_name": "ToggleButtonsStyleModel",
            "description_width": "initial",
            "_view_module": "@jupyter-widgets/base",
            "_model_module_version": "1.5.0",
            "_view_count": null,
            "font_weight": "",
            "_view_module_version": "1.2.0",
            "_model_module": "@jupyter-widgets/controls"
          }
        },
        "d1cbd3eb2b2344ea904aa183441892e9": {
          "model_module": "@jupyter-widgets/base",
          "model_name": "LayoutModel",
          "state": {
            "_view_name": "LayoutView",
            "grid_template_rows": null,
            "right": null,
            "justify_content": null,
            "_view_module": "@jupyter-widgets/base",
            "overflow": null,
            "_model_module_version": "1.2.0",
            "_view_count": null,
            "flex_flow": null,
            "width": "auto",
            "min_width": null,
            "border": null,
            "align_items": null,
            "bottom": null,
            "_model_module": "@jupyter-widgets/base",
            "top": null,
            "grid_column": null,
            "overflow_y": null,
            "overflow_x": null,
            "grid_auto_flow": null,
            "grid_area": null,
            "grid_template_columns": null,
            "flex": null,
            "_model_name": "LayoutModel",
            "justify_items": null,
            "grid_row": null,
            "max_height": null,
            "align_content": null,
            "visibility": null,
            "align_self": null,
            "height": null,
            "min_height": null,
            "padding": null,
            "grid_auto_rows": null,
            "grid_gap": null,
            "max_width": null,
            "order": null,
            "_view_module_version": "1.2.0",
            "grid_template_areas": null,
            "object_position": null,
            "object_fit": null,
            "grid_auto_columns": null,
            "margin": null,
            "display": "flex",
            "left": null
          }
        },
        "e5e0d7461c4741879ca6c6902ef90a87": {
          "model_module": "@jupyter-widgets/controls",
          "model_name": "SliderStyleModel",
          "state": {
            "_view_name": "StyleView",
            "handle_color": null,
            "_model_name": "SliderStyleModel",
            "description_width": "initial",
            "_view_module": "@jupyter-widgets/base",
            "_model_module_version": "1.5.0",
            "_view_count": null,
            "_view_module_version": "1.2.0",
            "_model_module": "@jupyter-widgets/controls"
          }
        },
        "ff6a948db29941f99420ea46ac69207d": {
          "model_module": "@jupyter-widgets/base",
          "model_name": "LayoutModel",
          "state": {
            "_view_name": "LayoutView",
            "grid_template_rows": null,
            "right": null,
            "justify_content": null,
            "_view_module": "@jupyter-widgets/base",
            "overflow": null,
            "_model_module_version": "1.2.0",
            "_view_count": null,
            "flex_flow": null,
            "width": "370px",
            "min_width": null,
            "border": null,
            "align_items": null,
            "bottom": null,
            "_model_module": "@jupyter-widgets/base",
            "top": null,
            "grid_column": null,
            "overflow_y": null,
            "overflow_x": null,
            "grid_auto_flow": null,
            "grid_area": null,
            "grid_template_columns": null,
            "flex": null,
            "_model_name": "LayoutModel",
            "justify_items": null,
            "grid_row": null,
            "max_height": null,
            "align_content": null,
            "visibility": null,
            "align_self": null,
            "height": null,
            "min_height": null,
            "padding": null,
            "grid_auto_rows": null,
            "grid_gap": null,
            "max_width": null,
            "order": null,
            "_view_module_version": "1.2.0",
            "grid_template_areas": null,
            "object_position": null,
            "object_fit": null,
            "grid_auto_columns": null,
            "margin": null,
            "display": null,
            "left": null
          }
        },
        "f735c9a1c7c54826ac822ae784eb290f": {
          "model_module": "@jupyter-widgets/controls",
          "model_name": "SliderStyleModel",
          "state": {
            "_view_name": "StyleView",
            "handle_color": null,
            "_model_name": "SliderStyleModel",
            "description_width": "initial",
            "_view_module": "@jupyter-widgets/base",
            "_model_module_version": "1.5.0",
            "_view_count": null,
            "_view_module_version": "1.2.0",
            "_model_module": "@jupyter-widgets/controls"
          }
        },
        "cdedcf35b67d4738a9be51a5266b486d": {
          "model_module": "@jupyter-widgets/base",
          "model_name": "LayoutModel",
          "state": {
            "_view_name": "LayoutView",
            "grid_template_rows": null,
            "right": null,
            "justify_content": null,
            "_view_module": "@jupyter-widgets/base",
            "overflow": null,
            "_model_module_version": "1.2.0",
            "_view_count": null,
            "flex_flow": null,
            "width": "370px",
            "min_width": null,
            "border": null,
            "align_items": null,
            "bottom": null,
            "_model_module": "@jupyter-widgets/base",
            "top": null,
            "grid_column": null,
            "overflow_y": null,
            "overflow_x": null,
            "grid_auto_flow": null,
            "grid_area": null,
            "grid_template_columns": null,
            "flex": null,
            "_model_name": "LayoutModel",
            "justify_items": null,
            "grid_row": null,
            "max_height": null,
            "align_content": null,
            "visibility": null,
            "align_self": null,
            "height": null,
            "min_height": null,
            "padding": null,
            "grid_auto_rows": null,
            "grid_gap": null,
            "max_width": null,
            "order": null,
            "_view_module_version": "1.2.0",
            "grid_template_areas": null,
            "object_position": null,
            "object_fit": null,
            "grid_auto_columns": null,
            "margin": null,
            "display": null,
            "left": null
          }
        },
        "85ec06f2490b45d6a44af5a338e3496b": {
          "model_module": "@jupyter-widgets/output",
          "model_name": "OutputModel",
          "state": {
            "_view_name": "OutputView",
            "msg_id": "",
            "_dom_classes": [],
            "_model_name": "OutputModel",
            "outputs": [
              {
                "output_type": "display_data",
                "metadata": {
                  "tags": [],
                  "image/png": {
                    "width": 646,
                    "height": 549
                  },
                  "needs_background": "light"
                },
                "image/png": "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\n",
                "text/plain": "<Figure size 720x648 with 5 Axes>"
              }
            ],
            "_view_module": "@jupyter-widgets/output",
            "_model_module_version": "1.0.0",
            "_view_count": null,
            "_view_module_version": "1.0.0",
            "layout": "IPY_MODEL_ab62d1f7cf1d47a69623299db75d2ad0",
            "_model_module": "@jupyter-widgets/output"
          }
        },
        "ab62d1f7cf1d47a69623299db75d2ad0": {
          "model_module": "@jupyter-widgets/base",
          "model_name": "LayoutModel",
          "state": {
            "_view_name": "LayoutView",
            "grid_template_rows": null,
            "right": null,
            "justify_content": null,
            "_view_module": "@jupyter-widgets/base",
            "overflow": null,
            "_model_module_version": "1.2.0",
            "_view_count": null,
            "flex_flow": null,
            "width": null,
            "min_width": null,
            "border": null,
            "align_items": null,
            "bottom": null,
            "_model_module": "@jupyter-widgets/base",
            "top": null,
            "grid_column": null,
            "overflow_y": null,
            "overflow_x": null,
            "grid_auto_flow": null,
            "grid_area": null,
            "grid_template_columns": null,
            "flex": null,
            "_model_name": "LayoutModel",
            "justify_items": null,
            "grid_row": null,
            "max_height": null,
            "align_content": null,
            "visibility": null,
            "align_self": null,
            "height": null,
            "min_height": null,
            "padding": null,
            "grid_auto_rows": null,
            "grid_gap": null,
            "max_width": null,
            "order": null,
            "_view_module_version": "1.2.0",
            "grid_template_areas": null,
            "object_position": null,
            "object_fit": null,
            "grid_auto_columns": null,
            "margin": null,
            "display": null,
            "left": null
          }
        },
        "c074238cd71f44abbd7b74cfb17273ce": {
          "model_module": "@jupyter-widgets/controls",
          "model_name": "TabModel",
          "state": {
            "_view_name": "TabView",
            "_dom_classes": [],
            "_titles": {
              "0": "Youtube",
              "1": "Bilibili"
            },
            "_model_name": "TabModel",
            "_view_module": "@jupyter-widgets/controls",
            "selected_index": 0,
            "_model_module_version": "1.5.0",
            "_view_count": null,
            "_view_module_version": "1.5.0",
            "box_style": "",
            "layout": "IPY_MODEL_50c7176eff094e27b5f2920f9a70109b",
            "_model_module": "@jupyter-widgets/controls",
            "children": [
              "IPY_MODEL_c0738e8902b7478ca026a0c8a5fcbf80",
              "IPY_MODEL_5ccfe55638da473098fdfc8d9f647290"
            ]
          }
        },
        "50c7176eff094e27b5f2920f9a70109b": {
          "model_module": "@jupyter-widgets/base",
          "model_name": "LayoutModel",
          "state": {
            "_view_name": "LayoutView",
            "grid_template_rows": null,
            "right": null,
            "justify_content": null,
            "_view_module": "@jupyter-widgets/base",
            "overflow": null,
            "_model_module_version": "1.2.0",
            "_view_count": null,
            "flex_flow": null,
            "width": null,
            "min_width": null,
            "border": null,
            "align_items": null,
            "bottom": null,
            "_model_module": "@jupyter-widgets/base",
            "top": null,
            "grid_column": null,
            "overflow_y": null,
            "overflow_x": null,
            "grid_auto_flow": null,
            "grid_area": null,
            "grid_template_columns": null,
            "flex": null,
            "_model_name": "LayoutModel",
            "justify_items": null,
            "grid_row": null,
            "max_height": null,
            "align_content": null,
            "visibility": null,
            "align_self": null,
            "height": null,
            "min_height": null,
            "padding": null,
            "grid_auto_rows": null,
            "grid_gap": null,
            "max_width": null,
            "order": null,
            "_view_module_version": "1.2.0",
            "grid_template_areas": null,
            "object_position": null,
            "object_fit": null,
            "grid_auto_columns": null,
            "margin": null,
            "display": null,
            "left": null
          }
        },
        "c0738e8902b7478ca026a0c8a5fcbf80": {
          "model_module": "@jupyter-widgets/output",
          "model_name": "OutputModel",
          "state": {
            "_view_name": "OutputView",
            "msg_id": "",
            "_dom_classes": [],
            "_model_name": "OutputModel",
            "outputs": [
              {
                "output_type": "stream",
                "metadata": {
                  "tags": []
                },
                "text": "Video available at https://youtube.com/watch?v=h9L0EYmUpHs\n",
                "stream": "stdout"
              },
              {
                "output_type": "display_data",
                "metadata": {
                  "tags": []
                },
                "text/html": "\n        <iframe\n            width=\"854\"\n            height=\"480\"\n            src=\"https://www.youtube.com/embed/h9L0EYmUpHs?fs=1&rel=0\"\n            frameborder=\"0\"\n            allowfullscreen\n        ></iframe>\n        ",
                "text/plain": "<IPython.lib.display.YouTubeVideo at 0x7f34dffe1dd0>",
                "image/jpeg": "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\n"
              }
            ],
            "_view_module": "@jupyter-widgets/output",
            "_model_module_version": "1.0.0",
            "_view_count": null,
            "_view_module_version": "1.0.0",
            "layout": "IPY_MODEL_3270eedc47cf4827a5d790550cb35506",
            "_model_module": "@jupyter-widgets/output"
          }
        },
        "5ccfe55638da473098fdfc8d9f647290": {
          "model_module": "@jupyter-widgets/output",
          "model_name": "OutputModel",
          "state": {
            "_view_name": "OutputView",
            "msg_id": "",
            "_dom_classes": [],
            "_model_name": "OutputModel",
            "outputs": [
              {
                "output_type": "stream",
                "metadata": {
                  "tags": []
                },
                "text": "Video available at https://www.bilibili.com/video/BV1QU4y137BS\n",
                "stream": "stdout"
              },
              {
                "output_type": "display_data",
                "metadata": {
                  "tags": []
                },
                "text/html": "\n        <iframe\n            width=\"854\"\n            height=\"480\"\n            src=\"https://player.bilibili.com/player.html?bvid=BV1QU4y137BS&page=1?fs=1\"\n            frameborder=\"0\"\n            allowfullscreen\n        ></iframe>\n        ",
                "text/plain": "<__main__.BiliVideo at 0x7f34e055f6d0>"
              }
            ],
            "_view_module": "@jupyter-widgets/output",
            "_model_module_version": "1.0.0",
            "_view_count": null,
            "_view_module_version": "1.0.0",
            "layout": "IPY_MODEL_3881409e5f6b4a9cb4918d79de25fd6f",
            "_model_module": "@jupyter-widgets/output"
          }
        },
        "3270eedc47cf4827a5d790550cb35506": {
          "model_module": "@jupyter-widgets/base",
          "model_name": "LayoutModel",
          "state": {
            "_view_name": "LayoutView",
            "grid_template_rows": null,
            "right": null,
            "justify_content": null,
            "_view_module": "@jupyter-widgets/base",
            "overflow": null,
            "_model_module_version": "1.2.0",
            "_view_count": null,
            "flex_flow": null,
            "width": null,
            "min_width": null,
            "border": null,
            "align_items": null,
            "bottom": null,
            "_model_module": "@jupyter-widgets/base",
            "top": null,
            "grid_column": null,
            "overflow_y": null,
            "overflow_x": null,
            "grid_auto_flow": null,
            "grid_area": null,
            "grid_template_columns": null,
            "flex": null,
            "_model_name": "LayoutModel",
            "justify_items": null,
            "grid_row": null,
            "max_height": null,
            "align_content": null,
            "visibility": null,
            "align_self": null,
            "height": null,
            "min_height": null,
            "padding": null,
            "grid_auto_rows": null,
            "grid_gap": null,
            "max_width": null,
            "order": null,
            "_view_module_version": "1.2.0",
            "grid_template_areas": null,
            "object_position": null,
            "object_fit": null,
            "grid_auto_columns": null,
            "margin": null,
            "display": null,
            "left": null
          }
        },
        "3881409e5f6b4a9cb4918d79de25fd6f": {
          "model_module": "@jupyter-widgets/base",
          "model_name": "LayoutModel",
          "state": {
            "_view_name": "LayoutView",
            "grid_template_rows": null,
            "right": null,
            "justify_content": null,
            "_view_module": "@jupyter-widgets/base",
            "overflow": null,
            "_model_module_version": "1.2.0",
            "_view_count": null,
            "flex_flow": null,
            "width": null,
            "min_width": null,
            "border": null,
            "align_items": null,
            "bottom": null,
            "_model_module": "@jupyter-widgets/base",
            "top": null,
            "grid_column": null,
            "overflow_y": null,
            "overflow_x": null,
            "grid_auto_flow": null,
            "grid_area": null,
            "grid_template_columns": null,
            "flex": null,
            "_model_name": "LayoutModel",
            "justify_items": null,
            "grid_row": null,
            "max_height": null,
            "align_content": null,
            "visibility": null,
            "align_self": null,
            "height": null,
            "min_height": null,
            "padding": null,
            "grid_auto_rows": null,
            "grid_gap": null,
            "max_width": null,
            "order": null,
            "_view_module_version": "1.2.0",
            "grid_template_areas": null,
            "object_position": null,
            "object_fit": null,
            "grid_auto_columns": null,
            "margin": null,
            "display": null,
            "left": null
          }
        }
      }
    }
  },
  "cells": [
    {
      "cell_type": "markdown",
      "metadata": {
        "id": "view-in-github",
        "colab_type": "text"
      },
      "source": [
        "<a href=\"https://colab.research.google.com/github/Pa-lillo/PaliNeuroMatch/blob/main/tutorials/W3D1_BayesianDecisions/W3D1_Tutorial1.ipynb\" target=\"_parent\"><img src=\"https://colab.research.google.com/assets/colab-badge.svg\" alt=\"Open In Colab\"/></a>"
      ]
    },
    {
      "cell_type": "markdown",
      "metadata": {
        "execution": {},
        "id": "6awti_HvqEf-"
      },
      "source": [
        "# Tutorial 1: Bayes with a binary hidden state\n",
        "**Week 3, Day 1: Bayesian Decisions**\n",
        "\n",
        "**By Neuromatch Academy**\n",
        "\n",
        "__Content creators:__ Eric DeWitt, Xaq Pitkow, Ella Batty, Saeed Salehi\n",
        "\n",
        "__Content reviewers:__ Hyosub Kim, Zahra Arjmandi, Anoop Kulkarni\n",
        "\n",
        "__Production editor:__ Ella Batty"
      ]
    },
    {
      "cell_type": "markdown",
      "metadata": {
        "execution": {},
        "id": "6rg8ZaurqEgA"
      },
      "source": [
        "**Our 2021 Sponsors, including Presenting Sponsor Facebook Reality Labs**\n",
        "\n",
        "<p align='center'><img src='https://github.com/NeuromatchAcademy/widgets/blob/master/sponsors.png?raw=True'/></p>"
      ]
    },
    {
      "cell_type": "markdown",
      "metadata": {
        "execution": {},
        "id": "iEGCVNr5qEgA"
      },
      "source": [
        "# Tutorial Objectives\n",
        "\n",
        "*Estimated timing of tutorial: 1 hour, 30 minutes*\n",
        "\n",
        "This is the first of two core tutorials on Bayesian statistics. In these tutorials, we will explore the fundemental concepts of the Bayesian approach. In this tutorial you will work through an example of Bayesian inference and decision making using a binary hidden state. The second tutorial extends these concepts to a continuous hidden state. In the related NMA days, each of these basic ideas will be extended. In Hidden Dynamics, we consider these idea through time as you explore what happens when we infere a hidden state using repeated observations and when the hidden state changes across time. In the Optimal Control day, we will introduce the notion of how to use inference and decisions to select actions for optimal control.\n",
        "\n",
        "This notebook will introduce the fundamental building blocks for Bayesian statistics: \n",
        "\n",
        "1. How do we combine the possible loss (or gain) for making a decision with our probabilitic knowledge?\n",
        "2. How do we use probability distributions to represent hidden states?\n",
        "3. How does marginalization work and how can we use it?\n",
        "4. How do we combine new information with our prior knowledge? "
      ]
    },
    {
      "cell_type": "code",
      "metadata": {
        "cellView": "form",
        "execution": {},
        "id": "5LqD3mz5qEgB"
      },
      "source": [
        "# @title Tutorial slides\n",
        "\n",
        "# @markdown These are the slides for the videos in this tutorial\n",
        "from IPython.display import IFrame\n",
        "IFrame(src=f\"https://mfr.ca-1.osf.io/render?url=https://osf.io/dx7jt/?direct%26mode=render%26action=download%26mode=render\", width=854, height=480)"
      ],
      "execution_count": null,
      "outputs": []
    },
    {
      "cell_type": "code",
      "metadata": {
        "cellView": "form",
        "execution": {},
        "id": "3Goc4N4DqEgB",
        "outputId": "bf526096-e057-4074-cdd7-1086e30b1114",
        "colab": {
          "base_uri": "https://localhost:8080/",
          "height": 581,
          "referenced_widgets": [
            "d8d905548ab3425bbe83bf8ffdf66cc1",
            "366713481732422e83d35b4fe879533b",
            "a5f2e06347be4d2f87c668be64c6b77f",
            "582c70d32ba64f16aaac232ae337a7bd",
            "65e5b5ee552b4014891f01e10f305939",
            "def606eac846430480b540dac800d33a"
          ]
        }
      },
      "source": [
        "# @title Video 1: Introduction to Bayesian Statistics and Decisions\n",
        "from ipywidgets import widgets\n",
        "\n",
        "out2 = widgets.Output()\n",
        "with out2:\n",
        "  from IPython.display import IFrame\n",
        "  class BiliVideo(IFrame):\n",
        "      def __init__(self, id, page=1, width=400, height=300, **kwargs):\n",
        "          self.id=id\n",
        "          src = 'https://player.bilibili.com/player.html?bvid={0}&page={1}'.format(id, page)\n",
        "          super(BiliVideo, self).__init__(src, width, height, **kwargs)\n",
        "\n",
        "  video = BiliVideo(id=\"BV1Ch41167jN\", width=854, height=480, fs=1)\n",
        "  print('Video available at https://www.bilibili.com/video/{0}'.format(video.id))\n",
        "  display(video)\n",
        "\n",
        "out1 = widgets.Output()\n",
        "with out1:\n",
        "  from IPython.display import YouTubeVideo\n",
        "  video = YouTubeVideo(id=\"Hcx2_JTpf2M\", width=854, height=480, fs=1, rel=0)\n",
        "  print('Video available at https://youtube.com/watch?v=' + video.id)\n",
        "  display(video)\n",
        "\n",
        "out = widgets.Tab([out1, out2])\n",
        "out.set_title(0, 'Youtube')\n",
        "out.set_title(1, 'Bilibili')\n",
        "\n",
        "display(out)"
      ],
      "execution_count": 1,
      "outputs": [
        {
          "output_type": "display_data",
          "data": {
            "application/vnd.jupyter.widget-view+json": {
              "model_id": "d8d905548ab3425bbe83bf8ffdf66cc1",
              "version_minor": 0,
              "version_major": 2
            },
            "text/plain": [
              "Tab(children=(Output(), Output()), _titles={'0': 'Youtube', '1': 'Bilibili'})"
            ]
          },
          "metadata": {
            "tags": []
          }
        }
      ]
    },
    {
      "cell_type": "markdown",
      "metadata": {
        "execution": {},
        "id": "n5ua_CvtqEgB"
      },
      "source": [
        "# Setup  \n"
      ]
    },
    {
      "cell_type": "code",
      "metadata": {
        "execution": {},
        "id": "ic4RMgsFqEgC"
      },
      "source": [
        "# Imports\n",
        "\n",
        "import numpy as np\n",
        "import matplotlib.pyplot as plt\n",
        "from matplotlib import patches, transforms, gridspec\n",
        "from scipy.optimize import fsolve\n",
        "\n",
        "from collections import namedtuple"
      ],
      "execution_count": 2,
      "outputs": []
    },
    {
      "cell_type": "code",
      "metadata": {
        "cellView": "form",
        "execution": {},
        "id": "4j1t_zPoqEgC"
      },
      "source": [
        "#@title Figure Settings\n",
        "import ipywidgets as widgets       # interactive display\n",
        "from ipywidgets import GridspecLayout, HBox, VBox, FloatSlider, Layout, ToggleButtons\n",
        "from ipywidgets import interactive, interactive_output, Checkbox, Select\n",
        "from IPython.display import clear_output\n",
        "%config InlineBackend.figure_format = 'retina'\n",
        "plt.style.use(\"https://raw.githubusercontent.com/NeuromatchAcademy/course-content/master/nma.mplstyle\")\n",
        "\n",
        "import warnings\n",
        "warnings.filterwarnings(\"ignore\")"
      ],
      "execution_count": 3,
      "outputs": []
    },
    {
      "cell_type": "code",
      "metadata": {
        "cellView": "form",
        "execution": {},
        "id": "R3n-EgMgqEgC"
      },
      "source": [
        "# @title Plotting Functions\n",
        "\n",
        "def plot_joint_probs(P, ):\n",
        "    assert np.all(P >= 0), \"probabilities should be >= 0\"\n",
        "    # normalize if not\n",
        "    P = P / np.sum(P)\n",
        "    marginal_y = np.sum(P,axis=1)\n",
        "    marginal_x = np.sum(P,axis=0)\n",
        "\n",
        "    # definitions for the axes\n",
        "    left, width = 0.1, 0.65\n",
        "    bottom, height = 0.1, 0.65\n",
        "    spacing = 0.005\n",
        "\n",
        "    # start with a square Figure\n",
        "    fig = plt.figure(figsize=(5, 5))\n",
        "\n",
        "    joint_prob = [left, bottom, width, height]\n",
        "    rect_histx = [left, bottom + height + spacing, width, 0.2]\n",
        "    rect_histy = [left + width + spacing, bottom, 0.2, height]\n",
        "\n",
        "    rect_x_cmap = plt.cm.Blues\n",
        "    rect_y_cmap = plt.cm.Reds\n",
        "\n",
        "    # Show joint probs and marginals\n",
        "    ax = fig.add_axes(joint_prob)\n",
        "    ax_x = fig.add_axes(rect_histx, sharex=ax)\n",
        "    ax_y = fig.add_axes(rect_histy, sharey=ax)\n",
        "\n",
        "    # Show joint probs and marginals\n",
        "    ax.matshow(P,vmin=0., vmax=1., cmap='Greys')\n",
        "    ax_x.bar(0, marginal_x[0], facecolor=rect_x_cmap(marginal_x[0]))\n",
        "    ax_x.bar(1, marginal_x[1], facecolor=rect_x_cmap(marginal_x[1]))\n",
        "    ax_y.barh(0, marginal_y[0], facecolor=rect_y_cmap(marginal_y[0]))\n",
        "    ax_y.barh(1, marginal_y[1], facecolor=rect_y_cmap(marginal_y[1]))\n",
        "    # set limits\n",
        "    ax_x.set_ylim([0,1])\n",
        "    ax_y.set_xlim([0,1])\n",
        "\n",
        "    # show values\n",
        "    ind = np.arange(2)\n",
        "    x,y = np.meshgrid(ind,ind)\n",
        "    for i,j in zip(x.flatten(), y.flatten()):\n",
        "        c = f\"{P[i,j]:.2f}\"\n",
        "        ax.text(j,i, c, va='center', ha='center', color='black')\n",
        "    for i in ind:\n",
        "        v = marginal_x[i]\n",
        "        c = f\"{v:.2f}\"\n",
        "        ax_x.text(i, v +0.1, c, va='center', ha='center', color='black')\n",
        "        v = marginal_y[i]\n",
        "        c = f\"{v:.2f}\"\n",
        "        ax_y.text(v+0.2, i, c, va='center', ha='center', color='black')\n",
        "\n",
        "    # set up labels\n",
        "    ax.xaxis.tick_bottom()\n",
        "    ax.yaxis.tick_left()\n",
        "    ax.set_xticks([0,1])\n",
        "    ax.set_yticks([0,1])\n",
        "    ax.set_xticklabels(['Silver','Gold'])\n",
        "    ax.set_yticklabels(['Small', 'Large'])\n",
        "    ax.set_xlabel('color')\n",
        "    ax.set_ylabel('size')\n",
        "    ax_x.axis('off')\n",
        "    ax_y.axis('off')\n",
        "    return fig\n",
        "\n",
        "\n",
        "def plot_prior_likelihood_posterior(prior, likelihood, posterior):\n",
        "\n",
        "    # definitions for the axes\n",
        "    left, width = 0.05, 0.3\n",
        "    bottom, height = 0.05, 0.9\n",
        "    padding = 0.12\n",
        "    small_width = 0.1\n",
        "    left_space = left + small_width + padding\n",
        "    added_space = padding + width\n",
        "\n",
        "    fig = plt.figure(figsize=(12, 4))\n",
        "\n",
        "    rect_prior = [left, bottom, small_width, height]\n",
        "    rect_likelihood = [left_space , bottom , width, height]\n",
        "    rect_posterior = [left_space +  added_space, bottom , width, height]\n",
        "\n",
        "    ax_prior = fig.add_axes(rect_prior)\n",
        "    ax_likelihood = fig.add_axes(rect_likelihood, sharey=ax_prior)\n",
        "    ax_posterior = fig.add_axes(rect_posterior, sharey = ax_prior)\n",
        "\n",
        "    rect_colormap = plt.cm.Blues\n",
        "\n",
        "    # Show posterior probs and marginals\n",
        "    ax_prior.barh(0, prior[0], facecolor = rect_colormap(prior[0, 0]))\n",
        "    ax_prior.barh(1, prior[1], facecolor = rect_colormap(prior[1, 0]))\n",
        "    ax_likelihood.matshow(likelihood, vmin=0., vmax=1., cmap='Reds')\n",
        "    ax_posterior.matshow(posterior, vmin=0., vmax=1., cmap='Greens')\n",
        "\n",
        "\n",
        "    # Probabilities plot details\n",
        "    # ax_prior.set(xlim = [1, 0], yticks = [0, 1], yticklabels = ['left', 'right'],\n",
        "    #              ylabel = 'state (s)', title = \"Prior p(s)\")\n",
        "    ax_prior.set(xlim = [1, 0], xticks = [], yticks = [0, 1], yticklabels = ['left', 'right'],\n",
        "                 title = \"Prior p(s)\")\n",
        "    ax_prior.yaxis.tick_right()\n",
        "    ax_prior.spines['left'].set_visible(False)\n",
        "    ax_prior.spines['bottom'].set_visible(False)\n",
        "\n",
        "    # Likelihood plot details\n",
        "    ax_likelihood.set(xticks = [0, 1], xticklabels = ['fish', 'no fish'],\n",
        "                  yticks = [0, 1], yticklabels = ['left', 'right'],\n",
        "                   ylabel = 'state (s)', xlabel = 'measurement (m)',\n",
        "                   title = 'Likelihood p(m (left) | s)')\n",
        "    ax_likelihood.xaxis.set_ticks_position('bottom')\n",
        "    ax_likelihood.spines['left'].set_visible(False)\n",
        "    ax_likelihood.spines['bottom'].set_visible(False)\n",
        "\n",
        "    # Posterior plot details\n",
        "\n",
        "    ax_posterior.set(xticks = [0, 1], xticklabels = ['fish', 'no fish'],\n",
        "                  yticks = [0, 1], yticklabels = ['left', 'right'],\n",
        "                   ylabel = 'state (s)', xlabel = 'measurement (m)',\n",
        "                   title = 'Posterior p(s | m)')\n",
        "    ax_posterior.xaxis.set_ticks_position('bottom')\n",
        "    ax_posterior.spines['left'].set_visible(False)\n",
        "    ax_posterior.spines['bottom'].set_visible(False)\n",
        "\n",
        "\n",
        "    # show values\n",
        "    ind = np.arange(2)\n",
        "    x,y = np.meshgrid(ind,ind)\n",
        "    for i,j in zip(x.flatten(), y.flatten()):\n",
        "        c = f\"{posterior[i,j]:.2f}\"\n",
        "        ax_posterior.text(j,i, c, va='center', ha='center', color='black')\n",
        "    for i,j in zip(x.flatten(), y.flatten()):\n",
        "        c = f\"{likelihood[i,j]:.2f}\"\n",
        "        ax_likelihood.text(j,i, c, va='center', ha='center', color='black')\n",
        "    for i in ind:\n",
        "        v = prior[i, 0]\n",
        "        c = f\"{v:.2f}\"\n",
        "        ax_prior.text(v+0.2, i, c, va='center', ha='center', color='black')\n",
        "\n",
        "\n",
        "def plot_prior_likelihood(ps, p_a_s1, p_a_s0, measurement):\n",
        "    likelihood = np.asarray([[p_a_s1, 1-p_a_s1],[p_a_s0, 1-p_a_s0]])\n",
        "    assert 0.0 <= ps <= 1.0\n",
        "    prior = np.asarray([ps, 1 - ps])\n",
        "    if measurement == \"Fish\":\n",
        "        posterior = likelihood[:, 0] * prior\n",
        "    else:\n",
        "        posterior = (likelihood[:, 1] * prior).reshape(-1)\n",
        "    posterior /= np.sum(posterior)\n",
        "\n",
        "    # definitions for the axes\n",
        "    left, width = 0.05, 0.3\n",
        "    bottom, height = 0.05, 0.9\n",
        "    padding = 0.12\n",
        "    small_width = 0.2\n",
        "    left_space = left + small_width + padding\n",
        "    small_padding = 0.05\n",
        "\n",
        "    fig = plt.figure(figsize=(12, 4))\n",
        "\n",
        "    rect_prior = [left, bottom, small_width, height]\n",
        "    rect_likelihood = [left_space , bottom , width, height]\n",
        "    rect_posterior = [left_space + width + small_padding, bottom , small_width, height]\n",
        "\n",
        "    ax_prior = fig.add_axes(rect_prior)\n",
        "    ax_likelihood = fig.add_axes(rect_likelihood, sharey=ax_prior)\n",
        "    ax_posterior = fig.add_axes(rect_posterior, sharey=ax_prior)\n",
        "\n",
        "    prior_colormap = plt.cm.Blues\n",
        "    posterior_colormap = plt.cm.Greens\n",
        "\n",
        "    # Show posterior probs and marginals\n",
        "    ax_prior.barh(0, prior[0], facecolor = prior_colormap(prior[0]))\n",
        "    ax_prior.barh(1, prior[1], facecolor = prior_colormap(prior[1]))\n",
        "    ax_likelihood.matshow(likelihood, vmin=0., vmax=1., cmap='Reds')\n",
        "    # ax_posterior.matshow(posterior, vmin=0., vmax=1., cmap='')\n",
        "    ax_posterior.barh(0, posterior[0], facecolor = posterior_colormap(posterior[0]))\n",
        "    ax_posterior.barh(1, posterior[1], facecolor = posterior_colormap(posterior[1]))\n",
        "\n",
        "    # Probabilities plot details\n",
        "    ax_prior.set(xlim = [1, 0], yticks = [0, 1], yticklabels = ['left', 'right'],\n",
        "                 title = \"Prior p(s)\", xticks = [])\n",
        "    ax_prior.yaxis.tick_right()\n",
        "    ax_prior.spines['left'].set_visible(False)\n",
        "    ax_prior.spines['bottom'].set_visible(False)\n",
        "\n",
        "    # Likelihood plot details\n",
        "    ax_likelihood.set(xticks = [0, 1], xticklabels = ['fish', 'no fish'],\n",
        "                  yticks = [0, 1], yticklabels = ['left', 'right'],\n",
        "                   ylabel = 'state (s)', xlabel = 'measurement (m)',\n",
        "                   title = 'Likelihood p(m | s)')\n",
        "    ax_likelihood.xaxis.set_ticks_position('bottom')\n",
        "    ax_likelihood.spines['left'].set_visible(False)\n",
        "    ax_likelihood.spines['bottom'].set_visible(False)\n",
        "\n",
        "    # Posterior plot details\n",
        "    ax_posterior.set(xlim = [0, 1], xticks = [], yticks = [0, 1],\n",
        "                     yticklabels = ['left', 'right'], title = \"Posterior p(s | m)\")\n",
        "    ax_posterior.spines['left'].set_visible(False)\n",
        "    ax_posterior.spines['bottom'].set_visible(False)\n",
        "\n",
        "    # show values\n",
        "    ind = np.arange(2)\n",
        "    x,y = np.meshgrid(ind,ind)\n",
        "    # for i,j in zip(x.flatten(), y.flatten()):\n",
        "    #     c = f\"{posterior[i,j]:.2f}\"\n",
        "    #     ax_posterior.text(j,i, c, va='center', ha='center', color='black')\n",
        "    for i in ind:\n",
        "        v = posterior[i]\n",
        "        c = f\"{v:.2f}\"\n",
        "        ax_posterior.text(v+0.2, i, c, va='center', ha='center', color='black')\n",
        "    for i,j in zip(x.flatten(), y.flatten()):\n",
        "        c = f\"{likelihood[i,j]:.2f}\"\n",
        "        ax_likelihood.text(j,i, c, va='center', ha='center', color='black')\n",
        "    for i in ind:\n",
        "        v = prior[i]\n",
        "        c = f\"{v:.2f}\"\n",
        "        ax_prior.text(v+0.2, i, c, va='center', ha='center', color='black')\n",
        "    return fig\n",
        "\n",
        "\n",
        "from matplotlib import colors\n",
        "def plot_utility(ps):\n",
        "    prior = np.asarray([ps, 1 - ps])\n",
        "\n",
        "    utility = np.array([[2, -3], [-2, 1]])\n",
        "\n",
        "    expected = prior @ utility\n",
        "\n",
        "    # definitions for the axes\n",
        "    left, width = 0.05, 0.16\n",
        "    bottom, height = 0.05, 0.9\n",
        "    padding = 0.02\n",
        "    small_width = 0.1\n",
        "    left_space = left + small_width + padding\n",
        "    added_space = padding + width\n",
        "\n",
        "    fig = plt.figure(figsize=(17, 3))\n",
        "\n",
        "    rect_prior = [left, bottom, small_width, height]\n",
        "    rect_utility = [left + added_space , bottom , width, height]\n",
        "    rect_expected = [left + 2* added_space, bottom , width, height]\n",
        "\n",
        "    ax_prior = fig.add_axes(rect_prior)\n",
        "    ax_utility = fig.add_axes(rect_utility, sharey=ax_prior)\n",
        "    ax_expected = fig.add_axes(rect_expected)\n",
        "\n",
        "    rect_colormap = plt.cm.Blues\n",
        "\n",
        "    # Data of plots\n",
        "    ax_prior.barh(0, prior[0], facecolor = rect_colormap(prior[0]))\n",
        "    ax_prior.barh(1, prior[1], facecolor = rect_colormap(prior[1]))\n",
        "    ax_utility.matshow(utility, cmap='cool')\n",
        "    norm = colors.Normalize(vmin=-3, vmax=3)\n",
        "    ax_expected.bar(0, expected[0], facecolor = rect_colormap(norm(expected[0])))\n",
        "    ax_expected.bar(1, expected[1], facecolor = rect_colormap(norm(expected[1])))\n",
        "\n",
        "    # Probabilities plot details\n",
        "    ax_prior.set(xlim = [1, 0], xticks = [], yticks = [0, 1], yticklabels = ['left', 'right'],\n",
        "                 title = \"Probability of state\")\n",
        "    ax_prior.yaxis.tick_right()\n",
        "    ax_prior.spines['left'].set_visible(False)\n",
        "    ax_prior.spines['bottom'].set_visible(False)\n",
        "\n",
        "    # Utility plot details\n",
        "    ax_utility.set(xticks = [0, 1], xticklabels = ['left', 'right'],\n",
        "                  yticks = [0, 1], yticklabels = ['left', 'right'],\n",
        "                   ylabel = 'state (s)', xlabel = 'action (a)',\n",
        "                   title = 'Utility')\n",
        "    ax_utility.xaxis.set_ticks_position('bottom')\n",
        "    ax_utility.spines['left'].set_visible(False)\n",
        "    ax_utility.spines['bottom'].set_visible(False)\n",
        "\n",
        "    # Expected utility plot details\n",
        "    ax_expected.set(title = 'Expected utility', ylim = [-3, 3],\n",
        "                    xticks = [0, 1], xticklabels = ['left', 'right'],\n",
        "                    xlabel = 'action (a)',\n",
        "                    yticks = [])\n",
        "    ax_expected.xaxis.set_ticks_position('bottom')\n",
        "    ax_expected.spines['left'].set_visible(False)\n",
        "    ax_expected.spines['bottom'].set_visible(False)\n",
        "\n",
        "    # show values\n",
        "    ind = np.arange(2)\n",
        "    x,y = np.meshgrid(ind,ind)\n",
        "\n",
        "    for i,j in zip(x.flatten(), y.flatten()):\n",
        "        c = f\"{utility[i,j]:.2f}\"\n",
        "        ax_utility.text(j,i, c, va='center', ha='center', color='black')\n",
        "    for i in ind:\n",
        "        v = prior[i]\n",
        "        c = f\"{v:.2f}\"\n",
        "        ax_prior.text(v+0.2, i, c, va='center', ha='center', color='black')\n",
        "    for i in ind:\n",
        "        v = expected[i]\n",
        "        c = f\"{v:.2f}\"\n",
        "        ax_expected.text(i, 2.5, c, va='center', ha='center', color='black')\n",
        "\n",
        "    return fig\n",
        "\n",
        "\n",
        "def plot_prior_likelihood_utility(ps, p_a_s1, p_a_s0, measurement):\n",
        "    assert 0.0 <= ps <= 1.0\n",
        "    assert 0.0 <= p_a_s1 <= 1.0\n",
        "    assert 0.0 <= p_a_s0 <= 1.0\n",
        "    prior = np.asarray([ps, 1 - ps])\n",
        "    likelihood = np.asarray([[p_a_s1, 1-p_a_s1],[p_a_s0, 1-p_a_s0]])\n",
        "    utility = np.array([[2.0, -3.0], [-2.0, 1.0]])\n",
        "    # expected = np.zeros_like(utility)\n",
        "\n",
        "    if measurement == \"Fish\":\n",
        "        posterior = likelihood[:, 0] * prior\n",
        "    else:\n",
        "        posterior = (likelihood[:, 1] * prior).reshape(-1)\n",
        "    posterior /= np.sum(posterior)\n",
        "    # expected[:, 0] = utility[:, 0] * posterior\n",
        "    # expected[:, 1] = utility[:, 1] * posterior\n",
        "    expected = posterior @ utility\n",
        "\n",
        "    # definitions for the axes\n",
        "    left, width = 0.05, 0.3\n",
        "    bottom, height = 0.05, 0.3\n",
        "    padding = 0.12\n",
        "    small_width = 0.2\n",
        "    left_space = left + small_width + padding\n",
        "    small_padding = 0.05\n",
        "\n",
        "    fig = plt.figure(figsize=(10, 9))\n",
        "\n",
        "    rect_prior = [left, bottom + height + padding, small_width, height]\n",
        "    rect_likelihood = [left_space , bottom + height + padding , width, height]\n",
        "    rect_posterior = [left_space + width + small_padding, bottom + height + padding , small_width, height]\n",
        "\n",
        "    rect_utility = [padding, bottom, width, height]\n",
        "    rect_expected = [padding + width + padding + left, bottom, width, height]\n",
        "\n",
        "    ax_likelihood = fig.add_axes(rect_likelihood)\n",
        "    ax_prior = fig.add_axes(rect_prior, sharey=ax_likelihood)\n",
        "    ax_posterior = fig.add_axes(rect_posterior, sharey=ax_likelihood)\n",
        "    ax_utility = fig.add_axes(rect_utility)\n",
        "    ax_expected = fig.add_axes(rect_expected)\n",
        "\n",
        "    prior_colormap = plt.cm.Blues\n",
        "    posterior_colormap = plt.cm.Greens\n",
        "    expected_colormap = plt.cm.Wistia\n",
        "\n",
        "    # Show posterior probs and marginals\n",
        "    ax_prior.barh(0, prior[0], facecolor = prior_colormap(prior[0]))\n",
        "    ax_prior.barh(1, prior[1], facecolor = prior_colormap(prior[1]))\n",
        "    ax_likelihood.matshow(likelihood, vmin=0., vmax=1., cmap='Reds')\n",
        "    ax_posterior.barh(0, posterior[0], facecolor = posterior_colormap(posterior[0]))\n",
        "    ax_posterior.barh(1, posterior[1], facecolor = posterior_colormap(posterior[1]))\n",
        "    ax_utility.matshow(utility, vmin=0., vmax=1., cmap='cool')\n",
        "    # ax_expected.matshow(expected, vmin=0., vmax=1., cmap='Wistia')\n",
        "    ax_expected.bar(0, expected[0], facecolor = expected_colormap(expected[0]))\n",
        "    ax_expected.bar(1, expected[1], facecolor = expected_colormap(expected[1]))\n",
        "\n",
        "    # Probabilities plot details\n",
        "    ax_prior.set(xlim = [1, 0], yticks = [0, 1], yticklabels = ['left', 'right'],\n",
        "                 title = \"Prior p(s)\", xticks = [])\n",
        "    ax_prior.yaxis.tick_right()\n",
        "    ax_prior.spines['left'].set_visible(False)\n",
        "    ax_prior.spines['bottom'].set_visible(False)\n",
        "\n",
        "    # Likelihood plot details\n",
        "    ax_likelihood.set(xticks = [0, 1], xticklabels = ['fish', 'no fish'],\n",
        "                  yticks = [0, 1], yticklabels = ['left', 'right'],\n",
        "                   ylabel = 'state (s)', xlabel = 'measurement (m)',\n",
        "                   title = 'Likelihood p(m | s)')\n",
        "    ax_likelihood.xaxis.set_ticks_position('bottom')\n",
        "    ax_likelihood.spines['left'].set_visible(False)\n",
        "    ax_likelihood.spines['bottom'].set_visible(False)\n",
        "\n",
        "    # Posterior plot details\n",
        "    ax_posterior.set(xlim = [0, 1], xticks = [], yticks = [0, 1],\n",
        "                     yticklabels = ['left', 'right'], title = \"Posterior p(s | m)\")\n",
        "    ax_posterior.spines['left'].set_visible(False)\n",
        "    ax_posterior.spines['bottom'].set_visible(False)\n",
        "\n",
        "    # Utility plot details\n",
        "    ax_utility.set(xticks = [0, 1], xticklabels = ['left', 'right'],\n",
        "                   xlabel = 'action (a)', yticks = [0, 1], yticklabels = ['left', 'right'],\n",
        "                   title = 'Utility', ylabel = 'state (s)')\n",
        "    ax_utility.xaxis.set_ticks_position('bottom')\n",
        "    ax_utility.spines['left'].set_visible(False)\n",
        "    ax_utility.spines['bottom'].set_visible(False)\n",
        "\n",
        "    # Expected Utility plot details\n",
        "    ax_expected.set(ylim = [-2, 2], xticks = [0, 1], xticklabels = ['left', 'right'],\n",
        "                 xlabel = 'action (a)', title = 'Expected utility', yticks=[])\n",
        "    # ax_expected.axis('off')\n",
        "    ax_expected.spines['left'].set_visible(False)\n",
        "    # ax_expected.set(xticks = [0, 1], xticklabels = ['left', 'right'],\n",
        "    #                 xlabel = 'action (a)',\n",
        "    #                title = 'Expected utility')\n",
        "    # ax_expected.xaxis.set_ticks_position('bottom')\n",
        "    # ax_expected.spines['left'].set_visible(False)\n",
        "    # ax_expected.spines['bottom'].set_visible(False)\n",
        "\n",
        "    # show values\n",
        "    ind = np.arange(2)\n",
        "    x,y = np.meshgrid(ind,ind)\n",
        "    for i in ind:\n",
        "        v = posterior[i]\n",
        "        c = f\"{v:.2f}\"\n",
        "        ax_posterior.text(v+0.2, i, c, va='center', ha='center', color='black')\n",
        "    for i,j in zip(x.flatten(), y.flatten()):\n",
        "        c = f\"{likelihood[i,j]:.2f}\"\n",
        "        ax_likelihood.text(j,i, c, va='center', ha='center', color='black')\n",
        "    for i,j in zip(x.flatten(), y.flatten()):\n",
        "        c = f\"{utility[i,j]:.2f}\"\n",
        "        ax_utility.text(j,i, c, va='center', ha='center', color='black')\n",
        "    # for i,j in zip(x.flatten(), y.flatten()):\n",
        "    #     c = f\"{expected[i,j]:.2f}\"\n",
        "    #     ax_expected.text(j,i, c, va='center', ha='center', color='black')\n",
        "    for i in ind:\n",
        "        v = prior[i]\n",
        "        c = f\"{v:.2f}\"\n",
        "        ax_prior.text(v+0.2, i, c, va='center', ha='center', color='black')\n",
        "    for i in ind:\n",
        "        v = expected[i]\n",
        "        c = f\"{v:.2f}\"\n",
        "        ax_expected.text(i, v, c, va='center', ha='center', color='black')\n",
        "\n",
        "    return fig"
      ],
      "execution_count": 4,
      "outputs": []
    },
    {
      "cell_type": "code",
      "metadata": {
        "cellView": "form",
        "execution": {},
        "id": "Az_K3DYlqEgJ"
      },
      "source": [
        "# @title Helper Functions\n",
        "\n",
        "def compute_marginal(px, py, cor):\n",
        "    \"\"\" Calculate 2x2 joint probabilities given marginals p(x=1), p(y=1) and correlation\n",
        "\n",
        "      Args:\n",
        "        px (scalar): marginal probability of x\n",
        "        py (scalar): marginal probability of y\n",
        "        cor (scalar): correlation value\n",
        "\n",
        "      Returns:\n",
        "        ndarray of size (2, 2): joint probability array of x and y\n",
        "    \"\"\"\n",
        "\n",
        "    p11 = px*py + cor*np.sqrt(px*py*(1-px)*(1-py))\n",
        "    p01 = px - p11\n",
        "    p10 = py - p11\n",
        "    p00 = 1.0 - p11 - p01 - p10\n",
        "\n",
        "    return np.asarray([[p00, p01], [p10, p11]])\n",
        "\n",
        "\n",
        "def compute_cor_range(px,py):\n",
        "    \"\"\" Calculate the allowed range of correlation values given marginals p(x=1)\n",
        "      and p(y=1)\n",
        "\n",
        "    Args:\n",
        "      px (scalar): marginal probability of x\n",
        "      py (scalar): marginal probability of y\n",
        "\n",
        "    Returns:\n",
        "      scalar, scalar: minimum and maximum possible values of correlation\n",
        "    \"\"\"\n",
        "\n",
        "    def p11(corr):\n",
        "        return px*py + corr*np.sqrt(px*py*(1-px)*(1-py))\n",
        "    def p01(corr):\n",
        "        return px - p11(corr)\n",
        "    def p10(corr):\n",
        "        return py - p11(corr)\n",
        "    def p00(corr):\n",
        "        return 1.0 - p11(corr) - p01(corr) - p10(corr)\n",
        "    Cmax = min(fsolve(p01, 0.0), fsolve(p10, 0.0))\n",
        "    Cmin = max(fsolve(p11, 0.0), fsolve(p00, 0.0))\n",
        "    return Cmin, Cmax"
      ],
      "execution_count": 5,
      "outputs": []
    },
    {
      "cell_type": "markdown",
      "metadata": {
        "execution": {},
        "id": "p7YUoE3zqEgK"
      },
      "source": [
        "---\n",
        "# Section 1: Gone Fishin'\n"
      ]
    },
    {
      "cell_type": "code",
      "metadata": {
        "cellView": "form",
        "execution": {},
        "id": "_IXxySMcqEgK",
        "outputId": "11700675-50cd-4a99-f410-d5f74a29bd02",
        "colab": {
          "base_uri": "https://localhost:8080/",
          "height": 581,
          "referenced_widgets": [
            "6da9883809ad466e8af470daab0e210f",
            "000a88f3e983418888fc3e7fcbdaa34f",
            "8e11285168af44d1892f7e35208c03d9",
            "72043f26d5014a9b89493b9875991eef",
            "bfaa81e2f90042a58d04f99d505b9569",
            "b8cbdc542c2f434b99c7e62fd0d50bb6"
          ]
        }
      },
      "source": [
        "# @title Video 2: Gone Fishin'\n",
        "from ipywidgets import widgets\n",
        "\n",
        "out2 = widgets.Output()\n",
        "with out2:\n",
        "  from IPython.display import IFrame\n",
        "  class BiliVideo(IFrame):\n",
        "      def __init__(self, id, page=1, width=400, height=300, **kwargs):\n",
        "          self.id=id\n",
        "          src = 'https://player.bilibili.com/player.html?bvid={0}&page={1}'.format(id, page)\n",
        "          super(BiliVideo, self).__init__(src, width, height, **kwargs)\n",
        "\n",
        "  video = BiliVideo(id=\"BV1TP4y147pJ\", width=854, height=480, fs=1)\n",
        "  print('Video available at https://www.bilibili.com/video/{0}'.format(video.id))\n",
        "  display(video)\n",
        "\n",
        "out1 = widgets.Output()\n",
        "with out1:\n",
        "  from IPython.display import YouTubeVideo\n",
        "  video = YouTubeVideo(id=\"kAdBjWOI_yE\", width=854, height=480, fs=1, rel=0)\n",
        "  print('Video available at https://youtube.com/watch?v=' + video.id)\n",
        "  display(video)\n",
        "\n",
        "out = widgets.Tab([out1, out2])\n",
        "out.set_title(0, 'Youtube')\n",
        "out.set_title(1, 'Bilibili')\n",
        "\n",
        "display(out)"
      ],
      "execution_count": 6,
      "outputs": [
        {
          "output_type": "display_data",
          "data": {
            "application/vnd.jupyter.widget-view+json": {
              "model_id": "6da9883809ad466e8af470daab0e210f",
              "version_minor": 0,
              "version_major": 2
            },
            "text/plain": [
              "Tab(children=(Output(), Output()), _titles={'0': 'Youtube', '1': 'Bilibili'})"
            ]
          },
          "metadata": {
            "tags": []
          }
        }
      ]
    },
    {
      "cell_type": "markdown",
      "metadata": {
        "execution": {},
        "id": "4ZgUiqgFqEgL"
      },
      "source": [
        "This video covers the example problem of fishing that we will cover in this tutorial.\n",
        "\n",
        "<details>\n",
        "<summary> <font color=‘blue’>Click here for text recap of video </font></summary>\n",
        "\n",
        "You were just introduced to the **binary hidden state problem** we are going to explore. You need to decide which side to fish on--the hidden state. We know fish like to school together. On different days the school of fish is either on the left or right side, but we don’t know what the case is today. We define our knowledge about the fish location as a distribution over the random hidden state variable. Using our probabilistic knowledge, also called our **belief** about the hidden state, we will explore how to make the decision about where to fish today, based on what to expect in terms of gains or losses for the decision.\n",
        "The gains and losss are defined by the utility of choosing an action, which is fishing on the left or right. The details of the utilities are described \n",
        "</details>\n",
        "\n",
        "In the next two sections we will consider just the probability of where the fish might be and what you gain or lose by choosing where to fish (leaving Bayesian approaches to the last few sections).\n",
        "\n",
        "Remember, you can either think of your self as a scientist conducting an experiment or as a brain trying to make a decision. The Bayesian approach is the same!\n"
      ]
    },
    {
      "cell_type": "markdown",
      "metadata": {
        "execution": {},
        "id": "wgvAVXz0qEgL"
      },
      "source": [
        "---\n",
        "# Section 2: Deciding where to fish \n",
        "\n",
        "*Estimated timing to here from start of tutorial: 10 min*"
      ]
    },
    {
      "cell_type": "code",
      "metadata": {
        "cellView": "form",
        "execution": {},
        "id": "5NZjxCDhqEgL",
        "outputId": "7fc98557-c11a-4c9a-afa8-3a0ec9823565",
        "colab": {
          "base_uri": "https://localhost:8080/",
          "height": 581,
          "referenced_widgets": [
            "c95574bef6f34196b80d8cf0fdcccfc6",
            "edd3e47a090d48f9b807c1dd8dbabfdf",
            "b20931deaa174e7b8698f8e8217e4037",
            "aa48c66e960a4ff9b8bc612c8199935b",
            "aff0e3d3cf134c17b43dc54d89105d1c",
            "2c4db5ec66b4424789bae49148a7bedd"
          ]
        }
      },
      "source": [
        "# @title Video 3: Utility\n",
        "from ipywidgets import widgets\n",
        "\n",
        "out2 = widgets.Output()\n",
        "with out2:\n",
        "  from IPython.display import IFrame\n",
        "  class BiliVideo(IFrame):\n",
        "      def __init__(self, id, page=1, width=400, height=300, **kwargs):\n",
        "          self.id=id\n",
        "          src = 'https://player.bilibili.com/player.html?bvid={0}&page={1}'.format(id, page)\n",
        "          super(BiliVideo, self).__init__(src, width, height, **kwargs)\n",
        "\n",
        "  video = BiliVideo(id=\"BV1uL411H7ZE\", width=854, height=480, fs=1)\n",
        "  print('Video available at https://www.bilibili.com/video/{0}'.format(video.id))\n",
        "  display(video)\n",
        "\n",
        "out1 = widgets.Output()\n",
        "with out1:\n",
        "  from IPython.display import YouTubeVideo\n",
        "  video = YouTubeVideo(id=\"8-5RM0k3IKE\", width=854, height=480, fs=1, rel=0)\n",
        "  print('Video available at https://youtube.com/watch?v=' + video.id)\n",
        "  display(video)\n",
        "\n",
        "out = widgets.Tab([out1, out2])\n",
        "out.set_title(0, 'Youtube')\n",
        "out.set_title(1, 'Bilibili')\n",
        "\n",
        "display(out)"
      ],
      "execution_count": 7,
      "outputs": [
        {
          "output_type": "display_data",
          "data": {
            "application/vnd.jupyter.widget-view+json": {
              "model_id": "c95574bef6f34196b80d8cf0fdcccfc6",
              "version_minor": 0,
              "version_major": 2
            },
            "text/plain": [
              "Tab(children=(Output(), Output()), _titles={'0': 'Youtube', '1': 'Bilibili'})"
            ]
          },
          "metadata": {
            "tags": []
          }
        }
      ]
    },
    {
      "cell_type": "markdown",
      "metadata": {
        "execution": {},
        "id": "hYQupLk-qEgM"
      },
      "source": [
        "This video covers utility and expected utility.\n",
        "\n",
        "<details>\n",
        "<summary> <font color=‘blue’>Click here for text recap of video </font></summary>\n",
        "\n",
        "You need to decide where to fish. It may seem obvious - you could just fish on the side where the probability of the fish being is higher! Unfortunately, decisions and actions are always a little more complicated. Deciding to fish may be influenced by more than just the probability of the school of fish being there as we saw by the potential issues of submarines and sunburn. The consequences of the action you take is based on the true (but hidden) state of the world and the action you choose! In our example, fishing on the wrong side, where there aren't many fish, is likely to lead to you spending your afternoon not catching fish and therefore getting a sunburn. The submarine represents a risk to fishing on the right side that is greater than the left side. If you want to know what to expect from taking the action of fishing on one side or the other, you need to calculate the expected utility.\n",
        "\n",
        "You know the (prior) probability that the school of fish is on the left side of the dock today, $P(s = \\textrm{left})$. So, you also know the probability the school is on the right, $P(s = \\textrm{right})$, because these two probabilities must add up to 1.\n",
        "\n",
        "We quantify gains and losses numerically using a **utility** function $U(s,a)$, which describes the consequences of your actions: how much value you gain (or if negative, lose) given the state of the world ($s$) and the action you take ($a$). In our example, our utility can be summarized as:\n",
        "\n",
        "| Utility: U(s,a)   | a = left   | a = right  |\n",
        "| ----------------- |------------|------------|\n",
        "| s = Left          | +2         | -3         |\n",
        "| s = right         | -2         | +1         |\n",
        "\n",
        "To use possible gains and losses to choose an action, we calculate the **expected utility** of that action by weighing these utilities with the probability of that state occuring. This allows us to choose actions by taking probabilities of events into account: we don't care if the outcome of an action-state pair is a loss if the probability of that state is very low. We can formalize this as:\n",
        "\n",
        "$$ \\text{Expected utility of action a} = \\sum_{s}U(s,a)P(s) $$\n",
        "\n",
        "In other words, the expected utility of an action a is the sum over possible states of the utility of that action and state times the probability of that state.\n",
        "\n",
        "</details>\n"
      ]
    },
    {
      "cell_type": "markdown",
      "metadata": {
        "execution": {},
        "id": "Tmr6yqTZqEgM"
      },
      "source": [
        "## Interactive Demo 2: Exploring the decision\n",
        "\n",
        "Let's start to get a sense of how all this works using the interactive demo below. You can change the probability that the school of fish is on the left side,$p(s = \\textrm{left})$, using the slider. You will see the utility function (a matrix) in the middle and the corresponding expected utility for each action on the right.\n",
        "\n",
        "First, make sure you understand how the expected utility of each action is being computed from the probabilities and the utility values. In the initial state: the probability of the fish being on the left is 0.9 and on the right is 0.1. The expected utility of the action of fishing on the left is then $U(s = \\textrm{left},a = \\textrm{left})p(s = \\textrm{left}) + U(s = \\textrm{right},a = \\textrm{left})p(s = \\textrm{right}) = 2(0.9) + -2(0.1) = 1.6$. Essentially, to get the expected utility of action $a$, you are doing a weighted sum over the relevant column of the utility matrix (corresponding to action $a$) where the weights are the state probabilities.\n",
        "\n",
        "For each of these scenarios, think and discuss first. Then use the demo to try out each and see if your action would have been correct (that is, if the expected value of that action is the highest).\n",
        "\n",
        "\n",
        "1.  You just arrived at the dock for the first time and have no sense of where the fish might be. So you guess that the probability of the school being on the left side is 0.5 (so the probability on the right side is also 0.5). Which side would you choose to fish on given our utility values?\n",
        "2.  You think that the probability of the school being on the left side is very low (0.1) and correspondingly high on the right side (0.9). Which side would you choose to fish on given our utility values?\n",
        "3.  What would you choose if the probability of the school being on the left side is slightly lower than on the right side (0. 4 vs 0.6)?"
      ]
    },
    {
      "cell_type": "code",
      "metadata": {
        "cellView": "form",
        "execution": {},
        "id": "1tyE0RLVqEgM",
        "outputId": "d96261ff-f18f-41e0-bd7f-8609a93b59da",
        "colab": {
          "base_uri": "https://localhost:8080/",
          "height": 326,
          "referenced_widgets": [
            "a5070ed7fc4842dd814cefa94b547908",
            "513b374bf6f048e289a8642135be5a85",
            "e3d6ddd3bddb4be48e425d9702c2c14b",
            "0680a56fe1a7435e99ab1e55ee3507c6",
            "fc4262e7c6264cb5bfde7656a0ec730f",
            "56a296f065044d30a04ef7b4fe508b4a",
            "7fd7933b91ea4b06a03c3d026d94e07b"
          ]
        }
      },
      "source": [
        "# @markdown Execute this cell to use the widget\n",
        "ps_widget = widgets.FloatSlider(0.9, description='p(s = left)', min=0.0, max=1.0, step=0.01)\n",
        "\n",
        "@widgets.interact(\n",
        "    ps = ps_widget,\n",
        ")\n",
        "def make_utility_plot(ps):\n",
        "    fig = plot_utility(ps)\n",
        "    plt.show(fig)\n",
        "    plt.close(fig)\n",
        "    return None"
      ],
      "execution_count": 8,
      "outputs": [
        {
          "output_type": "display_data",
          "data": {
            "application/vnd.jupyter.widget-view+json": {
              "model_id": "a5070ed7fc4842dd814cefa94b547908",
              "version_minor": 0,
              "version_major": 2
            },
            "text/plain": [
              "interactive(children=(FloatSlider(value=0.9, description='p(s = left)', max=1.0, step=0.01), Output()), _dom_c…"
            ]
          },
          "metadata": {
            "tags": []
          }
        }
      ]
    },
    {
      "cell_type": "code",
      "metadata": {
        "execution": {},
        "id": "CvXB9Qs9qEgM"
      },
      "source": [
        "# to_remove explanation\n",
        "\n",
        "\"\"\"\n",
        "\n",
        "1)  With equal probabilities, the expected utility is higher on the left side,\n",
        "   since that is the side without submarines, so you would choose to fish there.\n",
        "\n",
        "2)  If the probability that the fish is on the right side is high, you would\n",
        "    choose to fish there. The high probability of fish being on the right far outweights\n",
        "   the slightly higher utilities from fishing on the left (as you are unlikely to gain these)\n",
        "\n",
        "3)  If the probability that the fish is on the right side is just slightly higher\n",
        "    than on the left, you would choose the left side as the expected utility is still\n",
        "    higher on the left. Note that in this situation, you are not simply choosing the\n",
        "    side with the higher probability - the utility really matters here for the decision\n",
        "\n",
        "\"\"\""
      ],
      "execution_count": null,
      "outputs": []
    },
    {
      "cell_type": "code",
      "metadata": {
        "cellView": "form",
        "execution": {},
        "id": "C1JpbWd3qEgM",
        "outputId": "10f5cd1b-2cc3-43c2-c27b-fee79e926b48",
        "colab": {
          "base_uri": "https://localhost:8080/",
          "height": 581,
          "referenced_widgets": [
            "8929179576494c25b6611493faa0578c",
            "ad2a31add99d45a183986254f645634d",
            "8cf24bcdb61f441297b6a632b1b03a97",
            "d523dd531ef34c5f8d41dede478fd27d",
            "b203fd109590480daed0e8c7f1eb1532",
            "fa8296369302446891b7141221290483"
          ]
        }
      },
      "source": [
        "# @title Video 4: Utility Demo Discussion\n",
        "from ipywidgets import widgets\n",
        "\n",
        "out2 = widgets.Output()\n",
        "with out2:\n",
        "  from IPython.display import IFrame\n",
        "  class BiliVideo(IFrame):\n",
        "      def __init__(self, id, page=1, width=400, height=300, **kwargs):\n",
        "          self.id=id\n",
        "          src = 'https://player.bilibili.com/player.html?bvid={0}&page={1}'.format(id, page)\n",
        "          super(BiliVideo, self).__init__(src, width, height, **kwargs)\n",
        "\n",
        "  video = BiliVideo(id=\"BV1po4y1D7Fu\", width=854, height=480, fs=1)\n",
        "  print('Video available at https://www.bilibili.com/video/{0}'.format(video.id))\n",
        "  display(video)\n",
        "\n",
        "out1 = widgets.Output()\n",
        "with out1:\n",
        "  from IPython.display import YouTubeVideo\n",
        "  video = YouTubeVideo(id=\"GHQbmsEyQjE\", width=854, height=480, fs=1, rel=0)\n",
        "  print('Video available at https://youtube.com/watch?v=' + video.id)\n",
        "  display(video)\n",
        "\n",
        "out = widgets.Tab([out1, out2])\n",
        "out.set_title(0, 'Youtube')\n",
        "out.set_title(1, 'Bilibili')\n",
        "\n",
        "display(out)"
      ],
      "execution_count": 9,
      "outputs": [
        {
          "output_type": "display_data",
          "data": {
            "application/vnd.jupyter.widget-view+json": {
              "model_id": "8929179576494c25b6611493faa0578c",
              "version_minor": 0,
              "version_major": 2
            },
            "text/plain": [
              "Tab(children=(Output(), Output()), _titles={'0': 'Youtube', '1': 'Bilibili'})"
            ]
          },
          "metadata": {
            "tags": []
          }
        }
      ]
    },
    {
      "cell_type": "markdown",
      "metadata": {
        "execution": {},
        "id": "8rMQot6qqEgN"
      },
      "source": [
        "In this section, you have seen that both the utility of various state and action pairs and our knowledge of the probability of each state affects your decision. Importantly, we want our knowledge of the probability of each state to be as accurate as possible! \n",
        "\n",
        "So how do we know these probabilities? We may have prior knowledge from years of fishing at the same dock, learning that the fish are more likely to be on the left side, for example. Of course, we need to update our knowledge (our belief)! To do this, we need to collect more information, or take some measurements! In the next few sections, we will focus on how we improve our knowledge of the probabilities."
      ]
    },
    {
      "cell_type": "markdown",
      "metadata": {
        "execution": {},
        "id": "ofy_UNlvqEgN"
      },
      "source": [
        "---\n",
        "# Section 3: Likelihood of the fish being on either side\n",
        "\n",
        "*Estimated timing to here from start of tutorial: 25 min*\n",
        " \n"
      ]
    },
    {
      "cell_type": "code",
      "metadata": {
        "cellView": "form",
        "execution": {},
        "id": "OYPvnhTbqEgN",
        "outputId": "873fef12-4ac9-47c4-b2b3-60deee3390a2",
        "colab": {
          "base_uri": "https://localhost:8080/",
          "height": 581,
          "referenced_widgets": [
            "e55ef79cf2bc468cbdaaa3bc6c6f747d",
            "b83acf90b4cc4f25ace47d6742d726fd",
            "1569504179f645228b33298bed430057",
            "8d5b0a4868864e1ab76cf6621e358c82",
            "dda24b3eb0cd4170bffd8b78551661d6",
            "6c533d3f3ff842509d9e8a0658821b80"
          ]
        }
      },
      "source": [
        "# @title Video 5: Likelihood\n",
        "from ipywidgets import widgets\n",
        "\n",
        "out2 = widgets.Output()\n",
        "with out2:\n",
        "  from IPython.display import IFrame\n",
        "  class BiliVideo(IFrame):\n",
        "      def __init__(self, id, page=1, width=400, height=300, **kwargs):\n",
        "          self.id=id\n",
        "          src = 'https://player.bilibili.com/player.html?bvid={0}&page={1}'.format(id, page)\n",
        "          super(BiliVideo, self).__init__(src, width, height, **kwargs)\n",
        "\n",
        "  video = BiliVideo(id=\"BV1EK4y1u7AV\", width=854, height=480, fs=1)\n",
        "  print('Video available at https://www.bilibili.com/video/{0}'.format(video.id))\n",
        "  display(video)\n",
        "\n",
        "out1 = widgets.Output()\n",
        "with out1:\n",
        "  from IPython.display import YouTubeVideo\n",
        "  video = YouTubeVideo(id=\"Yv8MDjdm1l4\", width=854, height=480, fs=1, rel=0)\n",
        "  print('Video available at https://youtube.com/watch?v=' + video.id)\n",
        "  display(video)\n",
        "\n",
        "out = widgets.Tab([out1, out2])\n",
        "out.set_title(0, 'Youtube')\n",
        "out.set_title(1, 'Bilibili')\n",
        "\n",
        "display(out)"
      ],
      "execution_count": 10,
      "outputs": [
        {
          "output_type": "display_data",
          "data": {
            "application/vnd.jupyter.widget-view+json": {
              "model_id": "e55ef79cf2bc468cbdaaa3bc6c6f747d",
              "version_minor": 0,
              "version_major": 2
            },
            "text/plain": [
              "Tab(children=(Output(), Output()), _titles={'0': 'Youtube', '1': 'Bilibili'})"
            ]
          },
          "metadata": {
            "tags": []
          }
        }
      ]
    },
    {
      "cell_type": "markdown",
      "metadata": {
        "execution": {},
        "id": "zL6m1PSBqEgN"
      },
      "source": [
        "\n",
        "<details>\n",
        "<summary> <font color=‘purple’>Click here for text recap of video </font></summary>\n",
        "\n",
        "First, we'll think about what it means to take a measurement (also often called an observation or just data) and what it tells you about what the hidden state may be. Specifically, we'll be looking at the **likelihood**, which is the probability of your measurement ($m$) given the hidden state ($s$): $P(m | s)$. Remember that in this case, the hidden state is which side of the dock the school of fish is on.\n",
        "We will watch someone fish (for let's say 10 minutes) and our measurement is whether they catch a fish or not. We know something about what catching a fish means for the likelihood of the fish being on one side or the other.\n",
        "</details>"
      ]
    },
    {
      "cell_type": "markdown",
      "metadata": {
        "execution": {},
        "id": "e3bOYgyIqEgN"
      },
      "source": [
        "## Think! 3: Guessing the location of the fish\n",
        "\n",
        "Let's say we go to different dock to fish. Here, there are different probabilities of catching fish given the state of the world. At this dock, if you fish on the side of the dock where the fish are, you have a 70% chance of catching a fish. If you fish on the wrong side, you will catch a fish with only 20% probability. These are the likelihoods of observing someone catching a fish! That is, you are taking a measurement by seeing if someone else catches a fish!\n",
        "\n",
        "You see a fisherperson is fishing on the left side.\n",
        "\n",
        "1) Please figure out each of the following (might be easiest to do this separately and then compare notes):\n",
        "- probability of catching a fish given that the school of fish is on the left side, $P(m = \\textrm{catch fish} | s = \\textrm{left} )$\n",
        "- probability of not catching a fish given that the school of fish is on the left side, $P(m = \\textrm{no fish} | s = \\textrm{left})$\n",
        "- probability of catching a fish given that the school of fish is on the right side, $P(m = \\textrm{catch  fish} | s = \\textrm{right})$\n",
        "- probability of not catching a fish given that the school of fish is on the right side, $P(m = \\textrm{no fish} | s = \\textrm{right})$\n",
        "\n",
        "2) If the fisherperson catches a fish, which side would you guess the school is on? Why?\n",
        "\n",
        "3) If the fisherperson does not catch a fish, which side would you guess the school is on? Why?\n"
      ]
    },
    {
      "cell_type": "code",
      "metadata": {
        "execution": {},
        "id": "SVWcmCpuqEgO"
      },
      "source": [
        "# to_remove explanation\n",
        "\n",
        "\"\"\"\n",
        "1) The fisherperson is on the left side so:\n",
        "      - P(m = fish | s = left) = 0.7 because they have a 70% chance of catching\n",
        "        a fish when on the same side as the school\n",
        "      - P(m = no fish | s = left) = 0.3 because the probability of catching a fish\n",
        "        and not catching a fish for a given state must add up to 1 as these\n",
        "        are the only options: 1 - 0.7 = 0.3\n",
        "      - P(m = fish | s = right) = 0.2\n",
        "      - P(m = no fish | s = right) = 0.8\n",
        "\n",
        "2) If the fisherperson catches a fish, you would guess the school of fish is on the\n",
        "    left side. This is because the probability of catching a fish given that the\n",
        "   school is on the left side (0.7) is higher than the probability given that\n",
        "   the school is on the right side (0.2).\n",
        "\n",
        "3) If the fisherperson does not catch a fish, you would guess the school of fish is on the\n",
        "    right side. This is because the probability of not catching a fish given that the\n",
        "   school is on the right side (0.8) is higher than the probability given that\n",
        "   the school is on the right side (0.3).\n",
        "\"\"\""
      ],
      "execution_count": null,
      "outputs": []
    },
    {
      "cell_type": "markdown",
      "metadata": {
        "execution": {},
        "id": "uiK8HGxQqEgO"
      },
      "source": [
        "In the prior exercise, you tried to guess where the school of fish was based on the measurement you took (watching someone fish). You did this by choosing the state (side where you think the fish are) that maximized the probability of the measurement. In other words, you estimated the state by maximizing the likelihood (the side with the highest probability of measurement given state $P(m|s$)). This is called maximum likelihood estimation (MLE) and you've encountered it before during this course, in the [pre-reqs statistics day](https://compneuro.neuromatch.io/tutorials/W0D5_Statistics/student/W0D5_Tutorial2.html#section-2-2-maximum-likelihood) and on [Model Fitting day](https://compneuro.neuromatch.io/tutorials/W1D3_ModelFitting/student/W1D3_Tutorial2.html)!\n",
        "\n",
        "But, what if you had been going to this dock for years and you knew that the fish were almost always on the left side? This should probably affect how you make your estimate -- you would rely less on the single new measurement and more on your prior knowledge. This is the fundemental idea behind Bayesian inference, as we will see later in this tutorial!"
      ]
    },
    {
      "cell_type": "markdown",
      "metadata": {
        "execution": {},
        "id": "cTVHyeN1qEgO"
      },
      "source": [
        "---\n",
        "# Section 4: Correlation and marginalization\n",
        "\n",
        "*Estimated timing to here from start of tutorial: 35 min*\n"
      ]
    },
    {
      "cell_type": "code",
      "metadata": {
        "cellView": "form",
        "execution": {},
        "id": "vIImmMdLqEgO",
        "outputId": "08b50ad0-cfed-4ef0-d3f5-2469fd0c07a6",
        "colab": {
          "base_uri": "https://localhost:8080/",
          "height": 581,
          "referenced_widgets": [
            "44b8febaf27940a18f4d56e7999ddeba",
            "3e7898c1195b4ad1982062eb0ebbe577",
            "efe08e3747d94353a745a3775876e6a0",
            "c9360bb3d73046b787f964e0ea14782a",
            "a60cef06973e4aeab3efefa761708e4c",
            "1b1434e01bb74f51b295dda1c84c683e"
          ]
        }
      },
      "source": [
        "# @title Video 6: Correlation and marginalization\n",
        "from ipywidgets import widgets\n",
        "\n",
        "out2 = widgets.Output()\n",
        "with out2:\n",
        "  from IPython.display import IFrame\n",
        "  class BiliVideo(IFrame):\n",
        "      def __init__(self, id, page=1, width=400, height=300, **kwargs):\n",
        "          self.id=id\n",
        "          src = 'https://player.bilibili.com/player.html?bvid={0}&page={1}'.format(id, page)\n",
        "          super(BiliVideo, self).__init__(src, width, height, **kwargs)\n",
        "\n",
        "  video = BiliVideo(id=\"BV1Zq4y1p7N6\", width=854, height=480, fs=1)\n",
        "  print('Video available at https://www.bilibili.com/video/{0}'.format(video.id))\n",
        "  display(video)\n",
        "\n",
        "out1 = widgets.Output()\n",
        "with out1:\n",
        "  from IPython.display import YouTubeVideo\n",
        "  video = YouTubeVideo(id=\"iprFMHch2_g\", width=854, height=480, fs=1, rel=0)\n",
        "  print('Video available at https://youtube.com/watch?v=' + video.id)\n",
        "  display(video)\n",
        "\n",
        "out = widgets.Tab([out1, out2])\n",
        "out.set_title(0, 'Youtube')\n",
        "out.set_title(1, 'Bilibili')\n",
        "\n",
        "display(out)"
      ],
      "execution_count": 11,
      "outputs": [
        {
          "output_type": "display_data",
          "data": {
            "application/vnd.jupyter.widget-view+json": {
              "model_id": "44b8febaf27940a18f4d56e7999ddeba",
              "version_minor": 0,
              "version_major": 2
            },
            "text/plain": [
              "Tab(children=(Output(), Output()), _titles={'0': 'Youtube', '1': 'Bilibili'})"
            ]
          },
          "metadata": {
            "tags": []
          }
        }
      ]
    },
    {
      "cell_type": "markdown",
      "metadata": {
        "execution": {},
        "id": "kHFt-hpaqEgO"
      },
      "source": [
        "## Section 4.1: Correlation"
      ]
    },
    {
      "cell_type": "markdown",
      "metadata": {
        "execution": {},
        "id": "2h8xUdF8qEgP"
      },
      "source": [
        "In this section, we are going to take a step back for a bit and think more generally about the amount of information shared between two random variables. We want to know how much information you gain when you observe one variable (take a measurement) if you know something about another. We will see that the fundamental concept is the same if we think about two attributes, for example the size and color of the fish, or the prior information and the likelihood.\n"
      ]
    },
    {
      "cell_type": "markdown",
      "metadata": {
        "execution": {},
        "id": "-98T_03HqEgP"
      },
      "source": [
        "### Think! 4.1: Covarying probability distributions\n",
        "\n",
        "The relationship between the marginal probabilities and the joint probabilities is determined by the correlation between the two random variables - a normalized measure of how much the variables covary. We can also think of this as gaining some information about one of the variables when we observe a measurement from the other. We will think about this more formally in Tutorial 2. \n",
        "\n",
        "Here, we want to think about how the correlation between size and color of these fish changes how much information we gain about one attribute based on the other. See Bonus Section 1 for the formula for correlation.\n",
        "\n",
        "Use the widget below and answer the following questions:\n",
        "\n",
        "1. When the correlation is zero, $\\rho = 0$, what does the distribution of size tell you about color?\n",
        "2. Set $\\rho$ to something small. As you change the probability of golden fish, what happens to the ratio of size probabilities? Set $\\rho$ larger (can be negative). Can you explain the pattern of changes in the probabilities of size as you change the probability of golden fish?\n",
        "3. Set the probability of golden fish and of large fish to around 65%. As the correlation goes towards 1, how often will you see silver large fish?\n",
        "4. What is increasing the (absolute) correlation telling you about how likely you are to see one of the properties if you see a fish with the other?\n"
      ]
    },
    {
      "cell_type": "code",
      "metadata": {
        "cellView": "form",
        "execution": {},
        "id": "dqdzh9c3qEgP",
        "outputId": "a2f1d35d-eebb-4f0a-8d2b-cd16bc917e25",
        "colab": {
          "base_uri": "https://localhost:8080/",
          "height": 474,
          "referenced_widgets": [
            "f7ae8ad873b04a4787f48931db8ad2f4",
            "7bba06d23eb54728a87a7c5e2cb706ab",
            "19fd606e6f37476ca3b82a71d10f9d6a",
            "bce4cf2e50ce4350a00093e425e0cfa2",
            "7aec7ed52033476dae5e7e7ef039d44c",
            "017028664ff34d7f8ab9b8e6ddc83dce",
            "810f007132404d8c86db578e496a5a5f",
            "6e5013cb7a7244ea8729155a29ae3ec6",
            "33fbb9f014b745309d6730bd6ed7f95e",
            "bce2ca136e0545de98c46cbd8872f7b4",
            "4c4e1de9658a4e9bb5fb18d52d606c2c",
            "a3a8072c33c446a982af5072a6bf94b2",
            "0c5bd93320444bd6b910fd564d2ac398"
          ]
        }
      },
      "source": [
        "# @markdown Execute this cell to enable the widget\n",
        "style = {'description_width': 'initial'}\n",
        "gs = GridspecLayout(2,2)\n",
        "\n",
        "cor_widget = widgets.FloatSlider(0.0, description='ρ', min=-1, max=1, step=0.01)\n",
        "px_widget = widgets.FloatSlider(0.5, description='p(color=golden)', min=0.01, max=0.99, step=0.01, style=style)\n",
        "py_widget = widgets.FloatSlider(0.5, description='p(size=large)', min=0.01, max=0.99, step=0.01, style=style)\n",
        "gs[0,0] = cor_widget\n",
        "gs[0,1] = px_widget\n",
        "gs[1,0] = py_widget\n",
        "\n",
        "\n",
        "@widgets.interact(\n",
        "    px=px_widget,\n",
        "    py=py_widget,\n",
        "    cor=cor_widget,\n",
        ")\n",
        "def make_corr_plot(px, py, cor):\n",
        "    Cmin, Cmax = compute_cor_range(px, py) #allow correlation values\n",
        "    cor_widget.min, cor_widget.max = Cmin+0.01, Cmax-0.01\n",
        "    if cor_widget.value > Cmax:\n",
        "        cor_widget.value = Cmax\n",
        "    if cor_widget.value < Cmin:\n",
        "        cor_widget.value = Cmin\n",
        "    cor = cor_widget.value\n",
        "    P = compute_marginal(px,py,cor)\n",
        "    # print(P)\n",
        "    fig = plot_joint_probs(P)\n",
        "    plt.show(fig)\n",
        "    plt.close(fig)\n",
        "    return None\n",
        "\n",
        "# gs[1,1] = make_corr_plot()"
      ],
      "execution_count": 12,
      "outputs": [
        {
          "output_type": "display_data",
          "data": {
            "application/vnd.jupyter.widget-view+json": {
              "model_id": "f7ae8ad873b04a4787f48931db8ad2f4",
              "version_minor": 0,
              "version_major": 2
            },
            "text/plain": [
              "interactive(children=(FloatSlider(value=0.5, description='p(color=golden)', layout=Layout(grid_area='widget002…"
            ]
          },
          "metadata": {
            "tags": []
          }
        }
      ]
    },
    {
      "cell_type": "code",
      "metadata": {
        "execution": {},
        "id": "b2v_skuqqEgP"
      },
      "source": [
        "# to_remove explanation\n",
        "\n",
        "\"\"\"\n",
        "1. When the correlation is zero, the two properties are completely independent.\n",
        "   This means you don't gain any information about one variable from observing the other.\n",
        "   Importantly, the marginal distribution of one variable is therefore independent of the other.\n",
        "\n",
        "2. The correlation controls the distribution of probability across the joint probabilty table.\n",
        "   The higher the correlation, the more the probabilities are restricted by the fact that both rows\n",
        "   and columns need to sum to one! While the marginal probabilities show the relative weighting, the\n",
        "   absolute probabilities for one quality will become more dependent on the other as the correlation\n",
        "   goes to 1 or -1.\n",
        "\n",
        "3. The correlation will control how much probabilty mass is located on the diagonals. As the\n",
        "   correlation goes to 1 (or -1), the probability of seeing the one of the two pairings has to goes\n",
        "   towards zero!\n",
        "\n",
        "4. If we think about what information we gain by observing one quality, the intution from (3.) tells\n",
        "   us that we know more (have more information) about the other quality as a function of the correlation.\n",
        "\"\"\""
      ],
      "execution_count": null,
      "outputs": []
    },
    {
      "cell_type": "markdown",
      "metadata": {
        "execution": {},
        "id": "oFi9hDf5qEgP"
      },
      "source": [
        "We have just seen how two random variables can be more or less independent. The more correlated, the less independent, and the more shared information. We also learned that we can marginalize to determine the marginal likelihood of a measurement or to find the marginal probability distribution of two random variables. We are going to now complete our journey towards being fully Bayesian!"
      ]
    },
    {
      "cell_type": "markdown",
      "metadata": {
        "execution": {},
        "id": "H5QCYVhhqEgP"
      },
      "source": [
        "## Section 4.2: Marginalisation"
      ]
    },
    {
      "cell_type": "markdown",
      "metadata": {
        "execution": {},
        "id": "dU7w0QQaqEgQ"
      },
      "source": [
        "\n",
        "<details>\n",
        "<summary> <font color=‘blue’>Click here for text recap of relevant part of video </font></summary>\n",
        "\n",
        "We may want to find the probability of one variable while ignoring another: we will do this by averaging out, or marginalizing, the irrelevant variable.\n",
        "\n",
        "We will think of this in two different ways.\n",
        "\n",
        "In the first math exercise, you will think about the case where you know the joint probabilities of two variables and want to figure out the probability of just one variable. To make this explicit, let's assume that a fish has a color that is either gold or silver (our first variable) and a size that is either small or large (our second). We could write out the the **joint probabilities**: the probability of both specific attributes occuring together. For example, the probability of a fish being small and silver, $P(X = \\textrm{small}, Y = \\textrm{silver})$, is 0.4. The following table summarizes our joint probabilities:\n",
        "\n",
        "| P(X, Y)        | Y = silver  | Y = gold  |\n",
        "| -------------- |-------------|-----------|\n",
        "| X = small      | 0.4         | 0.2       |\n",
        "| X = large      | 0.1         | 0.3       |\n",
        "\n",
        "\n",
        "We want to know what the probability of a fish being small  regardless of color. Since the fish are either silver or gold, this would be the probability of a fish being small and silver plus the probability of a fish being small and gold. This is an example of marginalizing, or averaging out, the variable we are not interested in across the rows or columns.. In math speak: $P(X = \\textrm{small}) = \\sum_y{P(X = \\textrm{small}, Y)}$. This gives us a **marginal probability**, a probability of a variable outcome (in this case size), regardless of the other variables (in this case color).\n",
        "\n",
        "More generally, we can marginalize out a second irrelevant variable $y$ by summing over the relevant joint probabilities:\n",
        "\n",
        "$$p(x) = \\sum_y p(x, y) $$\n",
        "\n",
        "\n",
        "In the second math exercise, you will remove an unknown (the hidden state) to find the marginal probability of a measurement. You will do this by marginalizing out the hidden state. In this case, you know the conditional probabilities of the measurement given state and the probabilities of each state. You can marginalize using:\n",
        "\n",
        "$$p(m) = \\sum_s p(m | s) p(s) $$\n",
        "\n",
        "These two ways of thinking about marginalization (as averaging over joint probabilities or conditioning on some variable) are equivalent because the joint probability of two variables equals the conditional probability of the first given the second times the marginal probability of the second:\n",
        "\n",
        "$$p(x, y) = p(x|y)p(y)$$ \n",
        "\n"
      ]
    },
    {
      "cell_type": "markdown",
      "metadata": {
        "execution": {},
        "id": "MY1cGGkTqEgQ"
      },
      "source": [
        "### Math Exercise 4.2.1: Computing marginal probabilities\n",
        "\n",
        "To understand the information between two variables, let's first consider the joint probabilities over the size and color of the fish.\n",
        "\n",
        "| P(X, Y)        | Y = silver  | Y = gold  |\n",
        "| -------------- |-------------|-----------|\n",
        "| X = small      | 0.4         | 0.2       |\n",
        "| X = large      | 0.1         | 0.3       |\n",
        "\n",
        "Please complete the following math problems to further practice thinking through probabilities:\n",
        "\n",
        "1. Calculate the probability of a fish being silver.\n",
        "2. Calculate the probability of a fish being small, large, silver, or gold.\n",
        "3. Calculate the probability of a fish being small OR gold. (Hint: $P(A\\ \\textrm{or}\\ B) = P(A) + P(B) - P(A\\ \\textrm{and}\\ B)$)\n",
        "\n",
        "**We don't typically have math exercises in NMA but feel it is important for you to really compute this out yourself. Feel free to use the next cell to write out the math if helpful, or use paper and pen. We recommend doing this exercise individually first and then comparing notes and discussing.**\n"
      ]
    },
    {
      "cell_type": "code",
      "metadata": {
        "execution": {},
        "id": "4c1L3mVWqEgQ"
      },
      "source": [
        "\"\"\"\n",
        "\n",
        "Joint probabilities\n",
        "\n",
        "P( X = small, Y = silver) = 0.4\n",
        "P( X = large, Y = silver) = 0.1\n",
        "P( X = small, Y = gold) = 0.2\n",
        "P( X = large, Y = gold) = 0.3\n",
        "\n",
        "\n",
        "1. P(Y = silver) = 0.4 + 0.1 = 0.5\n",
        "\n",
        "2. P(X = small or large, Y = silver or gold) = 0.4 + 0.1 + 0.2 + 0.3 = 1\n",
        "\n",
        "3. P( X = small or Y = gold) = 0.6 + 0.5 - 0.2 = 0.9 \n",
        "\n",
        "\"\"\""
      ],
      "execution_count": null,
      "outputs": []
    },
    {
      "cell_type": "code",
      "metadata": {
        "execution": {},
        "id": "0LTqbcLRqEgQ"
      },
      "source": [
        "# to_remove explanation\n",
        "\n",
        "\"\"\"\n",
        "1. The probability of a fish being silver is the joint probability of it being\n",
        "     small and silver plus the joint probability of it being large and silver:\n",
        "\n",
        "    P(Y = silver) = P(X = small, Y = silver) + P(X = large, Y = silver)\n",
        "                  = 0.4 + 0.1\n",
        "                  = 0.5\n",
        "\n",
        "\n",
        "2. This is all the possibilities as in this scenario, our fish can only be small\n",
        "   or large, silver or gold. So the probability is 1 - the fish has to be at\n",
        "   least one of these.\n",
        "\n",
        "\n",
        "3. First we compute the marginal probabilities\n",
        "   P(X = small) = P(X = small, Y = silver) + P(X = small, Y = gold) = 0.6\n",
        "   P(Y = gold) = P(X = small, Y = gold) + P(X = large, Y = gold) = 0.5\n",
        "\n",
        "   We already know the joint probability: P(X = small, Y = gold) = 0.2\n",
        "\n",
        "   We can now use the given formula:\n",
        "   P( X = small or Y = gold) = P(X = small) + P(Y = gold) - P(X = small, Y = gold)\n",
        "                             = 0.6 + 0.5 - 0.2\n",
        "                             = 0.9\n",
        "\n",
        "\"\"\""
      ],
      "execution_count": null,
      "outputs": []
    },
    {
      "cell_type": "markdown",
      "metadata": {
        "execution": {},
        "id": "FrNfzPtcqEgQ"
      },
      "source": [
        "### Math Exercise 4.2.2: Computing marginal likelihood\n",
        "\n",
        "When we normalize to find the posterior, we need to determine the marinal likelihood--or evidence--for the measurement we observed. To do this, we need to marginalize as we just did above to find the probabilities of a color or size. Only, in this case, we are marginalizing to remove a conditioning variable! In this case, let's consider the likelihood of fish (if we observed a fisherperson fishing on the **right**).\n",
        "\n",
        "| p(m\\|s)       | m = fish | m = no fish  |\n",
        "| ------------ | ---------- | -------------- |\n",
        "| s = left     | 0.1      | 0.9          |\n",
        "| s = right    | 0.5      | 0.5          |\n",
        "\n",
        "\n",
        "The table above shows us the **likelihoods**, just as we explored earlier.\n",
        "\n",
        "You want to know the total probability of a fish being caught, $P(m = \\textrm{fish})$, by the fisherperson fishing on the right. (You would need this to calcualate the posterior.) To do this, you will need to consider the prior probability, $p(s)$, and marginalize over the hidden states!\n",
        "\n",
        "This is an example of marginalizing, or conditioning away, the variable we are not interested in as well.\n",
        "\n",
        "Please complete the following math problems to further practice thinking through probabilities:\n",
        "\n",
        "1. Calculate the marginal likelihood of the fish being caught, $P(m = \\textrm{fish})$, if the priors are: $p(s = \\textrm{left}) = 0.3$ and $p(s = \\textrm{right}) = 0.7$.\n",
        "2. Calculate the marginal likelihood of the fish being caught,  $P(m = \\textrm{fish})$, if the priors are: $p(s = \\textrm{left}) = 0.6$ and $p(s = \\textrm{right}) = 0.4$.\n",
        "\n",
        "**We don't typically have math exercises in NMA but feel it is important for you to really compute this out yourself. Feel free to use the next cell to write out the math if helpful, or use paper and pen. We recommend doing this exercise individually first and then comparing notes and discussing.**\n"
      ]
    },
    {
      "cell_type": "code",
      "metadata": {
        "execution": {},
        "id": "FNo45rASqEgQ"
      },
      "source": [
        "\"\"\"\n",
        "\n",
        "Priors\n",
        "P(s = left) = 0.3\n",
        "P(s = right) = 0.7\n",
        "\n",
        "Likelihoods\n",
        "P(m = fish | s = left) = 0.1\n",
        "P(m = fish | s = right) = 0.5\n",
        "P(m = no fish | s = left) = 0.9\n",
        "P(m = no fish | s = right) = 0.5\n",
        "\n",
        "1. P(m = fish) = 0.1 * 0.3 + 0.5 * 0.7 = 0.38 \n",
        "\n",
        "2. P(m = fish) = 0.1 * 0.6 + 0.5 * 0.4 = 0.26 \n",
        "\n",
        "\"\"\""
      ],
      "execution_count": null,
      "outputs": []
    },
    {
      "cell_type": "code",
      "metadata": {
        "execution": {},
        "id": "3bn2qES3qEgR"
      },
      "source": [
        "# to_remove explanation\n",
        "\n",
        "\"\"\"\n",
        "\n",
        "1. The marginal likelihood (evidence) is\n",
        "\n",
        "    P(m = fish) = P(m = fish, s = left) + P(m = fish, s = right)\n",
        "                = P(m = fish, s = left)P(s = left) + P(m = fish, s = right)P(s = right)\n",
        "                = 0.1 * 0.3 + .5 * .7\n",
        "            = 0.38\n",
        "\n",
        "\n",
        "2. The marginal likelihood (evidence) is\n",
        "\n",
        "    P(m = fish) = P(m = fish, s = left) + P(m = fish, s = right)\n",
        "                = P(m = fish, s = left)P(s = left) + P(m = fish, s = right)P(s = right)\n",
        "                = 0.1 * 0.6 + .5 * .4\n",
        "                = 0.26\n",
        "\"\"\""
      ],
      "execution_count": null,
      "outputs": []
    },
    {
      "cell_type": "markdown",
      "metadata": {
        "execution": {},
        "id": "gxeVrb2XqEgR"
      },
      "source": [
        "---\n",
        "# Section 5: Bayes' Rule and the Posterior\n",
        "\n",
        "*Estimated timing to here from start of tutorial: 55 min*"
      ]
    },
    {
      "cell_type": "code",
      "metadata": {
        "cellView": "form",
        "execution": {},
        "id": "gWGnJAK6qEgR",
        "outputId": "a6a5a431-754a-4e0c-99ef-9e7e4921716f",
        "colab": {
          "base_uri": "https://localhost:8080/",
          "height": 581,
          "referenced_widgets": [
            "0bf1b82489d547a99a721c462862ee6a",
            "1bc68e78e6e649abb4ce6bfcafc62a72",
            "782f7db762eb40bb8c67d1dc1149caaa",
            "8bb0750a94934be9ad3306c0e6c81a0b",
            "1ebf4660b96d40a385b043303cca93a1",
            "04855ccc2304446ea59a7ea9821532b6"
          ]
        }
      },
      "source": [
        "# @title Video 7: Posterior Beliefs\n",
        "from ipywidgets import widgets\n",
        "\n",
        "out2 = widgets.Output()\n",
        "with out2:\n",
        "  from IPython.display import IFrame\n",
        "  class BiliVideo(IFrame):\n",
        "      def __init__(self, id, page=1, width=400, height=300, **kwargs):\n",
        "          self.id=id\n",
        "          src = 'https://player.bilibili.com/player.html?bvid={0}&page={1}'.format(id, page)\n",
        "          super(BiliVideo, self).__init__(src, width, height, **kwargs)\n",
        "\n",
        "  video = BiliVideo(id=\"BV1fK4y1M7EC\", width=854, height=480, fs=1)\n",
        "  print('Video available at https://www.bilibili.com/video/{0}'.format(video.id))\n",
        "  display(video)\n",
        "\n",
        "out1 = widgets.Output()\n",
        "with out1:\n",
        "  from IPython.display import YouTubeVideo\n",
        "  video = YouTubeVideo(id=\"cOAJQ4utwD0\", width=854, height=480, fs=1, rel=0)\n",
        "  print('Video available at https://youtube.com/watch?v=' + video.id)\n",
        "  display(video)\n",
        "\n",
        "out = widgets.Tab([out1, out2])\n",
        "out.set_title(0, 'Youtube')\n",
        "out.set_title(1, 'Bilibili')\n",
        "\n",
        "display(out)"
      ],
      "execution_count": 13,
      "outputs": [
        {
          "output_type": "display_data",
          "data": {
            "application/vnd.jupyter.widget-view+json": {
              "model_id": "0bf1b82489d547a99a721c462862ee6a",
              "version_minor": 0,
              "version_major": 2
            },
            "text/plain": [
              "Tab(children=(Output(), Output()), _titles={'0': 'Youtube', '1': 'Bilibili'})"
            ]
          },
          "metadata": {
            "tags": []
          }
        }
      ]
    },
    {
      "cell_type": "markdown",
      "metadata": {
        "execution": {},
        "id": "RbawGLrQqEgR"
      },
      "source": [
        "Marginalization is going to be used to combine our prior knowlege, which we call the **prior**, and our new information from a measurement, the **likelihood**. Only in this case, the information we gain about the hidden state we are interested in, where the fish are, is based on the relationship between the probabilities of the measurement and our prior. \n",
        "\n",
        "We can now calculate the full posterior distribution for the hidden state ($s$) using Bayes' Rule. As we've seen, the posterior is proportional the the prior times the likelihood. This means that the posterior probability of the hidden state ($s$) given a measurement ($m$) is proportional to the likelihood of the measurement given the state times the prior probability of that state:\n",
        "\n",
        "$$ P(s | m) \\propto P(m | s) P(s)  $$\n",
        "\n",
        "We say proportional to instead of equal because we need to normalize to produce a full probability distribution:\n",
        "\n",
        "$$ P(s | m) = \\frac{P(m | s) P(s)}{P(m)}  $$\n",
        "\n",
        "Normalizing by this $P(m)$ means that our posterior is a complete probability distribution that sums or integrates to 1 appropriately. We now can use this new, complete probability distribution for any future inference or decisions we like! In fact, as we will see tomorrow, we can use it as a new prior! Finally, we often call this probability distribution our beliefs over the hidden states, to emphasize that it is our subjective knowlege about the hidden state.\n",
        "\n",
        "For many complicated cases, like those we might be using to model behavioral or brain inferences, the normalization term can be intractable or extremely complex to calculate. We can be careful to choose probability distributions were we can analytically calculate the posterior probability or numerical approximation is reliable. Better yet, we sometimes don't need to bother with this normalization! The normalization term, $P(m)$, is the probability of the measurement. This does not depend on state so is essentially a constant we can often ignore. We can compare the unnormalized posterior distribution values for different states because how they relate to each other is unchanged when divided by the same constant. We will see how to do this to compare evidence for different hypotheses tomorrow. (It's also used to compare the likelihood of models fit using maximum likelihood estimation)\n",
        "\n",
        "In this relatively simple example, we can compute the marginal likelihood $P(m)$ easily by using:\n",
        "$$P(m) = \\sum_s P(m | s) P(s)$$\n",
        "We can then normalize so that we deal with the full posterior distribution.\n",
        "\n"
      ]
    },
    {
      "cell_type": "markdown",
      "metadata": {
        "execution": {},
        "id": "kD1vHUZUqEgR"
      },
      "source": [
        "## Math Exercise 5: Calculating a posterior probability\n",
        "\n",
        "Our prior is $p(s = \\textrm{left}) = 0.3$ and $p(s = \\textrm{right}) = 0.7$. In the video, we learned that the chance of catching a fish given they fish on the same side as the school was 50%. Otherwise, it was 10%. We observe a person fishing on the left side. Our likelihood is: \n",
        "\n",
        "\n",
        "| Likelihood: p(m \\| s) | m = fish   | m = no fish  |\n",
        "| ----------------- |----------|----------|\n",
        "| s = left          | 0.5          | 0.5         |\n",
        "| s = right         | 0.1        |  0.9       |\n",
        "\n",
        "\n",
        "Calculate the posterior probability (on paper) that:\n",
        "\n",
        "1. The school is on the left if the fisherperson catches a fish: $p(s = \\textrm{left} | m = \\textrm{fish})$ (hint: normalize by computing $p(m = \\textrm{fish})$)\n",
        "2. The school is on the right if the fisherperson does not catch a fish: $p(s = \\textrm{right} | m = \\textrm{no fish})$\n",
        "\n",
        "**We don't typically have math exercises in NMA but feel it is important for you to really compute this out yourself. Feel free to use the next cell to write out the math if helpful, or use paper and pen. We recommend doing this exercise individually first and then comparing notes and discussing.**"
      ]
    },
    {
      "cell_type": "code",
      "metadata": {
        "execution": {},
        "id": "AXW2v_7UqEgS"
      },
      "source": [
        "\"\"\"\n",
        "Priors\n",
        "p(s = left) = 0.3\n",
        "p(s = right) = 0.7\n",
        "\n",
        "Likelihoods\n",
        "P(m = fish | s = left) = 0.5\n",
        "P(m = fish | s = right) = 0.1\n",
        "P(m = no fish | s = left) = 0.5\n",
        "P(m = no fish | s = right) = 0.9\n",
        "\n",
        "1. p( s = left | m = fish) = 0.5 * 0.3 + 0.1* 0.7 = 0.22 ; 0.5*0.3/0.22 = 0.68 \n",
        "2. p( s = right | m = no fish ) = 0.5 * 0.3 + 0.9 * 0.7 = 0.78 ; 0.9 * 0.7 / 0.78 = 0.81\n",
        "\n",
        "\"\"\""
      ],
      "execution_count": null,
      "outputs": []
    },
    {
      "cell_type": "code",
      "metadata": {
        "execution": {},
        "id": "Bz8wEymAqEgS"
      },
      "source": [
        "# to_remove explanation\n",
        "\n",
        "\"\"\"\n",
        "1. Using Bayes rule, we know that P(s = left | m = fish) = P(m = fish | s = left)P(s = left) / P(m = fish)\n",
        "\n",
        "   Let's first compute P(m = fish):\n",
        "   P(m = fish) =  P(m = fish | s = left)P(s = left) +  P(m = fish | s = right)P(s = right)\n",
        "               = 0.5 * 0.3 + .1 * .7\n",
        "               = 0.22\n",
        "\n",
        "   Now we can plug in all parts of Bayes rule:\n",
        "   P(s = left | m = fish) = P(m = fish | s = left)P(s = left) / P(m = fish)\n",
        "                          = 0.5 * 0.3 / 0.22\n",
        "                          = 0.68\n",
        "\n",
        "2. Using Bayes rule, we know that P(s = right | m = no fish) = P(m = no fish | s = right)P(s = right) / P(m = no fish)\n",
        "\n",
        "   Let's first compute P(m = no fish):\n",
        "   P(m = no fish) = P(m = no fish | s = left)P(s = left) +  P(m = no fish | s = right)P(s = right)\n",
        "                  = 0.5 * 0.3 + .9 * .7\n",
        "                  = 0.78\n",
        "\n",
        "   Now we can plug in all parts of Bayes rule:\n",
        "   P(s = right | m = no fish) = P(m = no fish | s = right)P(s = right) / P(m = no fish)\n",
        "                              = 0.9 * 0.7 / 0.78\n",
        "                              = 0.81\n",
        "\"\"\""
      ],
      "execution_count": null,
      "outputs": []
    },
    {
      "cell_type": "markdown",
      "metadata": {
        "execution": {},
        "id": "q9FeJ7fPqEgS"
      },
      "source": [
        "## Coding Exercise 5: Computing Posteriors\n",
        "\n",
        "Let's implement our above math to be able to compute posteriors for different priors and likelihoods.\n",
        "\n",
        "As before, our prior is $p(s = \\textrm{left}) = 0.3$ and $p(s = \\textrm{right}) = 0.7$. In the video, we learned that the chance of catching a fish given they fish on the same side as the school was 50%. Otherwise, it was 10%. We observe a person fishing on the left side. Our likelihood is: \n",
        "\n",
        "\n",
        "| Likelihood: p(m \\| s) | m = fish   | m = no fish  |\n",
        "| ----------------- |----------|----------|\n",
        "| s = left          | 0.5          | 0.5         |\n",
        "| s = right         | 0.1        |  0.9       |\n",
        "\n",
        "\n",
        "We want our full posterior to take the same 2 by 2 form. Make sure the outputs match your math answers!\n",
        "\n"
      ]
    },
    {
      "cell_type": "code",
      "metadata": {
        "execution": {},
        "id": "r5PlUitMqEgS",
        "outputId": "5e3a022c-4f90-49c1-af5e-f84b348870a7",
        "colab": {
          "base_uri": "https://localhost:8080/",
          "height": 362
        }
      },
      "source": [
        "def compute_posterior(likelihood, prior):\n",
        "  \"\"\" Use Bayes' Rule to compute posterior from likelihood and prior\n",
        "\n",
        "  Args:\n",
        "    likelihood (ndarray): i x j array with likelihood probabilities where i is\n",
        "                    number of state options, j is number of measurement options\n",
        "    prior (ndarray): i x 1 array with prior probability of each state\n",
        "\n",
        "  Returns:\n",
        "    ndarray: i x j array with posterior probabilities where i is\n",
        "            number of state options, j is number of measurement options\n",
        "\n",
        "  \"\"\"\n",
        "\n",
        "  #################################################\n",
        "  ## TODO for students ##\n",
        "  # Fill out function and remove\n",
        "  #raise NotImplementedError(\"Student exercise: implement compute_posterior\")\n",
        "  #################################################\n",
        "\n",
        "  # Compute unnormalized posterior (likelihood times prior)\n",
        "  posterior = likelihood * prior # first row is s = left, second row is s = right\n",
        "\n",
        "  # Compute p(m)\n",
        "  p_m = np.sum(posterior, axis = 0)\n",
        "\n",
        "  # Normalize posterior (divide elements by p_m)\n",
        "  posterior /= p_m\n",
        "\n",
        "  return posterior\n",
        "\n",
        "\n",
        "# Make prior\n",
        "prior = np.array([0.3, 0.7]).reshape((2, 1)) # first row is s = left, second row is s = right\n",
        "\n",
        "# Make likelihood\n",
        "likelihood = np.array([[0.5, 0.5], [0.1, 0.9]]) # first row is s = left, second row is s = right\n",
        "\n",
        "# Compute posterior\n",
        "posterior = compute_posterior(likelihood, prior)\n",
        "\n",
        "# Visualize\n",
        "plot_prior_likelihood_posterior(prior, likelihood, posterior)"
      ],
      "execution_count": 16,
      "outputs": [
        {
          "output_type": "display_data",
          "data": {
            "image/png": "[encoded data removed]",
            "text/plain": [
              "<Figure size 864x288 with 3 Axes>"
            ]
          },
          "metadata": {
            "tags": [],
            "image/png": {
              "width": 834,
              "height": 345
            },
            "needs_background": "light"
          }
        }
      ]
    },
    {
      "cell_type": "code",
      "metadata": {
        "execution": {},
        "id": "s2UdMi1VqEgS",
        "outputId": "2da6df4d-b2f8-411a-ac51-98641b9cdbf1",
        "colab": {
          "base_uri": "https://localhost:8080/",
          "height": 357
        }
      },
      "source": [
        "# to_remove solution\n",
        "\n",
        "def compute_posterior(likelihood, prior):\n",
        "  \"\"\" Use Bayes' Rule to compute posterior from likelihood and prior\n",
        "\n",
        "  Args:\n",
        "    likelihood (ndarray): i x j array with likelihood probabilities where i is\n",
        "                    number of state options, j is number of measurement options\n",
        "    prior (ndarray): i x 1 array with prior probability of each state\n",
        "\n",
        "  Returns:\n",
        "    ndarray: i x j array with posterior probabilities where i is\n",
        "            number of state options, j is number of measurement options\n",
        "\n",
        "  \"\"\"\n",
        "\n",
        "  # Compute unnormalized posterior (likelihood times prior)\n",
        "  posterior = likelihood * prior # first row is s = left, second row is s = right\n",
        "\n",
        "  # Compute p(m)\n",
        "  p_m = np.sum(posterior, axis = 0)\n",
        "\n",
        "  # Normalize posterior (divide elements by p_m)\n",
        "  posterior /= p_m\n",
        "\n",
        "  return posterior\n",
        "\n",
        "\n",
        "# Make prior\n",
        "prior = np.array([0.3, 0.7]).reshape((2, 1)) # first row is s = left, second row is s = right\n",
        "\n",
        "# Make likelihood\n",
        "likelihood = np.array([[0.5, 0.5], [0.1, 0.9]]) # first row is s = left, second row is s = right\n",
        "\n",
        "# Compute posterior\n",
        "posterior = compute_posterior(likelihood, prior)\n",
        "\n",
        "# Visualize\n",
        "with plt.xkcd():\n",
        "  plot_prior_likelihood_posterior(prior, likelihood, posterior)"
      ],
      "execution_count": 15,
      "outputs": [
        {
          "output_type": "display_data",
          "data": {
            "image/png": "[encoded data removed]",
            "text/plain": [
              "<Figure size 864x288 with 3 Axes>"
            ]
          },
          "metadata": {
            "tags": [],
            "image/png": {
              "width": 831,
              "height": 340
            }
          }
        }
      ]
    },
    {
      "cell_type": "markdown",
      "metadata": {
        "execution": {},
        "id": "H6FbbOFWqEgS"
      },
      "source": [
        "## Interactive Demo 5: What affects the posterior?\n",
        "\n",
        "Now that we can understand the implementation of *Bayes rule*, let's vary the parameters of the prior and likelihood to see how changing the prior and likelihood affect the posterior. \n",
        "\n",
        "In the demo below, you can change the prior by playing with the slider for $p( s = left)$. You can also change the likelihood by changing the probability of catching a fish given that the school is on the left and the probability of catching a fish given that the school is on the right. The fisherperson you are observing is fishing on the left.\n",
        " \n",
        "\n",
        "1.   Keeping the likelihood constant, when does the prior have the strongest influence over the posterior? Meaning, when does the posterior look most like the prior no matter whether a fish was caught or not?\n",
        "2.   What happens if the likelihoods for catching a fish are similar when you fish on the correct or incorrect side?\n",
        "3.  Set the prior probability of the state = left to 0.6 and play with the likelihood. When does the likelihood exert the most influence over the posterior?"
      ]
    },
    {
      "cell_type": "code",
      "metadata": {
        "cellView": "form",
        "execution": {},
        "id": "QwJo-9IRqEgT",
        "outputId": "709e7aa2-7336-4609-9d0b-fd1ced1f5217",
        "colab": {
          "base_uri": "https://localhost:8080/",
          "height": 458,
          "referenced_widgets": [
            "ea061f67ed644c6ca26e175737a1edac",
            "79782083d2b145819a38b4a7fef27fa9",
            "0be3d849675f46e49fe82e7e918fa984",
            "afa93e627a224049a7aa7b084973d9c1",
            "0ff3d2a74b68491a857f795db3b6ebcf",
            "fe6f8f42c068458a85b681593b62a9df",
            "b19e3d853bef441b9bf4005157d77a12",
            "d42b897d6f164e07ab8823bacca26f62",
            "a0147dcfecad45599181829ce228935c",
            "8d5d558c48fd46e3ad4894d0141abcc0",
            "0874ec935b7c435e906cf52ff2aed8fc",
            "e5a1994bc9db444a8d7aa43ab346ad89",
            "99665c30ee67465dbd43e270becc92d4",
            "43e823962fec4b178ad8e3ee93f904fa",
            "bcc0b4c24782410e86f85a3b81b7d81b",
            "a4a97a448c1a4fec982ac484b9ea7bf7",
            "a3975cf7e44246f1a8b5b0c94163ff19",
            "6a1e9699e52d46d28b5038f71cb3d797"
          ]
        }
      },
      "source": [
        "# @markdown Execute this cell to enable the widget\n",
        "# style = {'description_width': 'initial'}\n",
        "ps_widget = widgets.FloatSlider(0.3, description='p(s = left)',\n",
        "                                min=0.01, max=0.99, step=0.01)\n",
        "p_a_s1_widget = widgets.FloatSlider(0.5, description='p(fish on left | state = left)',\n",
        "                                    min=0.01, max=0.99, step=0.01, style=style, layout=Layout(width='370px'))\n",
        "p_a_s0_widget = widgets.FloatSlider(0.1, description='p(fish on left | state = right)',\n",
        "                                    min=0.01, max=0.99, step=0.01, style=style, layout=Layout(width='370px'))\n",
        "# observed_widget = widgets.Checkbox(value=False, description='Observed fish (m)',\n",
        "#                                  disabled=False, indent=False,\n",
        "#                                  layout=Layout(display=\"flex\", justify_content=\"center\"))\n",
        "\n",
        "observed_widget = ToggleButtons(options=['Fish', 'No Fish'],\n",
        "    description='Observation (m) on the left:', disabled=False, button_style='',\n",
        "    layout=Layout(width='auto', display=\"flex\"),\n",
        "    style={'description_width': 'initial'}\n",
        ")\n",
        "\n",
        "widget_ui = VBox([ps_widget,\n",
        "                  HBox([p_a_s1_widget, p_a_s0_widget]),\n",
        "                  observed_widget])\n",
        "widget_out = interactive_output(plot_prior_likelihood,\n",
        "                                {'ps': ps_widget,\n",
        "                                'p_a_s1': p_a_s1_widget,\n",
        "                                'p_a_s0': p_a_s0_widget,\n",
        "                                'measurement': observed_widget})\n",
        "display(widget_ui, widget_out)\n",
        "\n",
        "# @widgets.interact(\n",
        "#     ps=ps_widget,\n",
        "#     p_a_s1=p_a_s1_widget,\n",
        "#     p_a_s0=p_a_s0_widget,\n",
        "#     m_right=observed_widget\n",
        "# )\n",
        "# def make_prior_likelihood_plot(ps,p_a_s1,p_a_s0,m_right):\n",
        "#     fig = plot_prior_likelihood(ps,p_a_s1,p_a_s0,m_right)\n",
        "#     plt.show(fig)\n",
        "#     plt.close(fig)\n",
        "#     return None"
      ],
      "execution_count": 17,
      "outputs": [
        {
          "output_type": "display_data",
          "data": {
            "application/vnd.jupyter.widget-view+json": {
              "model_id": "ea061f67ed644c6ca26e175737a1edac",
              "version_minor": 0,
              "version_major": 2
            },
            "text/plain": [
              "VBox(children=(FloatSlider(value=0.3, description='p(s = left)', max=0.99, min=0.01, step=0.01), HBox(children…"
            ]
          },
          "metadata": {
            "tags": []
          }
        },
        {
          "output_type": "display_data",
          "data": {
            "application/vnd.jupyter.widget-view+json": {
              "model_id": "a3975cf7e44246f1a8b5b0c94163ff19",
              "version_minor": 0,
              "version_major": 2
            },
            "text/plain": [
              "Output()"
            ]
          },
          "metadata": {
            "tags": []
          }
        }
      ]
    },
    {
      "cell_type": "code",
      "metadata": {
        "execution": {},
        "id": "5qFZzkZZqEgT"
      },
      "source": [
        "# to_remove explanation\n",
        "\n",
        "\"\"\"\n",
        "1)  The prior exerts a strong influence over the posterior when it is very informative: when\n",
        "    the probability of the school being on one side or the other. If the prior that the fish are\n",
        "    on the left side is very high (like 0.9), the posterior probability of the state being left is\n",
        "    high regardless of the measurement.\n",
        "\n",
        "2)  When the likelihoods are similar, the information gained from catching a fish or not is less informative.\n",
        "    Intuitively, if you were about as likely to catch a fish regardless of the true location, then catching a fish\n",
        "    doesn't tell you very much! The differences between the likelihoods is a way of thinking about how much information\n",
        "    we can gain. You can try to figure out why, as we've given you all the clues...\n",
        "\n",
        "3)  Similarly to the prior, the likelihood exerts the most influence when it is informative: when catching\n",
        "    a fish tells you a lot of information about which state is likely. For example, if the probability of the\n",
        "    fisherperson catching a fish if he is fishing on the right side and the school is on the left is 0\n",
        "    (p fish | s = left) = 0 and the probability of catching a fish if the school is on the right is 1, the\n",
        "     prior does not affect the posterior at all. The measurement tells you the hidden state completely.\n",
        "\"\"\""
      ],
      "execution_count": null,
      "outputs": []
    },
    {
      "cell_type": "code",
      "metadata": {
        "cellView": "form",
        "execution": {},
        "id": "pH7xojV6qEgT",
        "outputId": "bbe0d44e-2dd6-41f6-c4be-c09b95a44ba0",
        "colab": {
          "base_uri": "https://localhost:8080/",
          "height": 581,
          "referenced_widgets": [
            "fb66ae386fe7482597214e4ea0774c3d",
            "60a9dc93ca9d4b20a9379920b8bb54f1",
            "dbacc057019949f19bc8f790f0d15e42",
            "645773952c3e478eb23136c8b9b2b431",
            "b280395502a94631a2c83a9b888550c2",
            "948c744c1429445caf2738c80976ecbe"
          ]
        }
      },
      "source": [
        "# @title Video 8: Posterior Beliefs Exercises Discussion\n",
        "from ipywidgets import widgets\n",
        "\n",
        "out2 = widgets.Output()\n",
        "with out2:\n",
        "  from IPython.display import IFrame\n",
        "  class BiliVideo(IFrame):\n",
        "      def __init__(self, id, page=1, width=400, height=300, **kwargs):\n",
        "          self.id=id\n",
        "          src = 'https://player.bilibili.com/player.html?bvid={0}&page={1}'.format(id, page)\n",
        "          super(BiliVideo, self).__init__(src, width, height, **kwargs)\n",
        "\n",
        "  video = BiliVideo(id=\"BV1TU4y1G7SM\", width=854, height=480, fs=1)\n",
        "  print('Video available at https://www.bilibili.com/video/{0}'.format(video.id))\n",
        "  display(video)\n",
        "\n",
        "out1 = widgets.Output()\n",
        "with out1:\n",
        "  from IPython.display import YouTubeVideo\n",
        "  video = YouTubeVideo(id=\"YPQgLVolvBs\", width=854, height=480, fs=1, rel=0)\n",
        "  print('Video available at https://youtube.com/watch?v=' + video.id)\n",
        "  display(video)\n",
        "\n",
        "out = widgets.Tab([out1, out2])\n",
        "out.set_title(0, 'Youtube')\n",
        "out.set_title(1, 'Bilibili')\n",
        "\n",
        "display(out)"
      ],
      "execution_count": 18,
      "outputs": [
        {
          "output_type": "display_data",
          "data": {
            "application/vnd.jupyter.widget-view+json": {
              "model_id": "fb66ae386fe7482597214e4ea0774c3d",
              "version_minor": 0,
              "version_major": 2
            },
            "text/plain": [
              "Tab(children=(Output(), Output()), _titles={'0': 'Youtube', '1': 'Bilibili'})"
            ]
          },
          "metadata": {
            "tags": []
          }
        }
      ]
    },
    {
      "cell_type": "markdown",
      "metadata": {
        "execution": {},
        "id": "0iUmyrMnqEgT"
      },
      "source": [
        "# Section 6: Making Bayesian fishing decisions\n",
        "\n",
        "*Estimated timing to here from start of tutorial: 1 hr, 15 min*"
      ]
    },
    {
      "cell_type": "code",
      "metadata": {
        "cellView": "form",
        "execution": {},
        "id": "x2q5zW11qEgT",
        "outputId": "4f8bc684-952a-4084-b9b2-513f3cfde8d2",
        "colab": {
          "base_uri": "https://localhost:8080/",
          "height": 581,
          "referenced_widgets": [
            "80713765d11f45ddabca074ff0d612d4",
            "c4b694f692c5447b80c57b0927a66043",
            "897fc99ea9e844068d02f9bcc8eb6b47",
            "9fda6f19391c44fa8ce4620331f9caa1",
            "1441c37fcb3247679ca05e7017a3bb64",
            "5f7c21084ced4329a5b43a8e92407c13"
          ]
        }
      },
      "source": [
        "# @title Video 9: Bayesian Decisions\n",
        "from ipywidgets import widgets\n",
        "\n",
        "out2 = widgets.Output()\n",
        "with out2:\n",
        "  from IPython.display import IFrame\n",
        "  class BiliVideo(IFrame):\n",
        "      def __init__(self, id, page=1, width=400, height=300, **kwargs):\n",
        "          self.id=id\n",
        "          src = 'https://player.bilibili.com/player.html?bvid={0}&page={1}'.format(id, page)\n",
        "          super(BiliVideo, self).__init__(src, width, height, **kwargs)\n",
        "\n",
        "  video = BiliVideo(id=\"BV1954y1n7uH\", width=854, height=480, fs=1)\n",
        "  print('Video available at https://www.bilibili.com/video/{0}'.format(video.id))\n",
        "  display(video)\n",
        "\n",
        "out1 = widgets.Output()\n",
        "with out1:\n",
        "  from IPython.display import YouTubeVideo\n",
        "  video = YouTubeVideo(id=\"tz9zsmTHR68\", width=854, height=480, fs=1, rel=0)\n",
        "  print('Video available at https://youtube.com/watch?v=' + video.id)\n",
        "  display(video)\n",
        "\n",
        "out = widgets.Tab([out1, out2])\n",
        "out.set_title(0, 'Youtube')\n",
        "out.set_title(1, 'Bilibili')\n",
        "\n",
        "display(out)"
      ],
      "execution_count": 19,
      "outputs": [
        {
          "output_type": "display_data",
          "data": {
            "application/vnd.jupyter.widget-view+json": {
              "model_id": "80713765d11f45ddabca074ff0d612d4",
              "version_minor": 0,
              "version_major": 2
            },
            "text/plain": [
              "Tab(children=(Output(), Output()), _titles={'0': 'Youtube', '1': 'Bilibili'})"
            ]
          },
          "metadata": {
            "tags": []
          }
        }
      ]
    },
    {
      "cell_type": "markdown",
      "metadata": {
        "execution": {},
        "id": "5h4DYORmqEgU"
      },
      "source": [
        "\n",
        "We will explore how to consider the expected utility of an action based on our belief (the posterior distribution) about where we think the fish are. Now we have all the components of a Bayesian decision: our prior information, the likelihood given a measurement, the posterior distribution (belief) and our utility (the gains and losses). This allows us to consider the relationship between the true value of the hidden state, $s$, and what we *expect* to get if we take action, $a$, based on our belief!\n",
        "\n",
        "Let's use the following widget to think about the relationship between these probability distributions and utility function."
      ]
    },
    {
      "cell_type": "markdown",
      "metadata": {
        "execution": {},
        "id": "V-bnEYk6qEgU"
      },
      "source": [
        "## Interactive Demo! 6: What is more important, the probabilities or the utilities?\n",
        "\n",
        "We are now going to put everything we've learned together to gain some intuitions for how each of the elements that goes into a Bayesian decision comes together. Remember, the common assumption in neuroscience, psychology, economics, ecology, etc. is that we (humans and animals) are tying to maximize our expected utility. There is a lot going on in this demo as it brings everything in this tutorial together in one place - please spend time making sure you understand the controls and the plots, especially how everything relates together.\n",
        "\n",
        "1. Can you find a situation where the expected utility is the same for both actions?\n",
        "2. What is more important for determining the expected utility: the prior or a new measurement (the likelihood)?\n",
        "3. Why is this a normative model?\n",
        "4. Can you think of ways in which this model would need to be extended to describe human or animal behavior?"
      ]
    },
    {
      "cell_type": "code",
      "metadata": {
        "cellView": "form",
        "execution": {},
        "id": "IffjI4pJqEgU",
        "outputId": "8e4ba3e4-fd74-41d2-9d20-edf13c98ed1f",
        "colab": {
          "base_uri": "https://localhost:8080/",
          "height": 663,
          "referenced_widgets": [
            "6c19d071602749249b0e633c488f5667",
            "39c40fbd62c547a58dc03077ea3bc1f2",
            "7705ffb337c742389bfa5706b28d8513",
            "4bb1c168414146e38cb971df065450fc",
            "be211f9830c842b2952aa8a4ad4c2024",
            "ea28b79a9585458194bd28270336d96d",
            "456b557e405e4173b7c1301cbdbfdf9b",
            "476896e44fe840bfa4aa7c3c1152cba2",
            "e5b216dc1bad483181fdc2b8407cecf1",
            "ef1612b94c2b4731840dc50087bc7639",
            "393898b66038444baebba1dce1d727d7",
            "d1cbd3eb2b2344ea904aa183441892e9",
            "e5e0d7461c4741879ca6c6902ef90a87",
            "ff6a948db29941f99420ea46ac69207d",
            "f735c9a1c7c54826ac822ae784eb290f",
            "cdedcf35b67d4738a9be51a5266b486d",
            "85ec06f2490b45d6a44af5a338e3496b",
            "ab62d1f7cf1d47a69623299db75d2ad0"
          ]
        }
      },
      "source": [
        "# @markdown Execute this cell to enable the widget\n",
        "# style = {'description_width': 'initial'}\n",
        "\n",
        "ps_widget = widgets.FloatSlider(0.3, description='p(s = left)',\n",
        "                                min=0.01, max=0.99, step=0.01, layout=Layout(width='300px'))\n",
        "p_a_s1_widget = widgets.FloatSlider(0.5, description='p(fish on left | state = left)',\n",
        "                                    min=0.01, max=0.99, step=0.01, style=style, layout=Layout(width='370px'))\n",
        "p_a_s0_widget = widgets.FloatSlider(0.1, description='p(fish on left | state = right)',\n",
        "                                    min=0.01, max=0.99, step=0.01, style=style, layout=Layout(width='370px'))\n",
        "\n",
        "observed_widget = ToggleButtons(options=['Fish', 'No Fish'],\n",
        "    description='Observation (m) on the left:', disabled=False, button_style='',\n",
        "    layout=Layout(width='auto', display=\"flex\"),\n",
        "    style={'description_width': 'initial'}\n",
        ")\n",
        "\n",
        "widget_ui = VBox([ps_widget,\n",
        "                  HBox([p_a_s1_widget, p_a_s0_widget]),\n",
        "                  observed_widget])\n",
        "\n",
        "widget_out = interactive_output(plot_prior_likelihood_utility,\n",
        "                                {'ps': ps_widget,\n",
        "                                'p_a_s1': p_a_s1_widget,\n",
        "                                'p_a_s0': p_a_s0_widget,\n",
        "                                'measurement': observed_widget})\n",
        "display(widget_ui, widget_out)\n",
        "\n",
        "# @widgets.interact(\n",
        "#     ps=ps_widget,\n",
        "#     p_a_s1=p_a_s1_widget,\n",
        "#     p_a_s0=p_a_s0_widget,\n",
        "#     m_right=observed_widget\n",
        "# )\n",
        "# def make_prior_likelihood_utility_plot(ps, p_a_s1, p_a_s0,m_right):\n",
        "#     fig = plot_prior_likelihood_utility(ps, p_a_s1, p_a_s0,m_right)\n",
        "#     plt.show(fig)\n",
        "#     plt.close(fig)\n",
        "#     return None"
      ],
      "execution_count": 20,
      "outputs": [
        {
          "output_type": "display_data",
          "data": {
            "application/vnd.jupyter.widget-view+json": {
              "model_id": "6c19d071602749249b0e633c488f5667",
              "version_minor": 0,
              "version_major": 2
            },
            "text/plain": [
              "VBox(children=(FloatSlider(value=0.3, description='p(s = left)', layout=Layout(width='300px'), max=0.99, min=0…"
            ]
          },
          "metadata": {
            "tags": []
          }
        },
        {
          "output_type": "display_data",
          "data": {
            "application/vnd.jupyter.widget-view+json": {
              "model_id": "85ec06f2490b45d6a44af5a338e3496b",
              "version_minor": 0,
              "version_major": 2
            },
            "text/plain": [
              "Output()"
            ]
          },
          "metadata": {
            "tags": []
          }
        }
      ]
    },
    {
      "cell_type": "code",
      "metadata": {
        "execution": {},
        "id": "k2Cx6lHNqEgU"
      },
      "source": [
        "# to_remove explanation\n",
        "\n",
        "\"\"\"\n",
        "1. There are actually many (infinite) combinations that can produce the same\n",
        "   expected utility for both actions: but the posterior probabilities will always\n",
        "   have to balance out the differences in the utility function. So, what is\n",
        "   important is that for a given utility function, there will be some 'point\n",
        "   of indifference'\n",
        "\n",
        "2. What matters is the relative information: if the prior is close to 50/50,\n",
        "   then the likelihood has more infuence, if the likelihood is 50/50 given a\n",
        "   measurement (the measurement is uninformative), the prior is more important.\n",
        "   But the critical insite from Bayes Rule and the Bayesian approach is that what\n",
        "   matters is the relative information you gain from a measurement, and that\n",
        "   you can use all of this information for your decision.\n",
        "\n",
        "3. The model gives us a very precise way to think about how we *should* combine\n",
        "   information and how we *should* act, GIVEN some assumption about our goals.\n",
        "   In this case, if we assume we are trying to maximize expected utility--we can\n",
        "   state what an animal or subject should do.\n",
        "\n",
        "4. There are lots of possible extensions. Humans may not always try to maximize\n",
        "   utility; humans and animals might not be able to calculate or represent probabiltiy\n",
        "   distributions exactly; The utility function might be more complicated; etc.\n",
        "\"\"\""
      ],
      "execution_count": null,
      "outputs": []
    },
    {
      "cell_type": "code",
      "metadata": {
        "cellView": "form",
        "execution": {},
        "id": "ya9UEbpHqEgU",
        "outputId": "81f81e17-321f-4dc7-fc56-bc2769c8b6d0",
        "colab": {
          "base_uri": "https://localhost:8080/",
          "height": 581,
          "referenced_widgets": [
            "c074238cd71f44abbd7b74cfb17273ce",
            "50c7176eff094e27b5f2920f9a70109b",
            "c0738e8902b7478ca026a0c8a5fcbf80",
            "5ccfe55638da473098fdfc8d9f647290",
            "3270eedc47cf4827a5d790550cb35506",
            "3881409e5f6b4a9cb4918d79de25fd6f"
          ]
        }
      },
      "source": [
        "# @title Video 10: Bayesian Decisions Demo Discussion\n",
        "from ipywidgets import widgets\n",
        "\n",
        "out2 = widgets.Output()\n",
        "with out2:\n",
        "  from IPython.display import IFrame\n",
        "  class BiliVideo(IFrame):\n",
        "      def __init__(self, id, page=1, width=400, height=300, **kwargs):\n",
        "          self.id=id\n",
        "          src = 'https://player.bilibili.com/player.html?bvid={0}&page={1}'.format(id, page)\n",
        "          super(BiliVideo, self).__init__(src, width, height, **kwargs)\n",
        "\n",
        "  video = BiliVideo(id=\"BV1QU4y137BS\", width=854, height=480, fs=1)\n",
        "  print('Video available at https://www.bilibili.com/video/{0}'.format(video.id))\n",
        "  display(video)\n",
        "\n",
        "out1 = widgets.Output()\n",
        "with out1:\n",
        "  from IPython.display import YouTubeVideo\n",
        "  video = YouTubeVideo(id=\"h9L0EYmUpHs\", width=854, height=480, fs=1, rel=0)\n",
        "  print('Video available at https://youtube.com/watch?v=' + video.id)\n",
        "  display(video)\n",
        "\n",
        "out = widgets.Tab([out1, out2])\n",
        "out.set_title(0, 'Youtube')\n",
        "out.set_title(1, 'Bilibili')\n",
        "\n",
        "display(out)"
      ],
      "execution_count": 21,
      "outputs": [
        {
          "output_type": "display_data",
          "data": {
            "application/vnd.jupyter.widget-view+json": {
              "model_id": "c074238cd71f44abbd7b74cfb17273ce",
              "version_minor": 0,
              "version_major": 2
            },
            "text/plain": [
              "Tab(children=(Output(), Output()), _titles={'0': 'Youtube', '1': 'Bilibili'})"
            ]
          },
          "metadata": {
            "tags": []
          }
        }
      ]
    },
    {
      "cell_type": "markdown",
      "metadata": {
        "execution": {},
        "id": "fJuwtBZEqEgV"
      },
      "source": [
        "---\n",
        "# Summary\n",
        "\n",
        "*Estimated timing of tutorial: 1 hour, 30 minutes*\n",
        "\n",
        "In this tutorial, you learned about combining prior information with new measurements to update your knowledge using Bayes Rule, in the context of a fishing problem. \n",
        "\n",
        "Specifically, we covered:\n",
        "\n",
        "* That the likelihood is the probability of the measurement given some hidden state\n",
        "\n",
        "* That how the prior and likelihood interact to create the posterior, the probability of the hidden state given a measurement, depends on how they covary\n",
        "\n",
        "* That utility is the gain from each action and state pair, and the expected utility for an action is the sum of the utility for all state pairs, weighted by the probability of that state happening. You can then choose the action with highest expected utility.\n"
      ]
    },
    {
      "cell_type": "markdown",
      "metadata": {
        "execution": {},
        "id": "TIxqfFAKqEgV"
      },
      "source": [
        "---\n",
        "# Bonus"
      ]
    },
    {
      "cell_type": "markdown",
      "metadata": {
        "execution": {},
        "id": "u1FiJmNtqEgV"
      },
      "source": [
        "## Bonus Section 1: Correlation Formula\n",
        "To understand the way we calculate the correlation, we need to review the definition of covariance and correlation.\n",
        "\n",
        "Covariance:\n",
        "\n",
        "$$\n",
        "cov(X,Y) = \\sigma_{XY} = E[(X - \\mu_{x})(Y - \\mu_{y})] = E[X]E[Y] - \\mu_{x}\\mu_{y}\n",
        "$$\n",
        "\n",
        "Correlation:\n",
        "\n",
        "$$\n",
        "\\rho_{XY} = \\frac{cov(Y,Y)}{\\sqrt{V(X)V(Y)}} = \\frac{\\sigma_{XY}}{\\sigma_{X}\\sigma_{Y}}\n",
        "$$"
      ]
    }
  ]
}